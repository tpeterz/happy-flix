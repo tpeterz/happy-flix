{
 "cells": [
  {
   "cell_type": "markdown",
   "metadata": {
    "id": "ceiwzxvx3kaZ"
   },
   "source": [
    "# Recommendation Tool Creation\n",
    "# Integrating with Gradio interface\n",
    "---\n",
    "This Colab Notebook reads in the csv file that contains all movies that"
   ]
  },
  {
   "cell_type": "code",
   "execution_count": null,
   "metadata": {
    "id": "xkAVcJvK3OkW"
   },
   "outputs": [],
   "source": [
    "!pip install pandas\n",
    "!pip install gradio"
   ]
  },
  {
   "cell_type": "code",
   "execution_count": 10,
   "metadata": {
    "executionInfo": {
     "elapsed": 1746,
     "status": "ok",
     "timestamp": 1713740501843,
     "user": {
      "displayName": "Taylor Peterson",
      "userId": "09176998156774258520"
     },
     "user_tz": 240
    },
    "id": "AWN5a1ld3ioA"
   },
   "outputs": [],
   "source": [
    "import gradio as gr\n",
    "import pandas as pd\n",
    "\n",
    "# Read the recommendation_ready.csv file into the dataframe for use\n",
    "movie_predictions_df = pd.read_csv(\"recommendation_ready.csv\")"
   ]
  },
  {
   "cell_type": "code",
   "execution_count": 11,
   "metadata": {
    "id": "4tVq5GJa3iqX"
   },
   "outputs": [
    {
     "data": {
      "text/html": [
       "<div>\n",
       "<style scoped>\n",
       "    .dataframe tbody tr th:only-of-type {\n",
       "        vertical-align: middle;\n",
       "    }\n",
       "\n",
       "    .dataframe tbody tr th {\n",
       "        vertical-align: top;\n",
       "    }\n",
       "\n",
       "    .dataframe thead th {\n",
       "        text-align: right;\n",
       "    }\n",
       "</style>\n",
       "<table border=\"1\" class=\"dataframe\">\n",
       "  <thead>\n",
       "    <tr style=\"text-align: right;\">\n",
       "      <th></th>\n",
       "      <th>Unnamed: 0</th>\n",
       "      <th>genre_ids</th>\n",
       "      <th>movie_id</th>\n",
       "      <th>popularity</th>\n",
       "      <th>release_date</th>\n",
       "      <th>title</th>\n",
       "      <th>clean_reviews</th>\n",
       "      <th>type_Action</th>\n",
       "      <th>type_Adventure</th>\n",
       "      <th>type_Animation</th>\n",
       "      <th>...</th>\n",
       "      <th>label</th>\n",
       "      <th>score</th>\n",
       "      <th>anger</th>\n",
       "      <th>disgust</th>\n",
       "      <th>fear</th>\n",
       "      <th>joy</th>\n",
       "      <th>neutral</th>\n",
       "      <th>sadness</th>\n",
       "      <th>surprise</th>\n",
       "      <th>poster_path</th>\n",
       "    </tr>\n",
       "  </thead>\n",
       "  <tbody>\n",
       "    <tr>\n",
       "      <th>0</th>\n",
       "      <td>0</td>\n",
       "      <td>[878, 12]</td>\n",
       "      <td>693134</td>\n",
       "      <td>4534.956</td>\n",
       "      <td>2024-02-27</td>\n",
       "      <td>Dune: Part Two</td>\n",
       "      <td>dune part two surpasses even highest expectati...</td>\n",
       "      <td>0</td>\n",
       "      <td>1</td>\n",
       "      <td>0</td>\n",
       "      <td>...</td>\n",
       "      <td>joy</td>\n",
       "      <td>0.934813</td>\n",
       "      <td>0.002814</td>\n",
       "      <td>0.001023</td>\n",
       "      <td>0.005133</td>\n",
       "      <td>0.934813</td>\n",
       "      <td>0.037235</td>\n",
       "      <td>0.002196</td>\n",
       "      <td>0.016785</td>\n",
       "      <td>/1pdfLvkbY9ohJlCjQH2CZjjYVvJ.jpg</td>\n",
       "    </tr>\n",
       "    <tr>\n",
       "      <th>1</th>\n",
       "      <td>1</td>\n",
       "      <td>[16, 28, 12, 35, 10751]</td>\n",
       "      <td>1011985</td>\n",
       "      <td>3214.314</td>\n",
       "      <td>2024-03-02</td>\n",
       "      <td>Kung Fu Panda 4</td>\n",
       "      <td>kung fu panda isnt best kung fu panda film eve...</td>\n",
       "      <td>1</td>\n",
       "      <td>1</td>\n",
       "      <td>1</td>\n",
       "      <td>...</td>\n",
       "      <td>sadness</td>\n",
       "      <td>0.598701</td>\n",
       "      <td>0.002053</td>\n",
       "      <td>0.006893</td>\n",
       "      <td>0.003863</td>\n",
       "      <td>0.068874</td>\n",
       "      <td>0.242003</td>\n",
       "      <td>0.598701</td>\n",
       "      <td>0.077614</td>\n",
       "      <td>/f7QBvIzoWSJw3jWPGnZBc5vwQ0l.jpg</td>\n",
       "    </tr>\n",
       "    <tr>\n",
       "      <th>2</th>\n",
       "      <td>2</td>\n",
       "      <td>[28, 878, 12, 14]</td>\n",
       "      <td>823464</td>\n",
       "      <td>2297.340</td>\n",
       "      <td>2024-03-27</td>\n",
       "      <td>Godzilla x Kong: The New Empire</td>\n",
       "      <td>godzilla x kong new empire version previous in...</td>\n",
       "      <td>1</td>\n",
       "      <td>1</td>\n",
       "      <td>0</td>\n",
       "      <td>...</td>\n",
       "      <td>neutral</td>\n",
       "      <td>0.559732</td>\n",
       "      <td>0.173443</td>\n",
       "      <td>0.093400</td>\n",
       "      <td>0.059591</td>\n",
       "      <td>0.041290</td>\n",
       "      <td>0.559732</td>\n",
       "      <td>0.035302</td>\n",
       "      <td>0.037241</td>\n",
       "      <td>/tMefBSflR6PGQLv7WvFPpKLZkyk.jpg</td>\n",
       "    </tr>\n",
       "    <tr>\n",
       "      <th>3</th>\n",
       "      <td>3</td>\n",
       "      <td>[28, 53]</td>\n",
       "      <td>359410</td>\n",
       "      <td>1134.726</td>\n",
       "      <td>2024-03-08</td>\n",
       "      <td>Road House</td>\n",
       "      <td>poor scenario story add ending also convincing...</td>\n",
       "      <td>1</td>\n",
       "      <td>0</td>\n",
       "      <td>0</td>\n",
       "      <td>...</td>\n",
       "      <td>joy</td>\n",
       "      <td>0.893423</td>\n",
       "      <td>0.002555</td>\n",
       "      <td>0.003341</td>\n",
       "      <td>0.002124</td>\n",
       "      <td>0.893423</td>\n",
       "      <td>0.077729</td>\n",
       "      <td>0.005483</td>\n",
       "      <td>0.015345</td>\n",
       "      <td>/bXi6IQiQDHD00JFio5ZSZOeRSBh.jpg</td>\n",
       "    </tr>\n",
       "    <tr>\n",
       "      <th>4</th>\n",
       "      <td>4</td>\n",
       "      <td>[28, 14]</td>\n",
       "      <td>634492</td>\n",
       "      <td>921.140</td>\n",
       "      <td>2024-02-14</td>\n",
       "      <td>Madame Web</td>\n",
       "      <td>start heavily pregnant woman deep peruvian jun...</td>\n",
       "      <td>1</td>\n",
       "      <td>0</td>\n",
       "      <td>0</td>\n",
       "      <td>...</td>\n",
       "      <td>neutral</td>\n",
       "      <td>0.433036</td>\n",
       "      <td>0.070495</td>\n",
       "      <td>0.246801</td>\n",
       "      <td>0.108896</td>\n",
       "      <td>0.004469</td>\n",
       "      <td>0.433036</td>\n",
       "      <td>0.016794</td>\n",
       "      <td>0.119508</td>\n",
       "      <td>/rULWuutDcN5NvtiZi4FRPzRYWSh.jpg</td>\n",
       "    </tr>\n",
       "  </tbody>\n",
       "</table>\n",
       "<p>5 rows × 44 columns</p>\n",
       "</div>"
      ],
      "text/plain": [
       "   Unnamed: 0                genre_ids  movie_id  popularity release_date  \\\n",
       "0           0                [878, 12]    693134    4534.956   2024-02-27   \n",
       "1           1  [16, 28, 12, 35, 10751]   1011985    3214.314   2024-03-02   \n",
       "2           2        [28, 878, 12, 14]    823464    2297.340   2024-03-27   \n",
       "3           3                 [28, 53]    359410    1134.726   2024-03-08   \n",
       "4           4                 [28, 14]    634492     921.140   2024-02-14   \n",
       "\n",
       "                             title  \\\n",
       "0                   Dune: Part Two   \n",
       "1                  Kung Fu Panda 4   \n",
       "2  Godzilla x Kong: The New Empire   \n",
       "3                       Road House   \n",
       "4                       Madame Web   \n",
       "\n",
       "                                       clean_reviews  type_Action  \\\n",
       "0  dune part two surpasses even highest expectati...            0   \n",
       "1  kung fu panda isnt best kung fu panda film eve...            1   \n",
       "2  godzilla x kong new empire version previous in...            1   \n",
       "3  poor scenario story add ending also convincing...            1   \n",
       "4  start heavily pregnant woman deep peruvian jun...            1   \n",
       "\n",
       "   type_Adventure  type_Animation  ...    label     score     anger   disgust  \\\n",
       "0               1               0  ...      joy  0.934813  0.002814  0.001023   \n",
       "1               1               1  ...  sadness  0.598701  0.002053  0.006893   \n",
       "2               1               0  ...  neutral  0.559732  0.173443  0.093400   \n",
       "3               0               0  ...      joy  0.893423  0.002555  0.003341   \n",
       "4               0               0  ...  neutral  0.433036  0.070495  0.246801   \n",
       "\n",
       "       fear       joy   neutral   sadness  surprise  \\\n",
       "0  0.005133  0.934813  0.037235  0.002196  0.016785   \n",
       "1  0.003863  0.068874  0.242003  0.598701  0.077614   \n",
       "2  0.059591  0.041290  0.559732  0.035302  0.037241   \n",
       "3  0.002124  0.893423  0.077729  0.005483  0.015345   \n",
       "4  0.108896  0.004469  0.433036  0.016794  0.119508   \n",
       "\n",
       "                        poster_path  \n",
       "0  /1pdfLvkbY9ohJlCjQH2CZjjYVvJ.jpg  \n",
       "1  /f7QBvIzoWSJw3jWPGnZBc5vwQ0l.jpg  \n",
       "2  /tMefBSflR6PGQLv7WvFPpKLZkyk.jpg  \n",
       "3  /bXi6IQiQDHD00JFio5ZSZOeRSBh.jpg  \n",
       "4  /rULWuutDcN5NvtiZi4FRPzRYWSh.jpg  \n",
       "\n",
       "[5 rows x 44 columns]"
      ]
     },
     "execution_count": 11,
     "metadata": {},
     "output_type": "execute_result"
    }
   ],
   "source": [
    "movie_predictions_df.head()"
   ]
  },
  {
   "cell_type": "code",
   "execution_count": 12,
   "metadata": {
    "colab": {
     "base_uri": "https://localhost:8080/"
    },
    "executionInfo": {
     "elapsed": 154,
     "status": "ok",
     "timestamp": 1713740778028,
     "user": {
      "displayName": "Taylor Peterson",
      "userId": "09176998156774258520"
     },
     "user_tz": 240
    },
    "id": "iZOAEQ0k4v0U",
    "outputId": "53d7ef51-6f54-4970-da69-51d35a0b2cad"
   },
   "outputs": [
    {
     "name": "stdout",
     "output_type": "stream",
     "text": [
      "<class 'pandas.core.frame.DataFrame'>\n",
      "RangeIndex: 6123 entries, 0 to 6122\n",
      "Data columns (total 44 columns):\n",
      " #   Column                Non-Null Count  Dtype  \n",
      "---  ------                --------------  -----  \n",
      " 0   Unnamed: 0            6123 non-null   int64  \n",
      " 1   genre_ids             6123 non-null   object \n",
      " 2   movie_id              6123 non-null   int64  \n",
      " 3   popularity            6123 non-null   float64\n",
      " 4   release_date          6123 non-null   object \n",
      " 5   title                 6123 non-null   object \n",
      " 6   clean_reviews         6122 non-null   object \n",
      " 7   type_Action           6123 non-null   int64  \n",
      " 8   type_Adventure        6123 non-null   int64  \n",
      " 9   type_Animation        6123 non-null   int64  \n",
      " 10  type_Comedy           6123 non-null   int64  \n",
      " 11  type_Crime            6123 non-null   int64  \n",
      " 12  type_Documentary      6123 non-null   int64  \n",
      " 13  type_Drama            6123 non-null   int64  \n",
      " 14  type_Family           6123 non-null   int64  \n",
      " 15  type_Fantasy          6123 non-null   int64  \n",
      " 16  type_History          6123 non-null   int64  \n",
      " 17  type_Horror           6123 non-null   int64  \n",
      " 18  type_Music            6123 non-null   int64  \n",
      " 19  type_Mystery          6123 non-null   int64  \n",
      " 20  type_Romance          6123 non-null   int64  \n",
      " 21  type_Science Fiction  6123 non-null   int64  \n",
      " 22  type_TV Movie         6123 non-null   int64  \n",
      " 23  type_Thriller         6123 non-null   int64  \n",
      " 24  type_War              6123 non-null   int64  \n",
      " 25  type_Western          6123 non-null   int64  \n",
      " 26  clean_overviews       6123 non-null   object \n",
      " 27  release_year          6123 non-null   int64  \n",
      " 28  lemmatized_overviews  6123 non-null   object \n",
      " 29  adjective_counts      6123 non-null   object \n",
      " 30  lemmatized_reviews    6123 non-null   object \n",
      " 31  sentiment             6123 non-null   int64  \n",
      " 32  text                  6123 non-null   object \n",
      " 33  pred                  6123 non-null   int64  \n",
      " 34  label                 6123 non-null   object \n",
      " 35  score                 6123 non-null   float64\n",
      " 36  anger                 6123 non-null   float64\n",
      " 37  disgust               6123 non-null   float64\n",
      " 38  fear                  6123 non-null   float64\n",
      " 39  joy                   6123 non-null   float64\n",
      " 40  neutral               6123 non-null   float64\n",
      " 41  sadness               6123 non-null   float64\n",
      " 42  surprise              6123 non-null   float64\n",
      " 43  poster_path           6119 non-null   object \n",
      "dtypes: float64(9), int64(24), object(11)\n",
      "memory usage: 2.1+ MB\n"
     ]
    }
   ],
   "source": [
    "movie_predictions_df.info()"
   ]
  },
  {
   "cell_type": "code",
   "execution_count": 10,
   "metadata": {
    "colab": {
     "base_uri": "https://localhost:8080/"
    },
    "executionInfo": {
     "elapsed": 2,
     "status": "ok",
     "timestamp": 1713741356801,
     "user": {
      "displayName": "Taylor Peterson",
      "userId": "09176998156774258520"
     },
     "user_tz": 240
    },
    "id": "gpk4we5r8dYN",
    "outputId": "5114326b-6dac-41e2-cf5b-3132cc8144b3"
   },
   "outputs": [
    {
     "name": "stdout",
     "output_type": "stream",
     "text": [
      "['Emotions: Neutral\\n', 'Genres: Comedy, Adventure, Action\\n']\n"
     ]
    }
   ],
   "source": [
    "# with open('movie_output.txt', 'r') as f:\n",
    "#     lines = f.readlines()\n",
    "\n",
    "# print(lines)"
   ]
  },
  {
   "cell_type": "code",
   "execution_count": 5,
   "metadata": {
    "colab": {
     "base_uri": "https://localhost:8080/"
    },
    "executionInfo": {
     "elapsed": 143,
     "status": "ok",
     "timestamp": 1713742042687,
     "user": {
      "displayName": "Taylor Peterson",
      "userId": "09176998156774258520"
     },
     "user_tz": 240
    },
    "id": "A1i8B2Fi-iPz",
    "outputId": "b083c5a4-1d32-4267-d2f0-f3ed4ec50a79"
   },
   "outputs": [
    {
     "ename": "KeyError",
     "evalue": "'id'",
     "output_type": "error",
     "traceback": [
      "\u001b[1;31m---------------------------------------------------------------------------\u001b[0m",
      "\u001b[1;31mKeyError\u001b[0m                                  Traceback (most recent call last)",
      "Cell \u001b[1;32mIn[5], line 70\u001b[0m\n\u001b[0;32m     68\u001b[0m \u001b[38;5;66;03m# Print the recommendations\u001b[39;00m\n\u001b[0;32m     69\u001b[0m \u001b[38;5;28;01mfor\u001b[39;00m rec \u001b[38;5;129;01min\u001b[39;00m recommendations:\n\u001b[1;32m---> 70\u001b[0m     \u001b[38;5;28mprint\u001b[39m(\u001b[38;5;124mf\u001b[39m\u001b[38;5;124m\"\u001b[39m\u001b[38;5;124mMovie ID: \u001b[39m\u001b[38;5;132;01m{\u001b[39;00mrec[\u001b[38;5;124m'\u001b[39m\u001b[38;5;124mid\u001b[39m\u001b[38;5;124m'\u001b[39m]\u001b[38;5;132;01m}\u001b[39;00m\u001b[38;5;124m, Title: \u001b[39m\u001b[38;5;132;01m{\u001b[39;00mrec[\u001b[38;5;124m'\u001b[39m\u001b[38;5;124mtitle\u001b[39m\u001b[38;5;124m'\u001b[39m]\u001b[38;5;132;01m}\u001b[39;00m\u001b[38;5;124m, Poster URL: \u001b[39m\u001b[38;5;132;01m{\u001b[39;00mrec[\u001b[38;5;124m'\u001b[39m\u001b[38;5;124mposter_url\u001b[39m\u001b[38;5;124m'\u001b[39m]\u001b[38;5;132;01m}\u001b[39;00m\u001b[38;5;124m, Emotion: \u001b[39m\u001b[38;5;132;01m{\u001b[39;00mrec[\u001b[38;5;124m'\u001b[39m\u001b[38;5;124memotion\u001b[39m\u001b[38;5;124m'\u001b[39m]\u001b[38;5;132;01m}\u001b[39;00m\u001b[38;5;124m, Genres: \u001b[39m\u001b[38;5;132;01m{\u001b[39;00mrec[\u001b[38;5;124m'\u001b[39m\u001b[38;5;124mgenres\u001b[39m\u001b[38;5;124m'\u001b[39m]\u001b[38;5;132;01m}\u001b[39;00m\u001b[38;5;124m\"\u001b[39m)\n",
      "\u001b[1;31mKeyError\u001b[0m: 'id'"
     ]
    }
   ],
   "source": [
    "import pandas as pd\n",
    "\n",
    "def recommend_movies(file):\n",
    "    # Read the file and parse the emotion and genres\n",
    "    with open(file.name, 'r') as f:\n",
    "        lines = f.readlines()\n",
    "\n",
    "    # Extract emotion and genres from the file content\n",
    "    emotion = lines[0].split(': ')[1].strip().lower() # Convert emotion to lowercase\n",
    "    genres = [genre.strip().lower() for genre in lines[1].split(': ')[1].strip().split(', ')] # Convert each genre to lowercase\n",
    "\n",
    "    # Filter movies based on the predicted emotion\n",
    "    emotion_movies = movie_predictions_df[movie_predictions_df['label'].str.lower() == emotion]\n",
    "\n",
    "    base_url = \"https://image.tmdb.org/t/p/\"\n",
    "    file_size = \"w300\"\n",
    "\n",
    "\n",
    "    # If no movies match the emotion, return a message\n",
    "    if emotion_movies.empty:\n",
    "        return [{\"message\": \"No movies match your emotion preference.\"}]\n",
    "\n",
    "    # Further filter movies based on the selected genres\n",
    "    genre_movies = emotion_movies.copy()\n",
    "    for genre in genres:\n",
    "        # Adjust the genre name to match the DataFrame column format\n",
    "        genre_column = f\"type_{genre.capitalize().replace(' ', '_')}\"\n",
    "        genre_movies = genre_movies[genre_movies[genre_column] == 1]\n",
    "\n",
    "    # If no movies match the genres, return a message\n",
    "    if genre_movies.empty:\n",
    "        return [{\"message\": \"No movies match your genre preferences.\"}]\n",
    "\n",
    "    # Rank movies based on the number of criteria they match and emotion score\n",
    "    ranked_movies = []\n",
    "    for index, row in genre_movies.iterrows():\n",
    "        # Add the emotion score to the match count\n",
    "        match_count = row[emotion]\n",
    "\n",
    "        # Construct the poster URL\n",
    "        poster_url = f\"{base_url}{file_size}{row['poster_path']}\"\n",
    "        # Add the movie to the ranked list\n",
    "        ranked_movies.append((row['movie_id'], row['title'], poster_url, match_count))\n",
    "\n",
    "    # Sort the ranked list by match count (descending)\n",
    "    ranked_movies.sort(key=lambda x: x[3], reverse=True)\n",
    "\n",
    "    # Select the top 3 movies\n",
    "    top_movies = ranked_movies[:3]\n",
    "\n",
    "    # Format the recommendations for display\n",
    "    recommendations = [{\n",
    "        \"id\": movie[0],\n",
    "        \"title\": movie[1],\n",
    "        \"poster_url\": movie[2],\n",
    "        \"overview\": movie[4],\n",
    "        \"emotion\": emotion.capitalize(),\n",
    "        \"genres\": \", \".join(genres)\n",
    "    } for movie in top_movies]\n",
    "\n",
    "    return recommendations\n",
    "\n",
    "# Example usage\n",
    "# Assuming the file 'movie_output.txt' is in the same directory as this script\n",
    "with open('movie_output.txt', 'r') as file:\n",
    "    recommendations = recommend_movies(file)\n",
    "\n",
    "# Print the recommendations\n",
    "for rec in recommendations:\n",
    "    print(f\"Movie ID: {rec['id']}, Title: {rec['title']}, Poster URL: {rec['poster_url']}, Emotion: {rec['emotion']}, Genres: {rec['genres']}\")\n"
   ]
  },
  {
   "cell_type": "code",
   "execution_count": 6,
   "metadata": {
    "id": "Ugw5T5-4NqnN"
   },
   "outputs": [
    {
     "name": "stdout",
     "output_type": "stream",
     "text": [
      "dict_keys(['message'])\n"
     ]
    }
   ],
   "source": [
    "print(recommendations[0].keys())"
   ]
  },
  {
   "cell_type": "code",
   "execution_count": null,
   "metadata": {
    "id": "XAgbyhQCNqsq"
   },
   "outputs": [],
   "source": []
  },
  {
   "cell_type": "code",
   "execution_count": null,
   "metadata": {
    "id": "Nl31mbI5Nquu"
   },
   "outputs": [],
   "source": []
  },
  {
   "cell_type": "code",
   "execution_count": 4,
   "metadata": {
    "executionInfo": {
     "elapsed": 136,
     "status": "ok",
     "timestamp": 1713740235274,
     "user": {
      "displayName": "Taylor Peterson",
      "userId": "09176998156774258520"
     },
     "user_tz": 240
    },
    "id": "nd8_XS4cNqx0"
   },
   "outputs": [],
   "source": [
    "# movie_output.txt"
   ]
  },
  {
   "cell_type": "code",
   "execution_count": 8,
   "metadata": {
    "executionInfo": {
     "elapsed": 135,
     "status": "ok",
     "timestamp": 1713741166108,
     "user": {
      "displayName": "Taylor Peterson",
      "userId": "09176998156774258520"
     },
     "user_tz": 240
    },
    "id": "fMc6rErCxJLT"
   },
   "outputs": [],
   "source": [
    "# line 1 emotions:[]\n",
    "# line 2 genres:[]"
   ]
  },
  {
   "cell_type": "code",
   "execution_count": null,
   "metadata": {
    "id": "T1iTc3MpxLKp"
   },
   "outputs": [],
   "source": []
  }
 ],
 "metadata": {
  "colab": {
   "authorship_tag": "ABX9TyNJtcZs/l0kmSijHiVucr5T",
   "provenance": [
    {
     "file_id": "https://github.com/tpeterz/happy-flix/blob/TAP/Gradio_Interface.ipynb",
     "timestamp": 1713732082289
    }
   ]
  },
  "kernelspec": {
   "display_name": "Python 3 (ipykernel)",
   "language": "python",
   "name": "python3"
  },
  "language_info": {
   "codemirror_mode": {
    "name": "ipython",
    "version": 3
   },
   "file_extension": ".py",
   "mimetype": "text/x-python",
   "name": "python",
   "nbconvert_exporter": "python",
   "pygments_lexer": "ipython3",
   "version": "3.10.13"
  }
 },
 "nbformat": 4,
 "nbformat_minor": 1
}
