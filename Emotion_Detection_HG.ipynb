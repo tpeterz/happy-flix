{
  "nbformat": 4,
  "nbformat_minor": 0,
  "metadata": {
    "colab": {
      "provenance": [],
      "authorship_tag": "ABX9TyMOnXNzke4KFkQanf2lG/Rh",
      "include_colab_link": true
    },
    "kernelspec": {
      "name": "python3",
      "display_name": "Python 3"
    },
    "language_info": {
      "name": "python"
    }
  },
  "cells": [
    {
      "cell_type": "markdown",
      "metadata": {
        "id": "view-in-github",
        "colab_type": "text"
      },
      "source": [
        "<a href=\"https://colab.research.google.com/github/tpeterz/happy-flix/blob/TAP/Emotion_Detection_HG.ipynb\" target=\"_parent\"><img src=\"https://colab.research.google.com/assets/colab-badge.svg\" alt=\"Open In Colab\"/></a>"
      ]
    },
    {
      "cell_type": "markdown",
      "source": [
        "# This program was ran in a Google Colab Notebook\n",
        "# Model from HuggingFace:\n",
        "* Jochen Hartmann: [Emotion English DistilRoBERTa-base](https://huggingface.co/j-hartmann/emotion-english-distilroberta-base/), 2022.\n",
        "---\n",
        "### While in Google Colab\n",
        "- You may need to add a 'Secret Key' to store your personal HuggingFace token to use this (and most) models.\n",
        "- On the left sidebar, above the 'Files' tab (Folder icon), there is a key icon. This is where you can create a new secret key, 'HF_TOKEN', where you assign the value portion to your personal and private token from [HuggingFace Tokens](https://huggingface.co/settings/tokens).\n",
        "\n"
      ],
      "metadata": {
        "id": "4TmQE7W00W8w"
      }
    },
    {
      "cell_type": "code",
      "source": [
        "# Ran in colab\n",
        "!pip install transformers datasets"
      ],
      "metadata": {
        "colab": {
          "base_uri": "https://localhost:8080/"
        },
        "id": "qfJ9oWnwppDv",
        "outputId": "cd55835b-7a7e-407c-e69c-c92935f2d2dc"
      },
      "execution_count": 1,
      "outputs": [
        {
          "output_type": "stream",
          "name": "stdout",
          "text": [
            "Requirement already satisfied: transformers in /usr/local/lib/python3.10/dist-packages (4.40.0)\n",
            "Requirement already satisfied: datasets in /usr/local/lib/python3.10/dist-packages (2.19.0)\n",
            "Requirement already satisfied: filelock in /usr/local/lib/python3.10/dist-packages (from transformers) (3.13.4)\n",
            "Requirement already satisfied: huggingface-hub<1.0,>=0.19.3 in /usr/local/lib/python3.10/dist-packages (from transformers) (0.22.2)\n",
            "Requirement already satisfied: numpy>=1.17 in /usr/local/lib/python3.10/dist-packages (from transformers) (1.25.2)\n",
            "Requirement already satisfied: packaging>=20.0 in /usr/local/lib/python3.10/dist-packages (from transformers) (24.0)\n",
            "Requirement already satisfied: pyyaml>=5.1 in /usr/local/lib/python3.10/dist-packages (from transformers) (6.0.1)\n",
            "Requirement already satisfied: regex!=2019.12.17 in /usr/local/lib/python3.10/dist-packages (from transformers) (2023.12.25)\n",
            "Requirement already satisfied: requests in /usr/local/lib/python3.10/dist-packages (from transformers) (2.31.0)\n",
            "Requirement already satisfied: tokenizers<0.20,>=0.19 in /usr/local/lib/python3.10/dist-packages (from transformers) (0.19.1)\n",
            "Requirement already satisfied: safetensors>=0.4.1 in /usr/local/lib/python3.10/dist-packages (from transformers) (0.4.3)\n",
            "Requirement already satisfied: tqdm>=4.27 in /usr/local/lib/python3.10/dist-packages (from transformers) (4.66.2)\n",
            "Requirement already satisfied: pyarrow>=12.0.0 in /usr/local/lib/python3.10/dist-packages (from datasets) (14.0.2)\n",
            "Requirement already satisfied: pyarrow-hotfix in /usr/local/lib/python3.10/dist-packages (from datasets) (0.6)\n",
            "Requirement already satisfied: dill<0.3.9,>=0.3.0 in /usr/local/lib/python3.10/dist-packages (from datasets) (0.3.8)\n",
            "Requirement already satisfied: pandas in /usr/local/lib/python3.10/dist-packages (from datasets) (2.0.3)\n",
            "Requirement already satisfied: xxhash in /usr/local/lib/python3.10/dist-packages (from datasets) (3.4.1)\n",
            "Requirement already satisfied: multiprocess in /usr/local/lib/python3.10/dist-packages (from datasets) (0.70.16)\n",
            "Requirement already satisfied: fsspec[http]<=2024.3.1,>=2023.1.0 in /usr/local/lib/python3.10/dist-packages (from datasets) (2023.6.0)\n",
            "Requirement already satisfied: aiohttp in /usr/local/lib/python3.10/dist-packages (from datasets) (3.9.5)\n",
            "Requirement already satisfied: aiosignal>=1.1.2 in /usr/local/lib/python3.10/dist-packages (from aiohttp->datasets) (1.3.1)\n",
            "Requirement already satisfied: attrs>=17.3.0 in /usr/local/lib/python3.10/dist-packages (from aiohttp->datasets) (23.2.0)\n",
            "Requirement already satisfied: frozenlist>=1.1.1 in /usr/local/lib/python3.10/dist-packages (from aiohttp->datasets) (1.4.1)\n",
            "Requirement already satisfied: multidict<7.0,>=4.5 in /usr/local/lib/python3.10/dist-packages (from aiohttp->datasets) (6.0.5)\n",
            "Requirement already satisfied: yarl<2.0,>=1.0 in /usr/local/lib/python3.10/dist-packages (from aiohttp->datasets) (1.9.4)\n",
            "Requirement already satisfied: async-timeout<5.0,>=4.0 in /usr/local/lib/python3.10/dist-packages (from aiohttp->datasets) (4.0.3)\n",
            "Requirement already satisfied: typing-extensions>=3.7.4.3 in /usr/local/lib/python3.10/dist-packages (from huggingface-hub<1.0,>=0.19.3->transformers) (4.11.0)\n",
            "Requirement already satisfied: charset-normalizer<4,>=2 in /usr/local/lib/python3.10/dist-packages (from requests->transformers) (3.3.2)\n",
            "Requirement already satisfied: idna<4,>=2.5 in /usr/local/lib/python3.10/dist-packages (from requests->transformers) (3.7)\n",
            "Requirement already satisfied: urllib3<3,>=1.21.1 in /usr/local/lib/python3.10/dist-packages (from requests->transformers) (2.0.7)\n",
            "Requirement already satisfied: certifi>=2017.4.17 in /usr/local/lib/python3.10/dist-packages (from requests->transformers) (2024.2.2)\n",
            "Requirement already satisfied: python-dateutil>=2.8.2 in /usr/local/lib/python3.10/dist-packages (from pandas->datasets) (2.8.2)\n",
            "Requirement already satisfied: pytz>=2020.1 in /usr/local/lib/python3.10/dist-packages (from pandas->datasets) (2023.4)\n",
            "Requirement already satisfied: tzdata>=2022.1 in /usr/local/lib/python3.10/dist-packages (from pandas->datasets) (2024.1)\n",
            "Requirement already satisfied: six>=1.5 in /usr/local/lib/python3.10/dist-packages (from python-dateutil>=2.8.2->pandas->datasets) (1.16.0)\n"
          ]
        }
      ]
    },
    {
      "cell_type": "code",
      "source": [
        "import pandas as pd\n",
        "import re\n",
        "from emoji import demojize\n",
        "from transformers import AutoTokenizer, AutoModelForSequenceClassification, Trainer\n",
        "from tqdm import tqdm"
      ],
      "metadata": {
        "id": "b9N5ZPiwtjcJ"
      },
      "execution_count": 3,
      "outputs": []
    },
    {
      "cell_type": "code",
      "source": [
        "# import required packages\n",
        "import torch\n",
        "import pandas as pd\n",
        "import numpy as np\n",
        "from transformers import AutoTokenizer, AutoModelForSequenceClassification, Trainer\n",
        "\n",
        "# Create class for data preparation\n",
        "class SimpleDataset:\n",
        "    def __init__(self, tokenized_texts):\n",
        "        self.tokenized_texts = tokenized_texts\n",
        "\n",
        "    def __len__(self):\n",
        "        return len(self.tokenized_texts[\"input_ids\"])\n",
        "\n",
        "    def __getitem__(self, idx):\n",
        "        return {k: v[idx] for k, v in self.tokenized_texts.items()}"
      ],
      "metadata": {
        "id": "D4FU7Fmi0fS4"
      },
      "execution_count": 4,
      "outputs": []
    },
    {
      "cell_type": "code",
      "source": [
        "!pip install accelerate -U"
      ],
      "metadata": {
        "colab": {
          "base_uri": "https://localhost:8080/"
        },
        "id": "C8I00qBs48cM",
        "outputId": "a7c560f9-41f4-4e53-ad3c-760a2ffc1079"
      },
      "execution_count": 5,
      "outputs": [
        {
          "output_type": "stream",
          "name": "stdout",
          "text": [
            "Requirement already satisfied: accelerate in /usr/local/lib/python3.10/dist-packages (0.29.3)\n",
            "Requirement already satisfied: numpy>=1.17 in /usr/local/lib/python3.10/dist-packages (from accelerate) (1.25.2)\n",
            "Requirement already satisfied: packaging>=20.0 in /usr/local/lib/python3.10/dist-packages (from accelerate) (24.0)\n",
            "Requirement already satisfied: psutil in /usr/local/lib/python3.10/dist-packages (from accelerate) (5.9.5)\n",
            "Requirement already satisfied: pyyaml in /usr/local/lib/python3.10/dist-packages (from accelerate) (6.0.1)\n",
            "Requirement already satisfied: torch>=1.10.0 in /usr/local/lib/python3.10/dist-packages (from accelerate) (2.2.1+cu121)\n",
            "Requirement already satisfied: huggingface-hub in /usr/local/lib/python3.10/dist-packages (from accelerate) (0.22.2)\n",
            "Requirement already satisfied: safetensors>=0.3.1 in /usr/local/lib/python3.10/dist-packages (from accelerate) (0.4.3)\n",
            "Requirement already satisfied: filelock in /usr/local/lib/python3.10/dist-packages (from torch>=1.10.0->accelerate) (3.13.4)\n",
            "Requirement already satisfied: typing-extensions>=4.8.0 in /usr/local/lib/python3.10/dist-packages (from torch>=1.10.0->accelerate) (4.11.0)\n",
            "Requirement already satisfied: sympy in /usr/local/lib/python3.10/dist-packages (from torch>=1.10.0->accelerate) (1.12)\n",
            "Requirement already satisfied: networkx in /usr/local/lib/python3.10/dist-packages (from torch>=1.10.0->accelerate) (3.3)\n",
            "Requirement already satisfied: jinja2 in /usr/local/lib/python3.10/dist-packages (from torch>=1.10.0->accelerate) (3.1.3)\n",
            "Requirement already satisfied: fsspec in /usr/local/lib/python3.10/dist-packages (from torch>=1.10.0->accelerate) (2023.6.0)\n",
            "Requirement already satisfied: nvidia-cuda-nvrtc-cu12==12.1.105 in /usr/local/lib/python3.10/dist-packages (from torch>=1.10.0->accelerate) (12.1.105)\n",
            "Requirement already satisfied: nvidia-cuda-runtime-cu12==12.1.105 in /usr/local/lib/python3.10/dist-packages (from torch>=1.10.0->accelerate) (12.1.105)\n",
            "Requirement already satisfied: nvidia-cuda-cupti-cu12==12.1.105 in /usr/local/lib/python3.10/dist-packages (from torch>=1.10.0->accelerate) (12.1.105)\n",
            "Requirement already satisfied: nvidia-cudnn-cu12==8.9.2.26 in /usr/local/lib/python3.10/dist-packages (from torch>=1.10.0->accelerate) (8.9.2.26)\n",
            "Requirement already satisfied: nvidia-cublas-cu12==12.1.3.1 in /usr/local/lib/python3.10/dist-packages (from torch>=1.10.0->accelerate) (12.1.3.1)\n",
            "Requirement already satisfied: nvidia-cufft-cu12==11.0.2.54 in /usr/local/lib/python3.10/dist-packages (from torch>=1.10.0->accelerate) (11.0.2.54)\n",
            "Requirement already satisfied: nvidia-curand-cu12==10.3.2.106 in /usr/local/lib/python3.10/dist-packages (from torch>=1.10.0->accelerate) (10.3.2.106)\n",
            "Requirement already satisfied: nvidia-cusolver-cu12==11.4.5.107 in /usr/local/lib/python3.10/dist-packages (from torch>=1.10.0->accelerate) (11.4.5.107)\n",
            "Requirement already satisfied: nvidia-cusparse-cu12==12.1.0.106 in /usr/local/lib/python3.10/dist-packages (from torch>=1.10.0->accelerate) (12.1.0.106)\n",
            "Requirement already satisfied: nvidia-nccl-cu12==2.19.3 in /usr/local/lib/python3.10/dist-packages (from torch>=1.10.0->accelerate) (2.19.3)\n",
            "Requirement already satisfied: nvidia-nvtx-cu12==12.1.105 in /usr/local/lib/python3.10/dist-packages (from torch>=1.10.0->accelerate) (12.1.105)\n",
            "Requirement already satisfied: triton==2.2.0 in /usr/local/lib/python3.10/dist-packages (from torch>=1.10.0->accelerate) (2.2.0)\n",
            "Requirement already satisfied: nvidia-nvjitlink-cu12 in /usr/local/lib/python3.10/dist-packages (from nvidia-cusolver-cu12==11.4.5.107->torch>=1.10.0->accelerate) (12.4.127)\n",
            "Requirement already satisfied: requests in /usr/local/lib/python3.10/dist-packages (from huggingface-hub->accelerate) (2.31.0)\n",
            "Requirement already satisfied: tqdm>=4.42.1 in /usr/local/lib/python3.10/dist-packages (from huggingface-hub->accelerate) (4.66.2)\n",
            "Requirement already satisfied: MarkupSafe>=2.0 in /usr/local/lib/python3.10/dist-packages (from jinja2->torch>=1.10.0->accelerate) (2.1.5)\n",
            "Requirement already satisfied: charset-normalizer<4,>=2 in /usr/local/lib/python3.10/dist-packages (from requests->huggingface-hub->accelerate) (3.3.2)\n",
            "Requirement already satisfied: idna<4,>=2.5 in /usr/local/lib/python3.10/dist-packages (from requests->huggingface-hub->accelerate) (3.7)\n",
            "Requirement already satisfied: urllib3<3,>=1.21.1 in /usr/local/lib/python3.10/dist-packages (from requests->huggingface-hub->accelerate) (2.0.7)\n",
            "Requirement already satisfied: certifi>=2017.4.17 in /usr/local/lib/python3.10/dist-packages (from requests->huggingface-hub->accelerate) (2024.2.2)\n",
            "Requirement already satisfied: mpmath>=0.19 in /usr/local/lib/python3.10/dist-packages (from sympy->torch>=1.10.0->accelerate) (1.3.0)\n"
          ]
        }
      ]
    },
    {
      "cell_type": "code",
      "source": [
        "import accelerate\n",
        "print(accelerate.__version__)"
      ],
      "metadata": {
        "colab": {
          "base_uri": "https://localhost:8080/"
        },
        "id": "4tEo_5iq5WbK",
        "outputId": "00a6b40e-ecca-4372-c501-a0ecb58e81e9"
      },
      "execution_count": 6,
      "outputs": [
        {
          "output_type": "stream",
          "name": "stdout",
          "text": [
            "0.29.3\n"
          ]
        }
      ]
    },
    {
      "cell_type": "code",
      "source": [
        "!pip install torch"
      ],
      "metadata": {
        "colab": {
          "base_uri": "https://localhost:8080/"
        },
        "id": "RBagKkSs5bei",
        "outputId": "ad314ff2-1536-4852-bd47-5e64a9c1e854"
      },
      "execution_count": 7,
      "outputs": [
        {
          "output_type": "stream",
          "name": "stdout",
          "text": [
            "Requirement already satisfied: torch in /usr/local/lib/python3.10/dist-packages (2.2.1+cu121)\n",
            "Requirement already satisfied: filelock in /usr/local/lib/python3.10/dist-packages (from torch) (3.13.4)\n",
            "Requirement already satisfied: typing-extensions>=4.8.0 in /usr/local/lib/python3.10/dist-packages (from torch) (4.11.0)\n",
            "Requirement already satisfied: sympy in /usr/local/lib/python3.10/dist-packages (from torch) (1.12)\n",
            "Requirement already satisfied: networkx in /usr/local/lib/python3.10/dist-packages (from torch) (3.3)\n",
            "Requirement already satisfied: jinja2 in /usr/local/lib/python3.10/dist-packages (from torch) (3.1.3)\n",
            "Requirement already satisfied: fsspec in /usr/local/lib/python3.10/dist-packages (from torch) (2023.6.0)\n",
            "Requirement already satisfied: nvidia-cuda-nvrtc-cu12==12.1.105 in /usr/local/lib/python3.10/dist-packages (from torch) (12.1.105)\n",
            "Requirement already satisfied: nvidia-cuda-runtime-cu12==12.1.105 in /usr/local/lib/python3.10/dist-packages (from torch) (12.1.105)\n",
            "Requirement already satisfied: nvidia-cuda-cupti-cu12==12.1.105 in /usr/local/lib/python3.10/dist-packages (from torch) (12.1.105)\n",
            "Requirement already satisfied: nvidia-cudnn-cu12==8.9.2.26 in /usr/local/lib/python3.10/dist-packages (from torch) (8.9.2.26)\n",
            "Requirement already satisfied: nvidia-cublas-cu12==12.1.3.1 in /usr/local/lib/python3.10/dist-packages (from torch) (12.1.3.1)\n",
            "Requirement already satisfied: nvidia-cufft-cu12==11.0.2.54 in /usr/local/lib/python3.10/dist-packages (from torch) (11.0.2.54)\n",
            "Requirement already satisfied: nvidia-curand-cu12==10.3.2.106 in /usr/local/lib/python3.10/dist-packages (from torch) (10.3.2.106)\n",
            "Requirement already satisfied: nvidia-cusolver-cu12==11.4.5.107 in /usr/local/lib/python3.10/dist-packages (from torch) (11.4.5.107)\n",
            "Requirement already satisfied: nvidia-cusparse-cu12==12.1.0.106 in /usr/local/lib/python3.10/dist-packages (from torch) (12.1.0.106)\n",
            "Requirement already satisfied: nvidia-nccl-cu12==2.19.3 in /usr/local/lib/python3.10/dist-packages (from torch) (2.19.3)\n",
            "Requirement already satisfied: nvidia-nvtx-cu12==12.1.105 in /usr/local/lib/python3.10/dist-packages (from torch) (12.1.105)\n",
            "Requirement already satisfied: triton==2.2.0 in /usr/local/lib/python3.10/dist-packages (from torch) (2.2.0)\n",
            "Requirement already satisfied: nvidia-nvjitlink-cu12 in /usr/local/lib/python3.10/dist-packages (from nvidia-cusolver-cu12==11.4.5.107->torch) (12.4.127)\n",
            "Requirement already satisfied: MarkupSafe>=2.0 in /usr/local/lib/python3.10/dist-packages (from jinja2->torch) (2.1.5)\n",
            "Requirement already satisfied: mpmath>=0.19 in /usr/local/lib/python3.10/dist-packages (from sympy->torch) (1.3.0)\n"
          ]
        }
      ]
    },
    {
      "cell_type": "code",
      "source": [
        "!pip install transformers -U"
      ],
      "metadata": {
        "colab": {
          "base_uri": "https://localhost:8080/"
        },
        "id": "kJ6kMd775hT5",
        "outputId": "2c82a11e-1d67-4a0c-8af7-0919115b205f"
      },
      "execution_count": 8,
      "outputs": [
        {
          "output_type": "stream",
          "name": "stdout",
          "text": [
            "Requirement already satisfied: transformers in /usr/local/lib/python3.10/dist-packages (4.40.0)\n",
            "Requirement already satisfied: filelock in /usr/local/lib/python3.10/dist-packages (from transformers) (3.13.4)\n",
            "Requirement already satisfied: huggingface-hub<1.0,>=0.19.3 in /usr/local/lib/python3.10/dist-packages (from transformers) (0.22.2)\n",
            "Requirement already satisfied: numpy>=1.17 in /usr/local/lib/python3.10/dist-packages (from transformers) (1.25.2)\n",
            "Requirement already satisfied: packaging>=20.0 in /usr/local/lib/python3.10/dist-packages (from transformers) (24.0)\n",
            "Requirement already satisfied: pyyaml>=5.1 in /usr/local/lib/python3.10/dist-packages (from transformers) (6.0.1)\n",
            "Requirement already satisfied: regex!=2019.12.17 in /usr/local/lib/python3.10/dist-packages (from transformers) (2023.12.25)\n",
            "Requirement already satisfied: requests in /usr/local/lib/python3.10/dist-packages (from transformers) (2.31.0)\n",
            "Requirement already satisfied: tokenizers<0.20,>=0.19 in /usr/local/lib/python3.10/dist-packages (from transformers) (0.19.1)\n",
            "Requirement already satisfied: safetensors>=0.4.1 in /usr/local/lib/python3.10/dist-packages (from transformers) (0.4.3)\n",
            "Requirement already satisfied: tqdm>=4.27 in /usr/local/lib/python3.10/dist-packages (from transformers) (4.66.2)\n",
            "Requirement already satisfied: fsspec>=2023.5.0 in /usr/local/lib/python3.10/dist-packages (from huggingface-hub<1.0,>=0.19.3->transformers) (2023.6.0)\n",
            "Requirement already satisfied: typing-extensions>=3.7.4.3 in /usr/local/lib/python3.10/dist-packages (from huggingface-hub<1.0,>=0.19.3->transformers) (4.11.0)\n",
            "Requirement already satisfied: charset-normalizer<4,>=2 in /usr/local/lib/python3.10/dist-packages (from requests->transformers) (3.3.2)\n",
            "Requirement already satisfied: idna<4,>=2.5 in /usr/local/lib/python3.10/dist-packages (from requests->transformers) (3.7)\n",
            "Requirement already satisfied: urllib3<3,>=1.21.1 in /usr/local/lib/python3.10/dist-packages (from requests->transformers) (2.0.7)\n",
            "Requirement already satisfied: certifi>=2017.4.17 in /usr/local/lib/python3.10/dist-packages (from requests->transformers) (2024.2.2)\n"
          ]
        }
      ]
    },
    {
      "cell_type": "code",
      "source": [
        "# load tokenizer and model, create trainer\n",
        "\n",
        "model_name = \"j-hartmann/emotion-english-distilroberta-base\"\n",
        "tokenizer = AutoTokenizer.from_pretrained(model_name)\n",
        "model = AutoModelForSequenceClassification.from_pretrained(model_name)\n",
        "trainer = Trainer(model=model)"
      ],
      "metadata": {
        "id": "E_jaeZ043aQB"
      },
      "execution_count": 9,
      "outputs": []
    },
    {
      "cell_type": "code",
      "source": [
        "# run cell and select file for upload\n",
        "from google.colab import files\n",
        "# files.upload()"
      ],
      "metadata": {
        "id": "AwUHt6ql3aUG"
      },
      "execution_count": 10,
      "outputs": []
    },
    {
      "cell_type": "code",
      "source": [
        "file_name = \"combined_movies.csv\"  # note: you can right-click on your file and copy-paste the path to it here\n",
        "text_column = \"reviews\"\n",
        "# read in csv\n",
        "\n",
        "movie_predictions_df = pd.read_csv(file_name)\n",
        "print(movie_predictions_df.columns)"
      ],
      "metadata": {
        "colab": {
          "base_uri": "https://localhost:8080/"
        },
        "id": "hMVj6dJK3aYX",
        "outputId": "4d68080b-54eb-473e-b1f5-eed74f8f0742"
      },
      "execution_count": 14,
      "outputs": [
        {
          "output_type": "stream",
          "name": "stdout",
          "text": [
            "Index(['Unnamed: 0', 'adult', 'backdrop_path', 'genre_ids', 'id',\n",
            "       'original_language', 'original_title', 'overview', 'popularity',\n",
            "       'poster_path', 'release_date', 'title', 'video', 'vote_average',\n",
            "       'vote_count', 'reviews'],\n",
            "      dtype='object')\n"
          ]
        }
      ]
    },
    {
      "cell_type": "markdown",
      "source": [
        "## Converting the `movie_predictions_df` dataframe into a list with string items inside list\n",
        "### This is will to run on the uncleaned reviews column. This specific model works best with lists of string items."
      ],
      "metadata": {
        "id": "vxNok2-FgWuD"
      }
    },
    {
      "cell_type": "code",
      "source": [
        "pred_texts = movie_predictions_df['reviews'].dropna().astype('str').tolist()"
      ],
      "metadata": {
        "id": "1Xkzl6P87TmK"
      },
      "execution_count": 15,
      "outputs": []
    },
    {
      "cell_type": "code",
      "source": [
        "# Tokenize texts and create prediction data set\n",
        "tokenized_texts = tokenizer(pred_texts,truncation=True,padding=True)\n",
        "pred_dataset = SimpleDataset(tokenized_texts)"
      ],
      "metadata": {
        "id": "FHihw9fw3aau"
      },
      "execution_count": 16,
      "outputs": []
    },
    {
      "cell_type": "markdown",
      "source": [
        "# WARNING !\n",
        "# The cell below took 4 hours to run. This model had been saved and uploaded to HuggingFace, so that this does not need to be done again, unless changes need to be made."
      ],
      "metadata": {
        "id": "brlG2SLWy4cv"
      }
    },
    {
      "cell_type": "code",
      "source": [
        "# Run predictions\n",
        "predictions = trainer.predict(pred_dataset)"
      ],
      "metadata": {
        "colab": {
          "base_uri": "https://localhost:8080/",
          "height": 17
        },
        "id": "Ph2Vy-2v3adP",
        "outputId": "fafd5afe-64d2-4bc7-b4e2-dfb3f0637fe7"
      },
      "execution_count": 17,
      "outputs": [
        {
          "output_type": "display_data",
          "data": {
            "text/plain": [
              "<IPython.core.display.HTML object>"
            ],
            "text/html": []
          },
          "metadata": {}
        }
      ]
    },
    {
      "cell_type": "code",
      "source": [
        "# Transform predictions to labels\n",
        "preds = predictions.predictions.argmax(-1)\n",
        "labels = pd.Series(preds).map(model.config.id2label)\n",
        "scores = (np.exp(predictions[0])/np.exp(predictions[0]).sum(-1,keepdims=True)).max(1)"
      ],
      "metadata": {
        "id": "VJ-yncSQ3afE"
      },
      "execution_count": 18,
      "outputs": []
    },
    {
      "cell_type": "code",
      "source": [
        "# scores raw\n",
        "temp = (np.exp(predictions[0])/np.exp(predictions[0]).sum(-1,keepdims=True))"
      ],
      "metadata": {
        "id": "fuYNl1HD3ai2"
      },
      "execution_count": 19,
      "outputs": []
    },
    {
      "cell_type": "code",
      "source": [
        "# work in progress\n",
        "# container\n",
        "anger = []\n",
        "disgust = []\n",
        "fear = []\n",
        "joy = []\n",
        "neutral = []\n",
        "sadness = []\n",
        "surprise = []\n",
        "\n",
        "# extract scores (as many entries as exist in pred_texts)\n",
        "for i in range(len(pred_texts)):\n",
        "  anger.append(temp[i][0])\n",
        "  disgust.append(temp[i][1])\n",
        "  fear.append(temp[i][2])\n",
        "  joy.append(temp[i][3])\n",
        "  neutral.append(temp[i][4])\n",
        "  sadness.append(temp[i][5])\n",
        "  surprise.append(temp[i][6])"
      ],
      "metadata": {
        "id": "unzsxRUA3alC"
      },
      "execution_count": 20,
      "outputs": []
    },
    {
      "cell_type": "code",
      "source": [
        "# Create DataFrame with texts, predictions, labels, and scores\n",
        "df = pd.DataFrame(list(zip(pred_texts,preds,labels,scores,  anger, disgust, fear, joy, neutral, sadness, surprise)), columns=['text','pred','label','score', 'anger', 'disgust', 'fear', 'joy', 'neutral', 'sadness', 'surprise'])\n",
        "df.head()"
      ],
      "metadata": {
        "colab": {
          "base_uri": "https://localhost:8080/",
          "height": 400
        },
        "id": "9CXq9cme37RI",
        "outputId": "2da7308d-1ad1-4ffd-e02d-9f75b63610f3"
      },
      "execution_count": 21,
      "outputs": [
        {
          "output_type": "execute_result",
          "data": {
            "text/plain": [
              "                                                text  pred    label     score  \\\n",
              "0  FULL SPOILER-FREE REVIEW @ https://talkingfilm...     3      joy  0.934813   \n",
              "1  _Kung Fu Panda 4_ isn’t the best _Kung Fu Pand...     5  sadness  0.598701   \n",
              "2  FULL SPOILER-FREE REVIEW @ https://fandomwire....     4  neutral  0.559732   \n",
              "3  Very poor scenario and the story just does not...     3      joy  0.893423   \n",
              "4  We start off with an heavily pregnant woman de...     4  neutral  0.433036   \n",
              "\n",
              "      anger   disgust      fear       joy   neutral   sadness  surprise  \n",
              "0  0.002814  0.001023  0.005133  0.934813  0.037235  0.002196  0.016785  \n",
              "1  0.002053  0.006893  0.003863  0.068874  0.242003  0.598701  0.077614  \n",
              "2  0.173443  0.093400  0.059591  0.041290  0.559732  0.035302  0.037241  \n",
              "3  0.002555  0.003341  0.002124  0.893423  0.077729  0.005483  0.015345  \n",
              "4  0.070495  0.246801  0.108896  0.004469  0.433036  0.016794  0.119507  "
            ],
            "text/html": [
              "\n",
              "  <div id=\"df-d54ee8f4-b914-41e9-909c-fed6f9d374e2\" class=\"colab-df-container\">\n",
              "    <div>\n",
              "<style scoped>\n",
              "    .dataframe tbody tr th:only-of-type {\n",
              "        vertical-align: middle;\n",
              "    }\n",
              "\n",
              "    .dataframe tbody tr th {\n",
              "        vertical-align: top;\n",
              "    }\n",
              "\n",
              "    .dataframe thead th {\n",
              "        text-align: right;\n",
              "    }\n",
              "</style>\n",
              "<table border=\"1\" class=\"dataframe\">\n",
              "  <thead>\n",
              "    <tr style=\"text-align: right;\">\n",
              "      <th></th>\n",
              "      <th>text</th>\n",
              "      <th>pred</th>\n",
              "      <th>label</th>\n",
              "      <th>score</th>\n",
              "      <th>anger</th>\n",
              "      <th>disgust</th>\n",
              "      <th>fear</th>\n",
              "      <th>joy</th>\n",
              "      <th>neutral</th>\n",
              "      <th>sadness</th>\n",
              "      <th>surprise</th>\n",
              "    </tr>\n",
              "  </thead>\n",
              "  <tbody>\n",
              "    <tr>\n",
              "      <th>0</th>\n",
              "      <td>FULL SPOILER-FREE REVIEW @ https://talkingfilm...</td>\n",
              "      <td>3</td>\n",
              "      <td>joy</td>\n",
              "      <td>0.934813</td>\n",
              "      <td>0.002814</td>\n",
              "      <td>0.001023</td>\n",
              "      <td>0.005133</td>\n",
              "      <td>0.934813</td>\n",
              "      <td>0.037235</td>\n",
              "      <td>0.002196</td>\n",
              "      <td>0.016785</td>\n",
              "    </tr>\n",
              "    <tr>\n",
              "      <th>1</th>\n",
              "      <td>_Kung Fu Panda 4_ isn’t the best _Kung Fu Pand...</td>\n",
              "      <td>5</td>\n",
              "      <td>sadness</td>\n",
              "      <td>0.598701</td>\n",
              "      <td>0.002053</td>\n",
              "      <td>0.006893</td>\n",
              "      <td>0.003863</td>\n",
              "      <td>0.068874</td>\n",
              "      <td>0.242003</td>\n",
              "      <td>0.598701</td>\n",
              "      <td>0.077614</td>\n",
              "    </tr>\n",
              "    <tr>\n",
              "      <th>2</th>\n",
              "      <td>FULL SPOILER-FREE REVIEW @ https://fandomwire....</td>\n",
              "      <td>4</td>\n",
              "      <td>neutral</td>\n",
              "      <td>0.559732</td>\n",
              "      <td>0.173443</td>\n",
              "      <td>0.093400</td>\n",
              "      <td>0.059591</td>\n",
              "      <td>0.041290</td>\n",
              "      <td>0.559732</td>\n",
              "      <td>0.035302</td>\n",
              "      <td>0.037241</td>\n",
              "    </tr>\n",
              "    <tr>\n",
              "      <th>3</th>\n",
              "      <td>Very poor scenario and the story just does not...</td>\n",
              "      <td>3</td>\n",
              "      <td>joy</td>\n",
              "      <td>0.893423</td>\n",
              "      <td>0.002555</td>\n",
              "      <td>0.003341</td>\n",
              "      <td>0.002124</td>\n",
              "      <td>0.893423</td>\n",
              "      <td>0.077729</td>\n",
              "      <td>0.005483</td>\n",
              "      <td>0.015345</td>\n",
              "    </tr>\n",
              "    <tr>\n",
              "      <th>4</th>\n",
              "      <td>We start off with an heavily pregnant woman de...</td>\n",
              "      <td>4</td>\n",
              "      <td>neutral</td>\n",
              "      <td>0.433036</td>\n",
              "      <td>0.070495</td>\n",
              "      <td>0.246801</td>\n",
              "      <td>0.108896</td>\n",
              "      <td>0.004469</td>\n",
              "      <td>0.433036</td>\n",
              "      <td>0.016794</td>\n",
              "      <td>0.119507</td>\n",
              "    </tr>\n",
              "  </tbody>\n",
              "</table>\n",
              "</div>\n",
              "    <div class=\"colab-df-buttons\">\n",
              "\n",
              "  <div class=\"colab-df-container\">\n",
              "    <button class=\"colab-df-convert\" onclick=\"convertToInteractive('df-d54ee8f4-b914-41e9-909c-fed6f9d374e2')\"\n",
              "            title=\"Convert this dataframe to an interactive table.\"\n",
              "            style=\"display:none;\">\n",
              "\n",
              "  <svg xmlns=\"http://www.w3.org/2000/svg\" height=\"24px\" viewBox=\"0 -960 960 960\">\n",
              "    <path d=\"M120-120v-720h720v720H120Zm60-500h600v-160H180v160Zm220 220h160v-160H400v160Zm0 220h160v-160H400v160ZM180-400h160v-160H180v160Zm440 0h160v-160H620v160ZM180-180h160v-160H180v160Zm440 0h160v-160H620v160Z\"/>\n",
              "  </svg>\n",
              "    </button>\n",
              "\n",
              "  <style>\n",
              "    .colab-df-container {\n",
              "      display:flex;\n",
              "      gap: 12px;\n",
              "    }\n",
              "\n",
              "    .colab-df-convert {\n",
              "      background-color: #E8F0FE;\n",
              "      border: none;\n",
              "      border-radius: 50%;\n",
              "      cursor: pointer;\n",
              "      display: none;\n",
              "      fill: #1967D2;\n",
              "      height: 32px;\n",
              "      padding: 0 0 0 0;\n",
              "      width: 32px;\n",
              "    }\n",
              "\n",
              "    .colab-df-convert:hover {\n",
              "      background-color: #E2EBFA;\n",
              "      box-shadow: 0px 1px 2px rgba(60, 64, 67, 0.3), 0px 1px 3px 1px rgba(60, 64, 67, 0.15);\n",
              "      fill: #174EA6;\n",
              "    }\n",
              "\n",
              "    .colab-df-buttons div {\n",
              "      margin-bottom: 4px;\n",
              "    }\n",
              "\n",
              "    [theme=dark] .colab-df-convert {\n",
              "      background-color: #3B4455;\n",
              "      fill: #D2E3FC;\n",
              "    }\n",
              "\n",
              "    [theme=dark] .colab-df-convert:hover {\n",
              "      background-color: #434B5C;\n",
              "      box-shadow: 0px 1px 3px 1px rgba(0, 0, 0, 0.15);\n",
              "      filter: drop-shadow(0px 1px 2px rgba(0, 0, 0, 0.3));\n",
              "      fill: #FFFFFF;\n",
              "    }\n",
              "  </style>\n",
              "\n",
              "    <script>\n",
              "      const buttonEl =\n",
              "        document.querySelector('#df-d54ee8f4-b914-41e9-909c-fed6f9d374e2 button.colab-df-convert');\n",
              "      buttonEl.style.display =\n",
              "        google.colab.kernel.accessAllowed ? 'block' : 'none';\n",
              "\n",
              "      async function convertToInteractive(key) {\n",
              "        const element = document.querySelector('#df-d54ee8f4-b914-41e9-909c-fed6f9d374e2');\n",
              "        const dataTable =\n",
              "          await google.colab.kernel.invokeFunction('convertToInteractive',\n",
              "                                                    [key], {});\n",
              "        if (!dataTable) return;\n",
              "\n",
              "        const docLinkHtml = 'Like what you see? Visit the ' +\n",
              "          '<a target=\"_blank\" href=https://colab.research.google.com/notebooks/data_table.ipynb>data table notebook</a>'\n",
              "          + ' to learn more about interactive tables.';\n",
              "        element.innerHTML = '';\n",
              "        dataTable['output_type'] = 'display_data';\n",
              "        await google.colab.output.renderOutput(dataTable, element);\n",
              "        const docLink = document.createElement('div');\n",
              "        docLink.innerHTML = docLinkHtml;\n",
              "        element.appendChild(docLink);\n",
              "      }\n",
              "    </script>\n",
              "  </div>\n",
              "\n",
              "\n",
              "<div id=\"df-5275ef9f-1781-409c-97df-87b7de4a7ebd\">\n",
              "  <button class=\"colab-df-quickchart\" onclick=\"quickchart('df-5275ef9f-1781-409c-97df-87b7de4a7ebd')\"\n",
              "            title=\"Suggest charts\"\n",
              "            style=\"display:none;\">\n",
              "\n",
              "<svg xmlns=\"http://www.w3.org/2000/svg\" height=\"24px\"viewBox=\"0 0 24 24\"\n",
              "     width=\"24px\">\n",
              "    <g>\n",
              "        <path d=\"M19 3H5c-1.1 0-2 .9-2 2v14c0 1.1.9 2 2 2h14c1.1 0 2-.9 2-2V5c0-1.1-.9-2-2-2zM9 17H7v-7h2v7zm4 0h-2V7h2v10zm4 0h-2v-4h2v4z\"/>\n",
              "    </g>\n",
              "</svg>\n",
              "  </button>\n",
              "\n",
              "<style>\n",
              "  .colab-df-quickchart {\n",
              "      --bg-color: #E8F0FE;\n",
              "      --fill-color: #1967D2;\n",
              "      --hover-bg-color: #E2EBFA;\n",
              "      --hover-fill-color: #174EA6;\n",
              "      --disabled-fill-color: #AAA;\n",
              "      --disabled-bg-color: #DDD;\n",
              "  }\n",
              "\n",
              "  [theme=dark] .colab-df-quickchart {\n",
              "      --bg-color: #3B4455;\n",
              "      --fill-color: #D2E3FC;\n",
              "      --hover-bg-color: #434B5C;\n",
              "      --hover-fill-color: #FFFFFF;\n",
              "      --disabled-bg-color: #3B4455;\n",
              "      --disabled-fill-color: #666;\n",
              "  }\n",
              "\n",
              "  .colab-df-quickchart {\n",
              "    background-color: var(--bg-color);\n",
              "    border: none;\n",
              "    border-radius: 50%;\n",
              "    cursor: pointer;\n",
              "    display: none;\n",
              "    fill: var(--fill-color);\n",
              "    height: 32px;\n",
              "    padding: 0;\n",
              "    width: 32px;\n",
              "  }\n",
              "\n",
              "  .colab-df-quickchart:hover {\n",
              "    background-color: var(--hover-bg-color);\n",
              "    box-shadow: 0 1px 2px rgba(60, 64, 67, 0.3), 0 1px 3px 1px rgba(60, 64, 67, 0.15);\n",
              "    fill: var(--button-hover-fill-color);\n",
              "  }\n",
              "\n",
              "  .colab-df-quickchart-complete:disabled,\n",
              "  .colab-df-quickchart-complete:disabled:hover {\n",
              "    background-color: var(--disabled-bg-color);\n",
              "    fill: var(--disabled-fill-color);\n",
              "    box-shadow: none;\n",
              "  }\n",
              "\n",
              "  .colab-df-spinner {\n",
              "    border: 2px solid var(--fill-color);\n",
              "    border-color: transparent;\n",
              "    border-bottom-color: var(--fill-color);\n",
              "    animation:\n",
              "      spin 1s steps(1) infinite;\n",
              "  }\n",
              "\n",
              "  @keyframes spin {\n",
              "    0% {\n",
              "      border-color: transparent;\n",
              "      border-bottom-color: var(--fill-color);\n",
              "      border-left-color: var(--fill-color);\n",
              "    }\n",
              "    20% {\n",
              "      border-color: transparent;\n",
              "      border-left-color: var(--fill-color);\n",
              "      border-top-color: var(--fill-color);\n",
              "    }\n",
              "    30% {\n",
              "      border-color: transparent;\n",
              "      border-left-color: var(--fill-color);\n",
              "      border-top-color: var(--fill-color);\n",
              "      border-right-color: var(--fill-color);\n",
              "    }\n",
              "    40% {\n",
              "      border-color: transparent;\n",
              "      border-right-color: var(--fill-color);\n",
              "      border-top-color: var(--fill-color);\n",
              "    }\n",
              "    60% {\n",
              "      border-color: transparent;\n",
              "      border-right-color: var(--fill-color);\n",
              "    }\n",
              "    80% {\n",
              "      border-color: transparent;\n",
              "      border-right-color: var(--fill-color);\n",
              "      border-bottom-color: var(--fill-color);\n",
              "    }\n",
              "    90% {\n",
              "      border-color: transparent;\n",
              "      border-bottom-color: var(--fill-color);\n",
              "    }\n",
              "  }\n",
              "</style>\n",
              "\n",
              "  <script>\n",
              "    async function quickchart(key) {\n",
              "      const quickchartButtonEl =\n",
              "        document.querySelector('#' + key + ' button');\n",
              "      quickchartButtonEl.disabled = true;  // To prevent multiple clicks.\n",
              "      quickchartButtonEl.classList.add('colab-df-spinner');\n",
              "      try {\n",
              "        const charts = await google.colab.kernel.invokeFunction(\n",
              "            'suggestCharts', [key], {});\n",
              "      } catch (error) {\n",
              "        console.error('Error during call to suggestCharts:', error);\n",
              "      }\n",
              "      quickchartButtonEl.classList.remove('colab-df-spinner');\n",
              "      quickchartButtonEl.classList.add('colab-df-quickchart-complete');\n",
              "    }\n",
              "    (() => {\n",
              "      let quickchartButtonEl =\n",
              "        document.querySelector('#df-5275ef9f-1781-409c-97df-87b7de4a7ebd button');\n",
              "      quickchartButtonEl.style.display =\n",
              "        google.colab.kernel.accessAllowed ? 'block' : 'none';\n",
              "    })();\n",
              "  </script>\n",
              "</div>\n",
              "\n",
              "    </div>\n",
              "  </div>\n"
            ],
            "application/vnd.google.colaboratory.intrinsic+json": {
              "type": "dataframe",
              "variable_name": "df",
              "summary": "{\n  \"name\": \"df\",\n  \"rows\": 6123,\n  \"fields\": [\n    {\n      \"column\": \"text\",\n      \"properties\": {\n        \"dtype\": \"string\",\n        \"num_unique_values\": 6050,\n        \"samples\": [\n          \"Tony and Denzel get back on track. \\r\\n\\r\\nUnstoppable is directed by Tony Scott and written by Mark Bomback. It stars Denzel Washington, Chris Pine, Rosario Dawson, Ethan Suplee & Kevin Dunn. Cinematographer is Ben Seresin and the music is scored by Harry Gregson-Williams. Plot finds Washington and Pine as Pennsylvania rail yard workers at the opposite ends of their working careers. Whilst working on their first job together, and not exactly hitting it off, the two men are thrust into a frantic pursuit of a runaway train. The runaway (coaster) is pulling tankers containing highly explosive material, and hurtling along at 70mph it has to be stopped before it hits civilisation.\\r\\n\\r\\nAlmost as if to atone for the misfire that was The Taking of Pelham 1 2 3, Scott and Washington jump on board another type of train movie and literally let it rip. The film is as simple as its plot synopsis suggests, it's a disaster movie on the railway, but with Scott cranking it up as much as he can, it's as much fun as you can hope to have with a modern day popcorner. Carrying all the trade mark licks of its director; roving camera, scattergun editing and ear splitting sound mix, it's also nice to report that unlike Pelham, the pace never sags. Even as the principal characters hang ups and back stories are unfolded in the narrative, Unstoppable literally doesn't pause for breath. Sure the \\\"Bromance\\\" development is signposted at the first stop, and yes, are we ever in doubt about where this will end up? But if you are going into Unstoppable for wry social commentary or an expose on the political shenanigans involved in today's rail yards? Well you deserve all the disappointment you will undoubtedly get.\\r\\n\\r\\nA runaway train pursued by Captain Kirk and Malcolm X, directed by the man who brought us Top Gun. Yeah baby, it's a thrill ride for sure. 8/10\",\n          \"The engaging Abby Ryder Fortson is on strong form here as the eponymous girl who finds herself shifted by her parents to live across the Hudson in New Jersey. Now they are an happy family: mum \\\"Barbara\\\" (Rachel McAdams) and dad \\\"Herb\\\" (Benny Safdie) that is egged on now and again by her favourite, and mischievous, grandmother \\\"Sylvia\\\" (Kathy Bates). New house, new school, new friends and quickly settling in, she joins a secret club with three other girls and what now ensues is a rather poignant and entertaining coming-of-age tale as the girls compete with each other for just about everything from the cute \\\"Philip\\\" (Zack Brooks) to which of them has their first period or wears their first bra. I suspect this may well resonate more with girls than boys, but that doesn't compromise it's potency. These girls reflect behaviour and attitudes that could almost certainly be found in most schools around any country. The introduction of her conversations with God (her parents are a non-practising Jew and Christian respectively so she's been left to be undecided on the issue) upon whom she is relying to help her avoid disaster, get the boy and vent her frustrations become more relatable as the film proceeds. It's got a little unwelcome melodrama, but Kathy Bates manages to keep that under control with a punchy series of short but impactful contributions and the whole thing is effectively kept on an even keel by an enjoyable effort from McAdams. The pacing and the writing are solid with some pithily apposite observations, and by the end I was just grateful that my hormones have long since given up the ghost! \\u201cAre You There God? It\\u2019s Me, Margaret\\u201d is one of the first books I remember reading where I felt like the author really understood what it was like to be me. Judy Blume\\u2019s beloved book has been considered a rite of passage for many young girls, and the pressure of adapting the work for the screen had to be enormous for writer-director Kelly Fremon Craig. Thankfully, the film does the source material justice, creating a timeless coming-of-age story that brings the classic book to life.\\r\\n\\r\\nSixth grader Margaret (Abby Ryder Fortson) is 11 when she is unexpectedly uprooted from her life in New York City to the suburbs of New Jersey. Her mom Barbara (Rachel McAdams) and dad Herb (Benny Safdie) assure her that she will make new friends and get a fresh start at school. Margaret doesn\\u2019t want to move away from her loving grandma (Kathy Bates) either, who constantly reminds the family that she\\u2019s unhappy they\\u2019ve moved so far away. While her mom has difficulty adjusting to her new role as a homemaker, Margaret is quickly accepted by neighbor Nancy (Elle Graham) into her secret club for girls with fellow classmates Gretchen (Katherine Mallen Kupferer) and Janie (Amari Alexis Price). They meet after school to talk about the important things: boys, getting their periods, and their developing bodies.\\r\\n\\r\\nThe film stays mostly true to Blume\\u2019s original work, with a few potentially problematic things omitted and others added to build more drama. The novel heavily discusses religion, as Margaret\\u2019s mother was raised Christian and her father is Jewish, and the young girl struggles with finding a place where she belongs. Margaret prays to a god, but also asserts that she doesn\\u2019t believe in one. The film carries this theme well, and does not shy away from frank discussions about how religion divides people.\\r\\n\\r\\nThere are plenty of scenes about the ups and downs of puberty, one of the most confusing and taxing time in the life of an adolescent. The body shaming of classmate Laura (Isol Young) feels particularly relevant today, as does the instance when Margaret finally realizes that she\\u2019s become a bully herself and decides to change things.\\r\\n\\r\\nAlthough I haven\\u2019t picked up the novel since I was 12 years old, certain scenes jolted the deepest recesses of my memory. Craig includes the most celebrated parts of Blume\\u2019s book, including Margaret\\u2019s major crush on neighborhood boy Moose (Aidan Wojtak-Hissong), bra shopping with mom, and perhaps the most famous of them all, \\u201cwe must, we must, we must increase our bust!\\u201d\\r\\n\\r\\nA minor criticism is that parts of the story feel rushed in favor of building a meatier history for the supporting characters. There\\u2019s a couple of new storylines that work well in the film, but sometimes it\\u2019s a tradeoff that feels unnecessary. In one of her smartest moves in dealing with the screen adaptation, Craig wisely keeps the story set in 1970, just like the original. It lends a heavy dose of nostalgia that takes you back to a time of innocence, an era without iPhones or the internet. I\\u2019m certain the film wouldn\\u2019t work as well if it took place in present day, and I\\u2019m so happy that the studio didn\\u2019t try to modernize the story. (Here\\u2019s hoping the timeless tale will still resonate with preteens today).\\r\\n\\r\\n\\u201cAre You There God? It\\u2019s Me, Margaret\\u201d takes an enduring classic and turns it into a sweet, wholesome movie about growing up, the value of friendship, the support that comes from a loving family, and the very real struggle to find a sense of belonging in this world. It\\u2019s uplifting, perfectly cast, and accurately captures the most awkward time in a young girl\\u2019s life. In other words, it expresses the essence of Judy Blume\\u2019s most famous work. If I didn't know better, I'd think this was a Neil Simon play. But I'm not a girl and in my youth I read Hardy Boys, not Judy Blume.\\r\\n\\r\\nThe movie is very well done. Abby Ryder Fortson does one helluva job with the lead role.\\r\\n\\r\\nIt's a little humorous and a little heartwarming. And I hate to give it only a 7, but it's just not my cup of tea and I didn't see anything so super creative that it deserved a higher score. If I didn't know better, I'd think this was a Neil Simon play. But I'm not a girl and in my youth I read Hardy Boys, not Judy Blume.\\r\\n\\r\\nThe movie is very well done. Abby Ryder Fortson does one helluva job with the lead role.\\r\\n\\r\\nIt's a little humorous and a little heartwarming. And I hate to give it only a 7, but it's just not my cup of tea and I didn't see anything so super creative that it deserved a higher score. FULL SPOILER-FREE REVIEW @ www.firstshowing.net/2023/review-are-you-there-god-its-me-margaret-is-a-pleasant-surprise/\\r\\n\\r\\n\\\"ARE YOU THERE GOD? IT\\u2019S ME, MARGARET stands out as a triumph in the coming-of-age subgenre. Its refusal to shy away from sensitive subject matters, coupled with brilliant performances and a meticulously crafted script, results in a story that not only entertains with astute humor but also resonates on a deeply personal level.\\r\\n\\r\\nIt's a testament to Kelly Fremon Craig's commitment to authenticity and storytelling that transcends the boundaries of age and gender. A poignant, relatable portrayal of the complexities of adolescence, leaving a lasting impact on its audience.\\u201c\\r\\n\\r\\nRating: A-\",\n          \"The Grudge 2 resents its illogical plot for basic ineffective jump scares. Shimizu\\u2019s western remake of his J-horror creation was one littered with promise, albeit irrefutably rough around the edges. Mediocre acting, snooze-inducing storytelling and jump scares aplenty. Japanese ghost children, that either croak as if exhuming a sore throat or scream like a domestic cat, popping their heads out of attics, entangling women in wavering hair and just being a general nuisance. Well, Shimizu begrudgingly brings Kayako and Toshio back for more ghoulish antics, as the fire initiated by Sarah \\u201cBuffy or Daphne, your pick...\\u201d Michelle Gellar somehow unleashed the dark spirits into the world. Essentially no longer restricted to the abandoned Saeki household, although still only haunt those that enter the house? I don\\u2019t know, the logic is tossed out of the sh\\u014dji at this point.\\r\\n\\r\\nInstead of remaking the original sequel for \\u2018Ju-On\\u2019, Shimizu and writer Susco opted for a more original take, answering the fundamental question that we all yearned to ask: \\u201cgurl, where did you get that eye liner?\\u201d. Turns out, dark spirits is the answer. What I supremely detest about this sequel is the direction the two aforementioned crew members decide to take the story. It\\u2019s no longer about greeting death with a deep and powerful rage, cursing the location the spirits resides in. A semi-folklorish strand of Japanese traditions.\\r\\n\\r\\nInstead, to appease the simple minds of western mainstream audiences, they settled for a mundane supernatural progression that essentially tarnishes the original\\u2019s plot in almost every possible angle available. Sure, Shimizu integrates some well-intentioned imagery that may or may not produce a chill or two. Namely the photograph sequence and bludgeoning someone with a frying pan during breakfast (what a waste of bacon!). Yet these are often accompanied by a predictable jump scare that relinquishes the horror. Kayako pouncing out of a photograph. Kayako wandering the hospital corridors bursting lightbulbs in her wake (not very cost-effective...). Kayako playing footsies in a Love hotel room. Kayako being Kayako. Once or twice was enough. Twenty times? Rapidly becoming unimaginative.\\r\\n\\r\\nThe non-linear intersecting sub-plots, imitating its predecessor, provided no twists to the narrative and, if anything, forced the pacing to be inconsistent with its constant switching between character perspectives. A classic peer pressure scenario which is enough to make anyone\\u2019s eyes roll a hundred times.\\r\\n\\r\\nMagic mirror tricks, very unfashionable hoodies and an absolute waste of Buffy. The three elements that perfectly surmise the contents of this lacklustre sequel that boasts no genuine scares or tolerable execution. Again, stick to the original franchise.\"\n        ],\n        \"semantic_type\": \"\",\n        \"description\": \"\"\n      }\n    },\n    {\n      \"column\": \"pred\",\n      \"properties\": {\n        \"dtype\": \"number\",\n        \"std\": 1,\n        \"min\": 0,\n        \"max\": 6,\n        \"num_unique_values\": 7,\n        \"samples\": [\n          3,\n          5,\n          6\n        ],\n        \"semantic_type\": \"\",\n        \"description\": \"\"\n      }\n    },\n    {\n      \"column\": \"label\",\n      \"properties\": {\n        \"dtype\": \"category\",\n        \"num_unique_values\": 7,\n        \"samples\": [\n          \"joy\",\n          \"sadness\",\n          \"surprise\"\n        ],\n        \"semantic_type\": \"\",\n        \"description\": \"\"\n      }\n    },\n    {\n      \"column\": \"score\",\n      \"properties\": {\n        \"dtype\": \"float32\",\n        \"num_unique_values\": 6058,\n        \"samples\": [\n          0.8288623094558716,\n          0.5532025694847107,\n          0.9564316868782043\n        ],\n        \"semantic_type\": \"\",\n        \"description\": \"\"\n      }\n    },\n    {\n      \"column\": \"anger\",\n      \"properties\": {\n        \"dtype\": \"float32\",\n        \"num_unique_values\": 6070,\n        \"samples\": [\n          0.0019338172860443592,\n          0.019930582493543625,\n          0.02011781372129917\n        ],\n        \"semantic_type\": \"\",\n        \"description\": \"\"\n      }\n    },\n    {\n      \"column\": \"disgust\",\n      \"properties\": {\n        \"dtype\": \"float32\",\n        \"num_unique_values\": 6066,\n        \"samples\": [\n          0.003765060333535075,\n          0.02640666626393795,\n          0.0406935028731823\n        ],\n        \"semantic_type\": \"\",\n        \"description\": \"\"\n      }\n    },\n    {\n      \"column\": \"fear\",\n      \"properties\": {\n        \"dtype\": \"float32\",\n        \"num_unique_values\": 6067,\n        \"samples\": [\n          0.0009879202116280794,\n          0.001780109596438706,\n          0.006137593649327755\n        ],\n        \"semantic_type\": \"\",\n        \"description\": \"\"\n      }\n    },\n    {\n      \"column\": \"joy\",\n      \"properties\": {\n        \"dtype\": \"float32\",\n        \"num_unique_values\": 6068,\n        \"samples\": [\n          0.009810755029320717,\n          0.4480385482311249,\n          0.592882513999939\n        ],\n        \"semantic_type\": \"\",\n        \"description\": \"\"\n      }\n    },\n    {\n      \"column\": \"neutral\",\n      \"properties\": {\n        \"dtype\": \"float32\",\n        \"num_unique_values\": 6068,\n        \"samples\": [\n          0.1238805279135704,\n          0.30375808477401733,\n          0.24275828897953033\n        ],\n        \"semantic_type\": \"\",\n        \"description\": \"\"\n      }\n    },\n    {\n      \"column\": \"sadness\",\n      \"properties\": {\n        \"dtype\": \"float32\",\n        \"num_unique_values\": 6069,\n        \"samples\": [\n          0.3898398280143738,\n          0.04568827524781227,\n          0.06942970305681229\n        ],\n        \"semantic_type\": \"\",\n        \"description\": \"\"\n      }\n    },\n    {\n      \"column\": \"surprise\",\n      \"properties\": {\n        \"dtype\": \"float32\",\n        \"num_unique_values\": 6067,\n        \"samples\": [\n          0.020994042977690697,\n          0.12282250076532364,\n          0.020082244649529457\n        ],\n        \"semantic_type\": \"\",\n        \"description\": \"\"\n      }\n    }\n  ]\n}"
            }
          },
          "metadata": {},
          "execution_count": 21
        }
      ]
    },
    {
      "cell_type": "code",
      "source": [
        "df.to_csv('emotions_movie_reviews.csv', index=False)"
      ],
      "metadata": {
        "id": "Du53UVjT37TZ"
      },
      "execution_count": 23,
      "outputs": []
    },
    {
      "cell_type": "code",
      "source": [
        "# Save the model\n",
        "model.save_pretrained(\"Model_Emotions\")"
      ],
      "metadata": {
        "id": "lO_Pg1Mf37XQ"
      },
      "execution_count": 27,
      "outputs": []
    },
    {
      "cell_type": "code",
      "source": [
        "# Save the predictions (if not in a Colab notebook, specify path)\n",
        "df.to_csv(\"predictions.csv\", index=False)"
      ],
      "metadata": {
        "id": "NVVuUeEH37Zh"
      },
      "execution_count": 28,
      "outputs": []
    }
  ]
}