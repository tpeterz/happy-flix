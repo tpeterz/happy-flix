{
 "cells": [
  {
   "cell_type": "code",
   "execution_count": 1,
   "id": "6a314ab2",
   "metadata": {},
   "outputs": [
    {
     "name": "stderr",
     "output_type": "stream",
     "text": [
      "C:\\Users\\c_mar\\anaconda3\\envs\\dev\\lib\\site-packages\\transformers\\utils\\generic.py:260: UserWarning: torch.utils._pytree._register_pytree_node is deprecated. Please use torch.utils._pytree.register_pytree_node instead.\n",
      "  torch.utils._pytree._register_pytree_node(\n"
     ]
    }
   ],
   "source": [
    "import gradio as gr\n",
    "from transformers import pipeline\n",
    "import numpy as np\n",
    "import openai\n",
    "import warnings\n",
    "import os\n",
    "warnings.filterwarnings('ignore')\n",
    "from dotenv import load_dotenv\n",
    "load_dotenv()\n",
    "openai.api_key = os.getenv(\"OPENAI_API_KEY\")\n"
   ]
  },
  {
   "cell_type": "code",
   "execution_count": 5,
   "id": "c3dc1e84",
   "metadata": {},
   "outputs": [
    {
     "name": "stdout",
     "output_type": "stream",
     "text": [
      "An error occurred: \n",
      "\n",
      "You tried to access openai.Engine, but this is no longer supported in openai>=1.0.0 - see the README at https://github.com/openai/openai-python for the API.\n",
      "\n",
      "You can run `openai migrate` to automatically upgrade your codebase to use the 1.0.0 interface. \n",
      "\n",
      "Alternatively, you can pin your installation to the old version, e.g. `pip install openai==0.28`\n",
      "\n",
      "A detailed migration guide is available here: https://github.com/openai/openai-python/discussions/742\n",
      "\n"
     ]
    }
   ],
   "source": [
    "def list_engines():\n",
    "    try:\n",
    "        # Fetch the list of available engines\n",
    "        response = openai.Engine.list()\n",
    "        # Print out the list of engines\n",
    "        for engine in response['data']:\n",
    "            print(f\"Engine ID: {engine['id']}, Ready: {engine['ready']}\")\n",
    "    except Exception as e:\n",
    "        print(f\"An error occurred: {e}\")\n",
    "\n",
    "# Call the function to list engines\n",
    "list_engines()"
   ]
  },
  {
   "cell_type": "code",
   "execution_count": 3,
   "id": "5c8fdcbc",
   "metadata": {},
   "outputs": [
    {
     "ename": "SyntaxError",
     "evalue": "invalid syntax (2463506640.py, line 1)",
     "output_type": "error",
     "traceback": [
      "\u001b[1;36m  Cell \u001b[1;32mIn[3], line 1\u001b[1;36m\u001b[0m\n\u001b[1;33m    openai migrate\u001b[0m\n\u001b[1;37m           ^\u001b[0m\n\u001b[1;31mSyntaxError\u001b[0m\u001b[1;31m:\u001b[0m invalid syntax\n"
     ]
    }
   ],
   "source": [
    "openai migrate"
   ]
  },
  {
   "cell_type": "code",
   "execution_count": null,
   "id": "60d537f1",
   "metadata": {},
   "outputs": [],
   "source": [
    "# Preference\n",
    "# Initialize the ASR pipeline\n",
    "transcriber = pipeline(\"automatic-speech-recognition\", model=\"openai/whisper-base.en\")\n",
    "\n",
    "def transcribe_and_save(audio):\n",
    "    sr, y = audio\n",
    "    y = y.astype(np.float32)\n",
    "    y /= np.max(np.abs(y))\n",
    "    transcription = transcriber({\"sampling_rate\": sr, \"raw\": y})[\"text\"]\n",
    "    \n",
    "    # Write the transcription to a file\n",
    "    with open(\"transcription_movie_selection.txt\", \"w\") as file:\n",
    "        file.write(transcription)\n",
    "    \n",
    "    return transcription\n",
    "\n",
    "# Create the Gradio interface\n",
    "demo = gr.Interface(\n",
    "    transcribe_and_save,\n",
    "    gr.Audio(sources=[\"microphone\"]),\n",
    "    \"text\",\n",
    ")\n",
    "\n",
    "demo.launch(share=False)\n",
    "#change to True for outside URL\n"
   ]
  },
  {
   "cell_type": "code",
   "execution_count": null,
   "id": "ea97625d",
   "metadata": {},
   "outputs": [],
   "source": [
    "#pure movie selection analysis with OpenAI\n",
    "#preprocess txt file\n",
    "\n",
    "with open('transcription_movie_selection.txt', 'r', encoding=\"utf-8\") as file:\n",
    "    text = file.read()\n"
   ]
  },
  {
   "cell_type": "code",
   "execution_count": null,
   "id": "4e44befb",
   "metadata": {},
   "outputs": [],
   "source": [
    "# Load environment variables from .env file\n",
    "from dotenv import load_dotenv\n",
    "load_dotenv()\n",
    "\n",
    "# Set your OpenAI API key\n",
    "openai.api_key = os.getenv(\"OPENAI_API_KEY\")\n",
    "\n",
    "# Function time\n",
    "\n",
    "def get_preference(question):\n",
    "    messages = [\n",
    "        {\"role\": \"system\", \"content\": \"Determine three movies based on the preferences in the provided text.\"},\n",
    "        {\"role\": \"user\", \"content\": question}\n",
    "    ]\n",
    "    \n",
    "    # Use the chat completions method\n",
    "    response = openai.chat.completions.create(\n",
    "        model=\"gpt-4\",\n",
    "        messages=messages\n",
    "    )\n",
    "    \n",
    "    # Extract the answer from the response\n",
    "    answer = response.choices[0].message.content\n",
    "    return answer\n",
    "\n",
    "def analyze_document(filename):\n",
    "    with open(filename, 'r') as file:\n",
    "        text = file.read()\n",
    "    preference = get_preference(text)\n",
    "    print(f\"Preference: {preference}\")\n",
    "\n",
    "analyze_document('transcription_movie_selection.txt')\n"
   ]
  },
  {
   "cell_type": "markdown",
   "id": "4d4692bb",
   "metadata": {},
   "source": [
    "Determine three types of movies genres preferred by the provided text ranked in order of preference.\n",
    "\n",
    "Preference: 1. \"E.T. the Extra-Terrestrial\" - This iconic Steven Spielberg film notably features a scene with the alien character E.T. consuming Reese's Pieces (a form of peanut butter candy) and includes many bicycle scenes.\n",
    "\n",
    "2. \"Paul\" - This comedy film follows two comic book enthusiasts who encounter an alien near Area 51 - while it doesn't directly feature bicycles or peanut butter, it has a similar comedic sensibility that may appeal to someone with those interests.\n",
    "\n",
    "3. \"Race to Witch Mountain\" - This adventure film features two alien siblings using their powers on earth. While it doesn't explicitly involve peanut butter or bicycles, it has the look and feel of movies that would fit those criteria.\n",
    "\n",
    "Determine three movies based on the preferences in the provided text.\n",
    "\n"
   ]
  },
  {
   "cell_type": "code",
   "execution_count": null,
   "id": "43cab426",
   "metadata": {},
   "outputs": [],
   "source": [
    "#Change Gradio Interface (gradio theme builder)\n",
    "\n",
    "gr.themes.builder()"
   ]
  },
  {
   "cell_type": "code",
   "execution_count": 6,
   "id": "6687de44",
   "metadata": {},
   "outputs": [
    {
     "name": "stdout",
     "output_type": "stream",
     "text": [
      "Running on local URL:  http://127.0.0.1:7873\n",
      "\n",
      "To create a public link, set `share=True` in `launch()`.\n"
     ]
    },
    {
     "data": {
      "text/html": [
       "<div><iframe src=\"http://127.0.0.1:7873/\" width=\"100%\" height=\"500\" allow=\"autoplay; camera; microphone; clipboard-read; clipboard-write;\" frameborder=\"0\" allowfullscreen></iframe></div>"
      ],
      "text/plain": [
       "<IPython.core.display.HTML object>"
      ]
     },
     "metadata": {},
     "output_type": "display_data"
    }
   ],
   "source": [
    "def greet(name):\n",
    "    return \"Hello \" + name + \"!\"\n",
    "\n",
    "demo = gr.Interface(\n",
    "    fn=greet,\n",
    "    inputs=gr.Textbox(value=\"Enter your name here\"),\n",
    "    outputs=\"textbox\"\n",
    ")\n",
    "\n",
    "if __name__ == \"__main__\":\n",
    "    demo.launch()"
   ]
  },
  {
   "cell_type": "code",
   "execution_count": 2,
   "id": "2d5612a5",
   "metadata": {},
   "outputs": [
    {
     "name": "stdout",
     "output_type": "stream",
     "text": [
      "Running on local URL:  http://127.0.0.1:7863\n",
      "\n",
      "To create a public link, set `share=True` in `launch()`.\n"
     ]
    },
    {
     "data": {
      "text/html": [
       "<div><iframe src=\"http://127.0.0.1:7863/\" width=\"100%\" height=\"500\" allow=\"autoplay; camera; microphone; clipboard-read; clipboard-write;\" frameborder=\"0\" allowfullscreen></iframe></div>"
      ],
      "text/plain": [
       "<IPython.core.display.HTML object>"
      ]
     },
     "metadata": {},
     "output_type": "display_data"
    }
   ],
   "source": [
    "import gradio as gr\n",
    "\n",
    "def process_audio(audio):\n",
    "    # Your audio processing function here\n",
    "    return \"Processed audio\"\n",
    "\n",
    "input_audio = gr.Audio(\n",
    "    label=\"Please record your audio here\", # This is the prompt text\n",
    "    sources=[\"microphone\"],\n",
    ")\n",
    "\n",
    "demo = gr.Interface(\n",
    "    fn=process_audio,\n",
    "    inputs=input_audio,\n",
    "    outputs=\"text\"\n",
    ")\n",
    "\n",
    "if __name__ == \"__main__\":\n",
    "    demo.launch()\n"
   ]
  },
  {
   "cell_type": "code",
   "execution_count": 3,
   "id": "c07c6251",
   "metadata": {
    "scrolled": true
   },
   "outputs": [
    {
     "name": "stdout",
     "output_type": "stream",
     "text": [
      "Running on local URL:  http://127.0.0.1:7869\n",
      "\n",
      "To create a public link, set `share=True` in `launch()`.\n"
     ]
    },
    {
     "data": {
      "text/html": [
       "<div><iframe src=\"http://127.0.0.1:7869/\" width=\"100%\" height=\"500\" allow=\"autoplay; camera; microphone; clipboard-read; clipboard-write;\" frameborder=\"0\" allowfullscreen></iframe></div>"
      ],
      "text/plain": [
       "<IPython.core.display.HTML object>"
      ]
     },
     "metadata": {},
     "output_type": "display_data"
    },
    {
     "data": {
      "text/plain": []
     },
     "execution_count": 3,
     "metadata": {},
     "output_type": "execute_result"
    }
   ],
   "source": [
    "#display Taylor's output\n",
    "import gradio as gr\n",
    "\n",
    "def greet(name):\n",
    "    greeting = \"Hello \" + name\n",
    "    return greeting\n",
    "\n",
    "demo = gr.Interface(fn=greet,\n",
    "             inputs=gr.Textbox(), \n",
    "             outputs=gr.Textbox(), # Gradio TextBox component as an output component\n",
    "             )\n",
    "\n",
    "demo.launch()\n"
   ]
  },
  {
   "cell_type": "code",
   "execution_count": 6,
   "id": "745b1b37",
   "metadata": {},
   "outputs": [
    {
     "name": "stdout",
     "output_type": "stream",
     "text": [
      "Requirement already satisfied: flask in c:\\users\\c_mar\\anaconda3\\envs\\dev\\lib\\site-packages (2.2.2)\n",
      "Requirement already satisfied: Werkzeug>=2.2.2 in c:\\users\\c_mar\\anaconda3\\envs\\dev\\lib\\site-packages (from flask) (2.2.3)\n",
      "Requirement already satisfied: Jinja2>=3.0 in c:\\users\\c_mar\\anaconda3\\envs\\dev\\lib\\site-packages (from flask) (3.1.2)\n",
      "Requirement already satisfied: itsdangerous>=2.0 in c:\\users\\c_mar\\anaconda3\\envs\\dev\\lib\\site-packages (from flask) (2.0.1)\n",
      "Requirement already satisfied: click>=8.0 in c:\\users\\c_mar\\anaconda3\\envs\\dev\\lib\\site-packages (from flask) (8.0.4)\n",
      "Requirement already satisfied: colorama in c:\\users\\c_mar\\anaconda3\\envs\\dev\\lib\\site-packages (from click>=8.0->flask) (0.4.6)\n",
      "Requirement already satisfied: MarkupSafe>=2.0 in c:\\users\\c_mar\\anaconda3\\envs\\dev\\lib\\site-packages (from Jinja2>=3.0->flask) (2.1.1)\n",
      " * Serving Flask app '__main__'\n",
      " * Debug mode: on\n"
     ]
    },
    {
     "name": "stderr",
     "output_type": "stream",
     "text": [
      "WARNING: This is a development server. Do not use it in a production deployment. Use a production WSGI server instead.\n",
      " * Running on http://127.0.0.1:5000\n",
      "Press CTRL+C to quit\n",
      " * Restarting with watchdog (windowsapi)\n"
     ]
    },
    {
     "ename": "SystemExit",
     "evalue": "1",
     "output_type": "error",
     "traceback": [
      "An exception has occurred, use %tb to see the full traceback.\n",
      "\u001b[1;31mSystemExit\u001b[0m\u001b[1;31m:\u001b[0m 1\n"
     ]
    }
   ],
   "source": [
    "!pip install flask\n",
    "\n",
    "import flask\n",
    "from flask import render_template\n",
    "import time\n",
    "\n",
    "app = flask.Flask(__name__)\n",
    "\n",
    "@app.route('/yield')\n",
    "def index():\n",
    "    def inner():\n",
    "        for x in range(100):\n",
    "            time.sleep(1)\n",
    "            yield f'{x}<br/>\\n'\n",
    "    return flask.Response(inner(), mimetype='text/html')\n",
    "\n",
    "if __name__ == '__main__':\n",
    "    app.run(debug=True)\n"
   ]
  }
 ],
 "metadata": {
  "kernelspec": {
   "display_name": "Python 3 (ipykernel)",
   "language": "python",
   "name": "python3"
  },
  "language_info": {
   "codemirror_mode": {
    "name": "ipython",
    "version": 3
   },
   "file_extension": ".py",
   "mimetype": "text/x-python",
   "name": "python",
   "nbconvert_exporter": "python",
   "pygments_lexer": "ipython3",
   "version": "3.10.13"
  }
 },
 "nbformat": 4,
 "nbformat_minor": 5
}
