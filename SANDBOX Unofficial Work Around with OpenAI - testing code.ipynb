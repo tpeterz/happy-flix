{
 "cells": [
  {
   "cell_type": "code",
   "execution_count": 1,
   "id": "6a314ab2",
   "metadata": {},
   "outputs": [
    {
     "name": "stderr",
     "output_type": "stream",
     "text": [
      "C:\\Users\\c_mar\\anaconda3\\envs\\dev\\lib\\site-packages\\transformers\\utils\\generic.py:260: UserWarning: torch.utils._pytree._register_pytree_node is deprecated. Please use torch.utils._pytree.register_pytree_node instead.\n",
      "  torch.utils._pytree._register_pytree_node(\n"
     ]
    }
   ],
   "source": [
    "import gradio as gr\n",
    "from transformers import pipeline\n",
    "import numpy as np\n",
    "import openai\n",
    "import warnings\n",
    "warnings.filterwarnings('ignore')\n",
    "import os\n",
    "from dotenv import load_dotenv\n",
    "load_dotenv()\n",
    "\n",
    "openai.api_key = os.getenv(\"OPENAI_API_KEY\")\n"
   ]
  },
  {
   "cell_type": "code",
   "execution_count": 2,
   "id": "60d537f1",
   "metadata": {},
   "outputs": [
    {
     "name": "stdout",
     "output_type": "stream",
     "text": [
      "Running on local URL:  http://127.0.0.1:7865\n",
      "\n",
      "To create a public link, set `share=True` in `launch()`.\n"
     ]
    },
    {
     "data": {
      "text/html": [
       "<div><iframe src=\"http://127.0.0.1:7865/\" width=\"100%\" height=\"500\" allow=\"autoplay; camera; microphone; clipboard-read; clipboard-write;\" frameborder=\"0\" allowfullscreen></iframe></div>"
      ],
      "text/plain": [
       "<IPython.core.display.HTML object>"
      ]
     },
     "metadata": {},
     "output_type": "display_data"
    },
    {
     "data": {
      "text/plain": []
     },
     "execution_count": 2,
     "metadata": {},
     "output_type": "execute_result"
    }
   ],
   "source": [
    "# Preference\n",
    "# Initialize the ASR pipeline\n",
    "transcriber = pipeline(\"automatic-speech-recognition\", model=\"openai/whisper-base.en\")\n",
    "\n",
    "def transcribe_and_save(audio):\n",
    "    sr, y = audio\n",
    "    y = y.astype(np.float32)\n",
    "    y /= np.max(np.abs(y))\n",
    "    transcription = transcriber({\"sampling_rate\": sr, \"raw\": y})[\"text\"]\n",
    "    \n",
    "    # Write the transcription to a file\n",
    "    with open(\"transcription_movie_selection.txt\", \"w\") as file:\n",
    "        file.write(transcription)\n",
    "    \n",
    "    return transcription\n",
    "\n",
    "# Create the Gradio interface\n",
    "demo = gr.Interface(\n",
    "    transcribe_and_save,\n",
    "    gr.Audio(sources=[\"microphone\"]),\n",
    "    \"text\",\n",
    ")\n",
    "\n",
    "demo.launch(share=False)\n",
    "#change to True for outside URL\n"
   ]
  },
  {
   "cell_type": "code",
   "execution_count": 5,
   "id": "ea97625d",
   "metadata": {},
   "outputs": [],
   "source": [
    "#pure movie selection analysis with OpenAI\n",
    "#preprocess txt file\n",
    "\n",
    "with open('transcription_movie_selection.txt', 'r', encoding=\"utf-8\") as file:\n",
    "    text = file.read()\n"
   ]
  },
  {
   "cell_type": "code",
   "execution_count": 7,
   "id": "4e44befb",
   "metadata": {},
   "outputs": [
    {
     "name": "stdout",
     "output_type": "stream",
     "text": [
      "Movie Recommendations: 1. \"Lilo & Stitch\" - This animated movie features a lovable, mischievous alien and the heartfelt bond he forms with a young girl named Lilo. It's full of laughter and endearing moments that will surely lift your spirits.\n",
      "\n",
      "2. \"The Secret Life of Pets\" - This is a delightful movie that showcases the unexpected adventures of domesticated dogs when their owners are away. It’s humorous and touching, instilling a sense of joy and fondness for our furry friends.\n",
      "\n",
      "3. \"Ice Cream Man\" - An offbeat, 90s horror comedy which has now become a cult classic. For someone who can appreciate some dark humor, this quirky movie featuring an ice cream man can serve as an oddball cheer-up film. \n",
      "\n",
      "Alternatively, if you're looking for something more lighthearted with the ice cream theme, \"Cloudy with a Chance of Meatballs 2\" has a scene with adorable, living, and unforgettable foodimals which do include cheerful ice cream creatures.\n"
     ]
    }
   ],
   "source": [
    "# Load environment variables from .env file\n",
    "from dotenv import load_dotenv\n",
    "load_dotenv()\n",
    "\n",
    "# Set your OpenAI API key\n",
    "openai.api_key = os.getenv(\"OPENAI_API_KEY\")\n",
    "\n",
    "# Function time\n",
    "\n",
    "def get_preference(question):\n",
    "    messages = [\n",
    "        {\"role\": \"system\", \"content\": \"Determine three movies to make the person happier based on the provided text.\"},\n",
    "        {\"role\": \"user\", \"content\": question}\n",
    "    ]\n",
    "    \n",
    "    # Use the chat completions method\n",
    "    response = openai.chat.completions.create(\n",
    "        model=\"gpt-4\",\n",
    "        messages=messages\n",
    "    )\n",
    "    \n",
    "    # Extract the answer from the response\n",
    "    answer = response.choices[0].message.content\n",
    "    return answer\n",
    "\n",
    "def analyze_document(filename):\n",
    "    with open(filename, 'r') as file:\n",
    "        text = file.read()\n",
    "    preference = get_preference(text)\n",
    "    print(f\"Movie Recommendations: {preference}\")\n",
    "\n",
    "analyze_document('transcription_movie_selection.txt')\n"
   ]
  }
 ],
 "metadata": {
  "kernelspec": {
   "display_name": "Python 3 (ipykernel)",
   "language": "python",
   "name": "python3"
  },
  "language_info": {
   "codemirror_mode": {
    "name": "ipython",
    "version": 3
   },
   "file_extension": ".py",
   "mimetype": "text/x-python",
   "name": "python",
   "nbconvert_exporter": "python",
   "pygments_lexer": "ipython3",
   "version": "3.10.13"
  }
 },
 "nbformat": 4,
 "nbformat_minor": 5
}
