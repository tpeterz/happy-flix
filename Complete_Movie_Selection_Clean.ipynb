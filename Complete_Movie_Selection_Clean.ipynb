{
 "cells": [
  {
   "cell_type": "code",
   "execution_count": 1,
   "id": "6a314ab2",
   "metadata": {},
   "outputs": [
    {
     "name": "stderr",
     "output_type": "stream",
     "text": [
      "C:\\Users\\c_mar\\anaconda3\\envs\\dev\\lib\\site-packages\\transformers\\utils\\generic.py:260: UserWarning: torch.utils._pytree._register_pytree_node is deprecated. Please use torch.utils._pytree.register_pytree_node instead.\n",
      "  torch.utils._pytree._register_pytree_node(\n"
     ]
    }
   ],
   "source": [
    "import pandas as pd\n",
    "import gradio as gr\n",
    "from transformers import pipeline\n",
    "import numpy as np\n",
    "import openai\n",
    "import warnings\n",
    "warnings.filterwarnings('ignore')\n",
    "import os\n",
    "\n",
    "from dotenv import load_dotenv\n",
    "load_dotenv()\n",
    "\n",
    "# Set your OpenAI API key\n",
    "openai.api_key = os.getenv(\"OPENAI_API_KEY\")\n",
    "\n"
   ]
  },
  {
   "cell_type": "code",
   "execution_count": 4,
   "id": "60d537f1",
   "metadata": {},
   "outputs": [
    {
     "name": "stdout",
     "output_type": "stream",
     "text": [
      "Running on local URL:  http://127.0.0.1:7867\n",
      "\n",
      "To create a public link, set `share=True` in `launch()`.\n"
     ]
    },
    {
     "data": {
      "text/html": [
       "<div><iframe src=\"http://127.0.0.1:7867/\" width=\"100%\" height=\"500\" allow=\"autoplay; camera; microphone; clipboard-read; clipboard-write;\" frameborder=\"0\" allowfullscreen></iframe></div>"
      ],
      "text/plain": [
       "<IPython.core.display.HTML object>"
      ]
     },
     "metadata": {},
     "output_type": "display_data"
    },
    {
     "data": {
      "text/plain": []
     },
     "execution_count": 4,
     "metadata": {},
     "output_type": "execute_result"
    }
   ],
   "source": [
    "# Preference\n",
    "# Initialize the ASR pipeline\n",
    "transcriber = pipeline(\"automatic-speech-recognition\", model=\"openai/whisper-base.en\")\n",
    "\n",
    "def transcribe_and_save(audio):\n",
    "    sr, y = audio\n",
    "    y = y.astype(np.float32)\n",
    "    y /= np.max(np.abs(y))\n",
    "    transcription = transcriber({\"sampling_rate\": sr, \"raw\": y})[\"text\"]\n",
    "\n",
    "    # Write the transcription to a file\n",
    "    with open(\"transcription_movie_selection.txt\", \"w\") as file:\n",
    "        file.write(transcription)\n",
    "    \n",
    "    return transcription\n",
    "\n",
    "\n",
    "# Create the Gradio interface\n",
    "demo = gr.Interface(\n",
    "    transcribe_and_save,\n",
    "    gr.Audio(sources=[\"microphone\"], label=\"Tell me how your day was and what things you enjoy in movies!\"),\n",
    "    \"text\",\n",
    ")\n",
    "\n",
    "demo.launch(share=False)\n",
    "#change to True for outside URL\n"
   ]
  },
  {
   "cell_type": "code",
   "execution_count": 5,
   "id": "ea97625d",
   "metadata": {},
   "outputs": [],
   "source": [
    "#pure movie selection analysis with OpenAI\n",
    "#preprocess txt file\n",
    "\n",
    "with open('transcription_movie_selection.txt', 'r', encoding=\"utf-8\") as file:\n",
    "    text = file.read()\n"
   ]
  },
  {
   "cell_type": "code",
   "execution_count": 6,
   "id": "4e44befb",
   "metadata": {},
   "outputs": [
    {
     "name": "stdout",
     "output_type": "stream",
     "text": [
      " I've had a really great day, but I'd really like to watch a movie that has Dogs Aliens Marshmallows and Cars\n",
      "joy\n",
      "action, adventure, comedy\n"
     ]
    }
   ],
   "source": [
    "# Function time\n",
    "\n",
    "def get_preference(question):\n",
    "    messages = [\n",
    "        {\"role\": \"system\", \"content\": \"Determine the single emotion of the text as anger, disgust, fear, joy, neutral, sadness, or surprise and based on the provided text select three of the following genres: Action, Adventure, Animation, Comedy, Crime, Documentary, Drama, Family, Fantasy, History, Horror, Music, Mystery, Romance, Science Fiction, TV Movie, Thriller, War, and Western. Output all results in lower case font.\"},\n",
    "        {\"role\": \"user\", \"content\": question}\n",
    "    ]\n",
    "    \n",
    "    # Use the chat completions method\n",
    "    response = openai.chat.completions.create(\n",
    "        model=\"gpt-4\",\n",
    "        messages=messages\n",
    "    )\n",
    "    \n",
    "    # Extract the answer from the response\n",
    "    answer = response.choices[0].message.content\n",
    "    return answer\n",
    "\n",
    "def analyze_document(filename):\n",
    "    with open(filename, 'r') as file:\n",
    "        text = file.read()\n",
    "    preference = get_preference(text)\n",
    "    print(f\"{preference}\")\n",
    "\n",
    "def analyze_document(filename, movie_output):\n",
    "    with open(filename, 'r') as file:\n",
    "        text = file.read()\n",
    "    preference = get_preference(text)\n",
    "    \n",
    "    # Write the output to a text file\n",
    "    with open(movie_output, 'w') as outfile:\n",
    "        outfile.write(f\"{preference}\\n\")\n",
    "\n",
    "analyze_document('transcription_movie_selection.txt', 'movie_output.txt')\n",
    "\n",
    "with open('movie_output.txt') as file:\n",
    "    lines = file.readlines()\n",
    "\n",
    "# Display the lines\n",
    "print(text)\n",
    "for line in lines:\n",
    "    print(line.strip())\n"
   ]
  },
  {
   "cell_type": "code",
   "execution_count": 7,
   "id": "8c5cf82a",
   "metadata": {},
   "outputs": [],
   "source": [
    "#Analysis tool\n",
    "\n",
    "# Read the recommendation_ready.csv file into the dataframe for use\n",
    "movie_predictions_df = pd.read_csv(\"recommendation_ready.csv\")"
   ]
  },
  {
   "cell_type": "code",
   "execution_count": null,
   "id": "f1c74547",
   "metadata": {},
   "outputs": [],
   "source": [
    "#movie_predictions_df.head()"
   ]
  },
  {
   "cell_type": "code",
   "execution_count": 12,
   "id": "1f3c9829",
   "metadata": {},
   "outputs": [
    {
     "name": "stdout",
     "output_type": "stream",
     "text": [
      "<class 'pandas.core.frame.DataFrame'>\n",
      "RangeIndex: 6123 entries, 0 to 6122\n",
      "Data columns (total 44 columns):\n",
      " #   Column                Non-Null Count  Dtype  \n",
      "---  ------                --------------  -----  \n",
      " 0   Unnamed: 0            6123 non-null   int64  \n",
      " 1   genre_ids             6123 non-null   object \n",
      " 2   movie_id              6123 non-null   int64  \n",
      " 3   popularity            6123 non-null   float64\n",
      " 4   release_date          6123 non-null   object \n",
      " 5   title                 6123 non-null   object \n",
      " 6   clean_reviews         6122 non-null   object \n",
      " 7   type_Action           6123 non-null   int64  \n",
      " 8   type_Adventure        6123 non-null   int64  \n",
      " 9   type_Animation        6123 non-null   int64  \n",
      " 10  type_Comedy           6123 non-null   int64  \n",
      " 11  type_Crime            6123 non-null   int64  \n",
      " 12  type_Documentary      6123 non-null   int64  \n",
      " 13  type_Drama            6123 non-null   int64  \n",
      " 14  type_Family           6123 non-null   int64  \n",
      " 15  type_Fantasy          6123 non-null   int64  \n",
      " 16  type_History          6123 non-null   int64  \n",
      " 17  type_Horror           6123 non-null   int64  \n",
      " 18  type_Music            6123 non-null   int64  \n",
      " 19  type_Mystery          6123 non-null   int64  \n",
      " 20  type_Romance          6123 non-null   int64  \n",
      " 21  type_Science Fiction  6123 non-null   int64  \n",
      " 22  type_TV Movie         6123 non-null   int64  \n",
      " 23  type_Thriller         6123 non-null   int64  \n",
      " 24  type_War              6123 non-null   int64  \n",
      " 25  type_Western          6123 non-null   int64  \n",
      " 26  clean_overviews       6123 non-null   object \n",
      " 27  release_year          6123 non-null   int64  \n",
      " 28  lemmatized_overviews  6123 non-null   object \n",
      " 29  adjective_counts      6123 non-null   object \n",
      " 30  lemmatized_reviews    6123 non-null   object \n",
      " 31  sentiment             6123 non-null   int64  \n",
      " 32  text                  6123 non-null   object \n",
      " 33  pred                  6123 non-null   int64  \n",
      " 34  label                 6123 non-null   object \n",
      " 35  score                 6123 non-null   float64\n",
      " 36  anger                 6123 non-null   float64\n",
      " 37  disgust               6123 non-null   float64\n",
      " 38  fear                  6123 non-null   float64\n",
      " 39  joy                   6123 non-null   float64\n",
      " 40  neutral               6123 non-null   float64\n",
      " 41  sadness               6123 non-null   float64\n",
      " 42  surprise              6123 non-null   float64\n",
      " 43  poster_path           6119 non-null   object \n",
      "dtypes: float64(9), int64(24), object(11)\n",
      "memory usage: 2.1+ MB\n"
     ]
    }
   ],
   "source": [
    "movie_predictions_df.info()"
   ]
  },
  {
   "cell_type": "code",
   "execution_count": 8,
   "id": "eac4aeb0",
   "metadata": {
    "scrolled": true
   },
   "outputs": [
    {
     "name": "stdout",
     "output_type": "stream",
     "text": [
      "[{'message': 'Genre column type_Comedy\\n not found in DataFrame.'}]\n"
     ]
    }
   ],
   "source": [
    "def recommend_movies(file_path):\n",
    "    # Read the file and parse the emotion and genres\n",
    "    with open(file_path, 'r') as f:\n",
    "        lines = f.readlines()\n",
    "\n",
    "    emotion = lines[0]#.split(': ')[1].strip().lower()\n",
    "    genres = lines[1].split(', ')#[genre.strip().lower() for genre in lines[1].split(': ')[1].split(', ')]\n",
    "\n",
    "    # Ensure emotion column exists\n",
    "   # if 'label' not in movie_predictions_df.columns:\n",
    "   #     return [{\"message\": \"Emotion label column not found in DataFrame.\"}]\n",
    "\n",
    "    # Filter movies based on the predicted emotion\n",
    "    emotion_movies = movie_predictions_df[movie_predictions_df['label'].str.lower() == emotion]\n",
    "\n",
    "   # if emotion_movies.empty:\n",
    "   #     return [{\"message\": \"No movies match your emotion preference.\"}]\n",
    "\n",
    "    # Initialize a DataFrame to store genre matches\n",
    "    emotion_movies['genre_match_count'] = 0\n",
    "\n",
    "    # Check and count genre matches\n",
    "    for genre in genres:\n",
    "        genre_column = f\"type_{genre.capitalize().replace(' ', '_')}\"\n",
    "        if genre_column in movie_predictions_df.columns:\n",
    "            emotion_movies['genre_match_count'] += emotion_movies[genre_column]\n",
    "        else:\n",
    "            return [{\"message\": f\"Genre column {genre_column} not found in DataFrame.\"}]\n",
    "\n",
    "    # Filter out movies that do not match any genre, if needed\n",
    "    matched_movies = emotion_movies[emotion_movies['genre_match_count'] > 0]\n",
    "\n",
    "    if matched_movies.empty:\n",
    "        return [{\"message\": \"No movies match your emotion preference.\"}]\n",
    "\n",
    "    # Sort the DataFrame by genre match count (and other criteria if necessary)\n",
    "    top_movies = matched_movies.sort_values(by='genre_match_count', ascending=False).head(3)\n",
    "\n",
    "    # Prepare the final recommendations\n",
    "    recommendations = [{\n",
    "        \"id\": row['movie_id'],\n",
    "        \"title\": row['title'],\n",
    "        \"poster_url\": f\"https://image.tmdb.org/t/p/w300{row['poster_path']}\",\n",
    "        \"overview\": row['clean_overviews'],\n",
    "        \"emotion\": row['label'],\n",
    "        \"genres\": \", \".join(genres),\n",
    "        \"matches\": row['genre_match_count']\n",
    "    } for index, row in top_movies.iterrows()]\n",
    "\n",
    "    return recommendations\n",
    "\n",
    "# Example usage\n",
    "file_path = 'movie_output.txt'\n",
    "recommendations = recommend_movies(file_path)\n",
    "print(recommendations)\n"
   ]
  },
  {
   "cell_type": "code",
   "execution_count": null,
   "id": "86de10ef",
   "metadata": {},
   "outputs": [],
   "source": []
  }
 ],
 "metadata": {
  "kernelspec": {
   "display_name": "Python 3 (ipykernel)",
   "language": "python",
   "name": "python3"
  },
  "language_info": {
   "codemirror_mode": {
    "name": "ipython",
    "version": 3
   },
   "file_extension": ".py",
   "mimetype": "text/x-python",
   "name": "python",
   "nbconvert_exporter": "python",
   "pygments_lexer": "ipython3",
   "version": "3.10.13"
  }
 },
 "nbformat": 4,
 "nbformat_minor": 5
}
