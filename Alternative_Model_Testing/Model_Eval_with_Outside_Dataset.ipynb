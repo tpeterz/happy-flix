{
  "nbformat": 4,
  "nbformat_minor": 0,
  "metadata": {
    "colab": {
      "provenance": [],
      "mount_file_id": "1cRPa7rrPCWwfDQAFvn_x7MH0Lwu-8QHx",
      "authorship_tag": "ABX9TyP39T9dPkFVY02HJWixX7ia",
      "include_colab_link": true
    },
    "kernelspec": {
      "name": "python3",
      "display_name": "Python 3"
    },
    "language_info": {
      "name": "python"
    }
  },
  "cells": [
    {
      "cell_type": "markdown",
      "metadata": {
        "id": "view-in-github",
        "colab_type": "text"
      },
      "source": [
        "<a href=\"https://colab.research.google.com/github/tpeterz/happy-flix/blob/main/Alternative_Model_Testing/Model_Eval_with_Outside_Dataset.ipynb\" target=\"_parent\"><img src=\"https://colab.research.google.com/assets/colab-badge.svg\" alt=\"Open In Colab\"/></a>"
      ]
    },
    {
      "cell_type": "markdown",
      "source": [
        "# This colab notebook was created to perform model evaluation and testing.\n",
        "\n",
        "# This model is **NOT** using our movie reviews dataset. This notebook is here purely to test on a new, separete dataset.\n",
        "---\n",
        "### Link to dataset used for testing the model:\n",
        "\n",
        "[sentiment analysis - SIMA ANJALI](https://www.kaggle.com/datasets/simaanjali/emotion-analysis-based-on-text/)\n",
        "\n",
        "---\n",
        "\n",
        "### Link to model used with the above dataset:\n",
        "\n",
        "[Jochen Hartmann - Emotion English DistilRoBERTa-base](https://huggingface.co/j-hartmann/emotion-english-distilroberta-base)\n",
        "---\n",
        "# Please note: This will require 'Secret' access\n",
        "### When running in Google Colab this can easily be set in the left sidebar.\n",
        "### This require a HuggingFace token, which can be easily created following these steps: [HuggingFace Secret Tokens](https://huggingface.co/docs/hub/en/security-tokens)"
      ],
      "metadata": {
        "id": "oSu_7Bk_31HG"
      }
    },
    {
      "cell_type": "markdown",
      "source": [
        "---\n",
        "## This notebook outputs a set of accuracy scores from the model, listed below:\n",
        "\n",
        "\n",
        "\n",
        ">         Phase      Loss  Accuracy  F1 Score  Precision    Recall  Runtime (s)  \\\n",
        "    Training  0.688114  0.780000  0.762148   0.780587  0.780000     104.7757   \n",
        "    Validation  0.761094  0.746667  0.737896   0.758452  0.746667      17.4617   \n",
        "    Testing  0.781530  0.733333  0.723335   0.726984  0.733333      30.6130   \n",
        "\n",
        "\n",
        "\n",
        "\n",
        "\n"
      ],
      "metadata": {
        "id": "GBcwzRQe4oyd"
      }
    },
    {
      "cell_type": "markdown",
      "source": [
        "# Getting started\n",
        "### Import all required"
      ],
      "metadata": {
        "id": "4iIdC3Ww5omb"
      }
    },
    {
      "cell_type": "code",
      "source": [
        "# A trick/shortcut to install all necessary libraries in one line of code\n",
        "# Note: This may take a while.\n",
        "# In colab, after installation, a session restart will be necessary.\n",
        "# To perform this, use the tool bar at the top of the notebook and click 'Runtime'\n",
        "# The dropdown menu will present a button \"Restart Session\". Select this, and then run all cells again.\n",
        "\n",
        "# When running this after a session restart, it should display that all libraries were\n",
        "    # installed \"Requirement already satisfied...\", and the cell will run much faster than before.\n",
        "\n",
        "!pip install transformers datasets torch scikit-learn pandas"
      ],
      "metadata": {
        "colab": {
          "base_uri": "https://localhost:8080/"
        },
        "id": "hQ6Sc0hn_zkS",
        "outputId": "01de7a5f-d2cc-41a8-d3e7-7c2cec21eadd"
      },
      "execution_count": null,
      "outputs": [
        {
          "output_type": "stream",
          "name": "stdout",
          "text": [
            "Requirement already satisfied: transformers in /usr/local/lib/python3.10/dist-packages (4.40.0)\n",
            "Requirement already satisfied: datasets in /usr/local/lib/python3.10/dist-packages (2.19.0)\n",
            "Requirement already satisfied: torch in /usr/local/lib/python3.10/dist-packages (2.2.1+cu121)\n",
            "Requirement already satisfied: scikit-learn in /usr/local/lib/python3.10/dist-packages (1.2.2)\n",
            "Requirement already satisfied: pandas in /usr/local/lib/python3.10/dist-packages (2.0.3)\n",
            "Requirement already satisfied: filelock in /usr/local/lib/python3.10/dist-packages (from transformers) (3.13.4)\n",
            "Requirement already satisfied: huggingface-hub<1.0,>=0.19.3 in /usr/local/lib/python3.10/dist-packages (from transformers) (0.22.2)\n",
            "Requirement already satisfied: numpy>=1.17 in /usr/local/lib/python3.10/dist-packages (from transformers) (1.25.2)\n",
            "Requirement already satisfied: packaging>=20.0 in /usr/local/lib/python3.10/dist-packages (from transformers) (24.0)\n",
            "Requirement already satisfied: pyyaml>=5.1 in /usr/local/lib/python3.10/dist-packages (from transformers) (6.0.1)\n",
            "Requirement already satisfied: regex!=2019.12.17 in /usr/local/lib/python3.10/dist-packages (from transformers) (2023.12.25)\n",
            "Requirement already satisfied: requests in /usr/local/lib/python3.10/dist-packages (from transformers) (2.31.0)\n",
            "Requirement already satisfied: tokenizers<0.20,>=0.19 in /usr/local/lib/python3.10/dist-packages (from transformers) (0.19.1)\n",
            "Requirement already satisfied: safetensors>=0.4.1 in /usr/local/lib/python3.10/dist-packages (from transformers) (0.4.3)\n",
            "Requirement already satisfied: tqdm>=4.27 in /usr/local/lib/python3.10/dist-packages (from transformers) (4.66.2)\n",
            "Requirement already satisfied: pyarrow>=12.0.0 in /usr/local/lib/python3.10/dist-packages (from datasets) (14.0.2)\n",
            "Requirement already satisfied: pyarrow-hotfix in /usr/local/lib/python3.10/dist-packages (from datasets) (0.6)\n",
            "Requirement already satisfied: dill<0.3.9,>=0.3.0 in /usr/local/lib/python3.10/dist-packages (from datasets) (0.3.8)\n",
            "Requirement already satisfied: xxhash in /usr/local/lib/python3.10/dist-packages (from datasets) (3.4.1)\n",
            "Requirement already satisfied: multiprocess in /usr/local/lib/python3.10/dist-packages (from datasets) (0.70.16)\n",
            "Requirement already satisfied: fsspec[http]<=2024.3.1,>=2023.1.0 in /usr/local/lib/python3.10/dist-packages (from datasets) (2023.6.0)\n",
            "Requirement already satisfied: aiohttp in /usr/local/lib/python3.10/dist-packages (from datasets) (3.9.5)\n",
            "Requirement already satisfied: typing-extensions>=4.8.0 in /usr/local/lib/python3.10/dist-packages (from torch) (4.11.0)\n",
            "Requirement already satisfied: sympy in /usr/local/lib/python3.10/dist-packages (from torch) (1.12)\n",
            "Requirement already satisfied: networkx in /usr/local/lib/python3.10/dist-packages (from torch) (3.3)\n",
            "Requirement already satisfied: jinja2 in /usr/local/lib/python3.10/dist-packages (from torch) (3.1.3)\n",
            "Requirement already satisfied: nvidia-cuda-nvrtc-cu12==12.1.105 in /usr/local/lib/python3.10/dist-packages (from torch) (12.1.105)\n",
            "Requirement already satisfied: nvidia-cuda-runtime-cu12==12.1.105 in /usr/local/lib/python3.10/dist-packages (from torch) (12.1.105)\n",
            "Requirement already satisfied: nvidia-cuda-cupti-cu12==12.1.105 in /usr/local/lib/python3.10/dist-packages (from torch) (12.1.105)\n",
            "Requirement already satisfied: nvidia-cudnn-cu12==8.9.2.26 in /usr/local/lib/python3.10/dist-packages (from torch) (8.9.2.26)\n",
            "Requirement already satisfied: nvidia-cublas-cu12==12.1.3.1 in /usr/local/lib/python3.10/dist-packages (from torch) (12.1.3.1)\n",
            "Requirement already satisfied: nvidia-cufft-cu12==11.0.2.54 in /usr/local/lib/python3.10/dist-packages (from torch) (11.0.2.54)\n",
            "Requirement already satisfied: nvidia-curand-cu12==10.3.2.106 in /usr/local/lib/python3.10/dist-packages (from torch) (10.3.2.106)\n",
            "Requirement already satisfied: nvidia-cusolver-cu12==11.4.5.107 in /usr/local/lib/python3.10/dist-packages (from torch) (11.4.5.107)\n",
            "Requirement already satisfied: nvidia-cusparse-cu12==12.1.0.106 in /usr/local/lib/python3.10/dist-packages (from torch) (12.1.0.106)\n",
            "Requirement already satisfied: nvidia-nccl-cu12==2.19.3 in /usr/local/lib/python3.10/dist-packages (from torch) (2.19.3)\n",
            "Requirement already satisfied: nvidia-nvtx-cu12==12.1.105 in /usr/local/lib/python3.10/dist-packages (from torch) (12.1.105)\n",
            "Requirement already satisfied: triton==2.2.0 in /usr/local/lib/python3.10/dist-packages (from torch) (2.2.0)\n",
            "Requirement already satisfied: nvidia-nvjitlink-cu12 in /usr/local/lib/python3.10/dist-packages (from nvidia-cusolver-cu12==11.4.5.107->torch) (12.4.127)\n",
            "Requirement already satisfied: scipy>=1.3.2 in /usr/local/lib/python3.10/dist-packages (from scikit-learn) (1.11.4)\n",
            "Requirement already satisfied: joblib>=1.1.1 in /usr/local/lib/python3.10/dist-packages (from scikit-learn) (1.4.0)\n",
            "Requirement already satisfied: threadpoolctl>=2.0.0 in /usr/local/lib/python3.10/dist-packages (from scikit-learn) (3.4.0)\n",
            "Requirement already satisfied: python-dateutil>=2.8.2 in /usr/local/lib/python3.10/dist-packages (from pandas) (2.8.2)\n",
            "Requirement already satisfied: pytz>=2020.1 in /usr/local/lib/python3.10/dist-packages (from pandas) (2023.4)\n",
            "Requirement already satisfied: tzdata>=2022.1 in /usr/local/lib/python3.10/dist-packages (from pandas) (2024.1)\n",
            "Requirement already satisfied: aiosignal>=1.1.2 in /usr/local/lib/python3.10/dist-packages (from aiohttp->datasets) (1.3.1)\n",
            "Requirement already satisfied: attrs>=17.3.0 in /usr/local/lib/python3.10/dist-packages (from aiohttp->datasets) (23.2.0)\n",
            "Requirement already satisfied: frozenlist>=1.1.1 in /usr/local/lib/python3.10/dist-packages (from aiohttp->datasets) (1.4.1)\n",
            "Requirement already satisfied: multidict<7.0,>=4.5 in /usr/local/lib/python3.10/dist-packages (from aiohttp->datasets) (6.0.5)\n",
            "Requirement already satisfied: yarl<2.0,>=1.0 in /usr/local/lib/python3.10/dist-packages (from aiohttp->datasets) (1.9.4)\n",
            "Requirement already satisfied: async-timeout<5.0,>=4.0 in /usr/local/lib/python3.10/dist-packages (from aiohttp->datasets) (4.0.3)\n",
            "Requirement already satisfied: six>=1.5 in /usr/local/lib/python3.10/dist-packages (from python-dateutil>=2.8.2->pandas) (1.16.0)\n",
            "Requirement already satisfied: charset-normalizer<4,>=2 in /usr/local/lib/python3.10/dist-packages (from requests->transformers) (3.3.2)\n",
            "Requirement already satisfied: idna<4,>=2.5 in /usr/local/lib/python3.10/dist-packages (from requests->transformers) (3.7)\n",
            "Requirement already satisfied: urllib3<3,>=1.21.1 in /usr/local/lib/python3.10/dist-packages (from requests->transformers) (2.0.7)\n",
            "Requirement already satisfied: certifi>=2017.4.17 in /usr/local/lib/python3.10/dist-packages (from requests->transformers) (2024.2.2)\n",
            "Requirement already satisfied: MarkupSafe>=2.0 in /usr/local/lib/python3.10/dist-packages (from jinja2->torch) (2.1.5)\n",
            "Requirement already satisfied: mpmath>=0.19 in /usr/local/lib/python3.10/dist-packages (from sympy->torch) (1.3.0)\n"
          ]
        }
      ]
    },
    {
      "cell_type": "markdown",
      "source": [
        "### Locate the file being used for this model evaluation in MyDrive"
      ],
      "metadata": {
        "id": "pInxumQ6AONu"
      }
    },
    {
      "cell_type": "code",
      "source": [
        "!ls \"/content/drive/MyDrive/emotion_sentimen_dataset.csv.zip\""
      ],
      "metadata": {
        "colab": {
          "base_uri": "https://localhost:8080/"
        },
        "id": "K_2XUPO041eT",
        "outputId": "93370b48-3afc-4721-976d-9f5dba224a56"
      },
      "execution_count": null,
      "outputs": [
        {
          "output_type": "stream",
          "name": "stdout",
          "text": [
            "/content/drive/MyDrive/emotion_sentimen_dataset.csv.zip\n"
          ]
        }
      ]
    },
    {
      "cell_type": "markdown",
      "source": [
        "### Mount google drive to allow proper access\n",
        "- Correct access will output \"Drive already mounted at..\""
      ],
      "metadata": {
        "id": "4KG8m1qRAbMj"
      }
    },
    {
      "cell_type": "code",
      "source": [
        "from google.colab import drive\n",
        "drive.mount('/content/drive')"
      ],
      "metadata": {
        "colab": {
          "base_uri": "https://localhost:8080/"
        },
        "id": "I1F39f3q5epq",
        "outputId": "3ab52cb0-9313-4e4d-f050-9f63cebc6a21"
      },
      "execution_count": null,
      "outputs": [
        {
          "output_type": "stream",
          "name": "stdout",
          "text": [
            "Drive already mounted at /content/drive; to attempt to forcibly remount, call drive.mount(\"/content/drive\", force_remount=True).\n"
          ]
        }
      ]
    },
    {
      "cell_type": "markdown",
      "source": [
        "## Import the zip file and unzip\n",
        "- Contents of the extracted csv file from the folder should look like\n",
        "\n",
        "```\n",
        "['emotion_sentimen_dataset.csv']\n",
        "\n",
        "```\n",
        "\n"
      ],
      "metadata": {
        "id": "bhQXeF-cAvsD"
      }
    },
    {
      "cell_type": "code",
      "source": [
        "import zipfile\n",
        "import os\n",
        "\n",
        "# This file is stored on Google Drive, and needs to be unzipped:\n",
        "zip_path = '/content/drive/MyDrive/emotion_sentimen_dataset.csv.zip'\n",
        "\n",
        "# Destination folder where contents will be extracted\n",
        "extract_to = '/content/dataset'\n",
        "\n",
        "# Create directory if it does not exist\n",
        "os.makedirs(extract_to, exist_ok=True)\n",
        "\n",
        "# Unzipping the file\n",
        "with zipfile.ZipFile(zip_path, 'r') as zip_ref:\n",
        "    zip_ref.extractall(extract_to)\n",
        "\n",
        "# Check the contents of the extracted folder\n",
        "os.listdir(extract_to)"
      ],
      "metadata": {
        "colab": {
          "base_uri": "https://localhost:8080/"
        },
        "id": "RZcQ6L4E5esJ",
        "outputId": "f37964de-e6f2-4424-b850-acfd6aaabd09"
      },
      "execution_count": null,
      "outputs": [
        {
          "output_type": "execute_result",
          "data": {
            "text/plain": [
              "['emotion_sentimen_dataset.csv']"
            ]
          },
          "metadata": {},
          "execution_count": 4
        }
      ]
    },
    {
      "cell_type": "markdown",
      "source": [
        "# File extraction and preview of the data frame `data`"
      ],
      "metadata": {
        "id": "EZhJWDz-BW0D"
      }
    },
    {
      "cell_type": "code",
      "source": [
        "import pandas as pd\n",
        "from sklearn.utils import resample\n",
        "# Extracting after unzipped\n",
        "data_file = os.path.join(extract_to, 'emotion_sentimen_dataset.csv')"
      ],
      "metadata": {
        "id": "fjEL4Mr0303x"
      },
      "execution_count": null,
      "outputs": []
    },
    {
      "cell_type": "code",
      "source": [
        "data = pd.read_csv(data_file)"
      ],
      "metadata": {
        "id": "ZTFicvHDWURp"
      },
      "execution_count": null,
      "outputs": []
    },
    {
      "cell_type": "code",
      "source": [
        "print(data['Emotion'].value_counts())"
      ],
      "metadata": {
        "colab": {
          "base_uri": "https://localhost:8080/"
        },
        "id": "dugr1BhBTwp0",
        "outputId": "49cfcdf2-8305-4a0b-cc2e-871bafba0569"
      },
      "execution_count": null,
      "outputs": [
        {
          "output_type": "stream",
          "name": "stdout",
          "text": [
            "Emotion\n",
            "neutral       674538\n",
            "love           39553\n",
            "happiness      27175\n",
            "sadness        17481\n",
            "relief         16729\n",
            "hate           15267\n",
            "anger          12336\n",
            "fun            10075\n",
            "enthusiasm      9304\n",
            "surprise        6954\n",
            "empty           5542\n",
            "worry           4475\n",
            "boredom          126\n",
            "Name: count, dtype: int64\n"
          ]
        }
      ]
    },
    {
      "cell_type": "markdown",
      "source": [
        "# Filter and Rename Classes\n",
        "---\n",
        "## Since the data from this dataset contain classes that are not used in the movie reviews analysis of predicted emotions using the model we will be using below, these need to be changed\n",
        "- happiness = joy\n",
        "---\n",
        "# The process is as follows:\n",
        "1. Replacing happiness with 'joy' by mapping\n",
        "2.  Filtering this dataset for only the specific emotions needed in the classes\n",
        "2.  Print to confirm operation successful"
      ],
      "metadata": {
        "id": "Hplrn4iAmoLk"
      }
    },
    {
      "cell_type": "markdown",
      "source": [
        "# The above code also shows that this dataset is highly skewed towards the `neutral` category of emotions. In order to prepare an adequate sample set, we must reduce this.\n",
        "- This below process involves 'down-sampling'\n",
        "---\n",
        "# Before doing this, we can further adjust the dataset to fit our needs"
      ],
      "metadata": {
        "id": "UJ1gLtw-UjAd"
      }
    },
    {
      "cell_type": "code",
      "source": [
        "# Renaming 'happiness' to 'joy', then ensuring it is listed as this in value counts\n",
        "data['Emotion'] = data['Emotion'].replace({'happiness': 'joy'})\n",
        "print(data['Emotion'].value_counts())"
      ],
      "metadata": {
        "colab": {
          "base_uri": "https://localhost:8080/"
        },
        "id": "htJGNU4fWcaI",
        "outputId": "aeff88a4-17f4-4b81-f21a-8e5769277b53"
      },
      "execution_count": null,
      "outputs": [
        {
          "output_type": "stream",
          "name": "stdout",
          "text": [
            "Emotion\n",
            "neutral       674538\n",
            "love           39553\n",
            "joy            27175\n",
            "sadness        17481\n",
            "relief         16729\n",
            "hate           15267\n",
            "anger          12336\n",
            "fun            10075\n",
            "enthusiasm      9304\n",
            "surprise        6954\n",
            "empty           5542\n",
            "worry           4475\n",
            "boredom          126\n",
            "Name: count, dtype: int64\n"
          ]
        }
      ]
    },
    {
      "cell_type": "code",
      "source": [
        "# Filtering to include only the relevant emotions, then display new list of classes in 'Emotion' column\n",
        "data = data[data['Emotion'].isin(['anger', 'disgust', 'fear', 'joy', 'neutral', 'sadness', 'surprise'])]\n",
        "print(data['Emotion'].value_counts())"
      ],
      "metadata": {
        "colab": {
          "base_uri": "https://localhost:8080/"
        },
        "id": "uhf3cXdVWccO",
        "outputId": "2a4ff7d6-59bd-44f1-bd24-0267376f280b"
      },
      "execution_count": null,
      "outputs": [
        {
          "output_type": "stream",
          "name": "stdout",
          "text": [
            "Emotion\n",
            "neutral     674538\n",
            "joy          27175\n",
            "sadness      17481\n",
            "anger        12336\n",
            "surprise      6954\n",
            "Name: count, dtype: int64\n"
          ]
        }
      ]
    },
    {
      "cell_type": "code",
      "source": [
        "# Calculate the minimum class size (based on the smallest class)\n",
        "min_class_size = data['Emotion'].value_counts().min()\n",
        "print(min_class_size)"
      ],
      "metadata": {
        "colab": {
          "base_uri": "https://localhost:8080/"
        },
        "id": "kWT1eNZ7Wcfs",
        "outputId": "c6c3d20f-4620-4446-ac95-2317e0310563"
      },
      "execution_count": null,
      "outputs": [
        {
          "output_type": "stream",
          "name": "stdout",
          "text": [
            "6954\n"
          ]
        }
      ]
    },
    {
      "cell_type": "markdown",
      "source": [
        "# This dataset is too large for the basic Colab subscription\n",
        "-  The way we are choosing to handle this, is by continuing this process for model evaluatio in a **subset** of this dataset"
      ],
      "metadata": {
        "id": "_6wUANLZnz3J"
      }
    },
    {
      "cell_type": "code",
      "source": [
        "# Sample data from each class to match the size of the smallest class\n",
        "sampled_data = pd.DataFrame()  # Initialize an empty DataFrame to hold sampled data\n",
        "for emotion in ['anger', 'disgust', 'fear', 'joy', 'neutral', 'sadness', 'surprise']:\n",
        "    subset = data[data['Emotion'] == emotion]\n",
        "    # Ensure the subset is not empty before sampling\n",
        "    if not subset.empty:\n",
        "        sampled_subset = resample(subset, replace=False, n_samples=min_class_size, random_state=42)\n",
        "        sampled_data = pd.concat([sampled_data, sampled_subset])"
      ],
      "metadata": {
        "id": "UTGXqJk6WcjV"
      },
      "execution_count": null,
      "outputs": []
    },
    {
      "cell_type": "code",
      "source": [
        "# Shuffle the sampled data\n",
        "sampled_data = sampled_data.sample(frac=1, random_state=42).reset_index(drop=True)"
      ],
      "metadata": {
        "id": "9_J7bZdsWcnl"
      },
      "execution_count": null,
      "outputs": []
    },
    {
      "cell_type": "code",
      "source": [
        "# Check the first few rows and the new distribution of classes\n",
        "print(sampled_data.head(20))\n",
        "print(sampled_data['Emotion'].value_counts())"
      ],
      "metadata": {
        "colab": {
          "base_uri": "https://localhost:8080/"
        },
        "id": "MbcU2Oh9Wcpm",
        "outputId": "68a06eb5-6c8e-484d-d99a-326bf53a2751"
      },
      "execution_count": null,
      "outputs": [
        {
          "output_type": "stream",
          "name": "stdout",
          "text": [
            "    Unnamed: 0                                               text   Emotion\n",
            "0       734416                    i feel sad and stand one corner   sadness\n",
            "1       266088  i feel sad for myself because i don t have the...   sadness\n",
            "2       257312  i feel a pang of regret for getting so angry a...     anger\n",
            "3       246314  some time ago a close relative of mine got off...   neutral\n",
            "4       123456  i tend to find myself feeling passionate about...     anger\n",
            "5       822319  i always feel super proud of myself when i fin...   neutral\n",
            "6       485307  i am feeling it today the melancholy that visi...   sadness\n",
            "7       499504  ive got a pretty good feeling about this one a...  surprise\n",
            "8       519822  i feel surprised every time woohyun hyung make...  surprise\n",
            "9       166658  i would like i go through all kinds of emotion...   neutral\n",
            "10      714914       i needed to tell people that i feel tortured   neutral\n",
            "11      323750  i still feel a little agitated but the agrevat...   neutral\n",
            "12      775378             i can t lie i am feeling quite special   neutral\n",
            "13      466728  i am trying not to feel too discouraged about ...     anger\n",
            "14      624196  im feeling depressed and detached to the degre...   sadness\n",
            "15       86450  i didn t know if i should feel proud for makin...   sadness\n",
            "16      551892     im feeling extremely discouraged about the gre     anger\n",
            "17      470431  i quietly left his office feeling shocked and ...  surprise\n",
            "18      715352  i feel anxious for a pregnant friend i realise...   neutral\n",
            "19      568176  i was feeling mellow so i started the day off ...   neutral\n",
            "Emotion\n",
            "sadness     6954\n",
            "anger       6954\n",
            "neutral     6954\n",
            "surprise    6954\n",
            "joy         6954\n",
            "Name: count, dtype: int64\n"
          ]
        }
      ]
    },
    {
      "cell_type": "markdown",
      "source": [
        "# Determine New Sample Size"
      ],
      "metadata": {
        "id": "GWdocu8UYmGC"
      }
    },
    {
      "cell_type": "code",
      "source": [
        "new_sample_size = 100  # Rather small, however, we need to work with what colab can handle"
      ],
      "metadata": {
        "id": "i7h5qfOHWcrh"
      },
      "execution_count": null,
      "outputs": []
    },
    {
      "cell_type": "markdown",
      "source": [
        "# Further Downsample Each Class"
      ],
      "metadata": {
        "id": "ILvS4n4GYp3s"
      }
    },
    {
      "cell_type": "code",
      "source": [
        "import pandas as pd\n",
        "from sklearn.utils import resample\n",
        "\n",
        "downsampled_data = pd.DataFrame()\n",
        "\n",
        "for emotion in sampled_data['Emotion'].unique():\n",
        "    subset = sampled_data[sampled_data['Emotion'] == emotion]\n",
        "    downsampled_subset = resample(subset, replace=False, n_samples=new_sample_size, random_state=42)\n",
        "    downsampled_data = pd.concat([downsampled_data, downsampled_subset])\n",
        "\n",
        "# Shuffle the downsampled data to mix the classes well\n",
        "downsampled_data = downsampled_data.sample(frac=1, random_state=42).reset_index(drop=True)\n",
        "\n",
        "# Check the new distribution of classes\n",
        "print(downsampled_data['Emotion'].value_counts())"
      ],
      "metadata": {
        "colab": {
          "base_uri": "https://localhost:8080/"
        },
        "id": "zZdsqfILWctn",
        "outputId": "1ae96f62-ae53-4972-b238-04bd908ae8d9"
      },
      "execution_count": null,
      "outputs": [
        {
          "output_type": "stream",
          "name": "stdout",
          "text": [
            "Emotion\n",
            "surprise    100\n",
            "sadness     100\n",
            "anger       100\n",
            "joy         100\n",
            "neutral     100\n",
            "Name: count, dtype: int64\n"
          ]
        }
      ]
    },
    {
      "cell_type": "markdown",
      "source": [
        "#  Proceed with Data Preparation"
      ],
      "metadata": {
        "id": "OD2iAPWqYxew"
      }
    },
    {
      "cell_type": "code",
      "source": [
        "from sklearn.utils import resample\n",
        "import pandas as pd\n",
        "\n",
        "# Assume 'sampled_data' contains your previously balanced dataset\n",
        "downsampled_data = pd.DataFrame()\n",
        "\n",
        "for emotion in sampled_data['Emotion'].unique():\n",
        "    subset = sampled_data[sampled_data['Emotion'] == emotion]\n",
        "    # Check if the subset size is greater than the new sample size before downsampling\n",
        "    if len(subset) >= new_sample_size:\n",
        "        downsampled_subset = resample(subset, replace=False, n_samples=new_sample_size, random_state=42)\n",
        "        downsampled_data = pd.concat([downsampled_data, downsampled_subset])\n",
        "    else:\n",
        "        # If the subset is smaller than the new sample size, take the subset as is\n",
        "        downsampled_data = pd.concat([downsampled_data, subset])\n",
        "\n",
        "# Shuffle the downsampled data to ensure it's well-mixed\n",
        "downsampled_data = downsampled_data.sample(frac=1, random_state=42).reset_index(drop=True)\n",
        "\n",
        "downsampled_data.head()"
      ],
      "metadata": {
        "colab": {
          "base_uri": "https://localhost:8080/",
          "height": 206
        },
        "id": "PG3oH9lrYxiT",
        "outputId": "50b213e5-728c-42f9-b663-c2e660bc9aa5"
      },
      "execution_count": null,
      "outputs": [
        {
          "output_type": "execute_result",
          "data": {
            "text/plain": [
              "   Unnamed: 0                                               text   Emotion\n",
              "0      469111  i feel surprised and astonished that i ve won ...  surprise\n",
              "1      809908  i feel sad that i don t have a uterus so that ...   sadness\n",
              "2      815727  i really think kids can sense good energies an...  surprise\n",
              "3      502737  i really honestly feel like i am not smart eno...     anger\n",
              "4      735256  my friend halfteasingly called me a bad nickna...     anger"
            ],
            "text/html": [
              "\n",
              "  <div id=\"df-b15d0710-7d44-4210-899c-bc73bcc578b9\" class=\"colab-df-container\">\n",
              "    <div>\n",
              "<style scoped>\n",
              "    .dataframe tbody tr th:only-of-type {\n",
              "        vertical-align: middle;\n",
              "    }\n",
              "\n",
              "    .dataframe tbody tr th {\n",
              "        vertical-align: top;\n",
              "    }\n",
              "\n",
              "    .dataframe thead th {\n",
              "        text-align: right;\n",
              "    }\n",
              "</style>\n",
              "<table border=\"1\" class=\"dataframe\">\n",
              "  <thead>\n",
              "    <tr style=\"text-align: right;\">\n",
              "      <th></th>\n",
              "      <th>Unnamed: 0</th>\n",
              "      <th>text</th>\n",
              "      <th>Emotion</th>\n",
              "    </tr>\n",
              "  </thead>\n",
              "  <tbody>\n",
              "    <tr>\n",
              "      <th>0</th>\n",
              "      <td>469111</td>\n",
              "      <td>i feel surprised and astonished that i ve won ...</td>\n",
              "      <td>surprise</td>\n",
              "    </tr>\n",
              "    <tr>\n",
              "      <th>1</th>\n",
              "      <td>809908</td>\n",
              "      <td>i feel sad that i don t have a uterus so that ...</td>\n",
              "      <td>sadness</td>\n",
              "    </tr>\n",
              "    <tr>\n",
              "      <th>2</th>\n",
              "      <td>815727</td>\n",
              "      <td>i really think kids can sense good energies an...</td>\n",
              "      <td>surprise</td>\n",
              "    </tr>\n",
              "    <tr>\n",
              "      <th>3</th>\n",
              "      <td>502737</td>\n",
              "      <td>i really honestly feel like i am not smart eno...</td>\n",
              "      <td>anger</td>\n",
              "    </tr>\n",
              "    <tr>\n",
              "      <th>4</th>\n",
              "      <td>735256</td>\n",
              "      <td>my friend halfteasingly called me a bad nickna...</td>\n",
              "      <td>anger</td>\n",
              "    </tr>\n",
              "  </tbody>\n",
              "</table>\n",
              "</div>\n",
              "    <div class=\"colab-df-buttons\">\n",
              "\n",
              "  <div class=\"colab-df-container\">\n",
              "    <button class=\"colab-df-convert\" onclick=\"convertToInteractive('df-b15d0710-7d44-4210-899c-bc73bcc578b9')\"\n",
              "            title=\"Convert this dataframe to an interactive table.\"\n",
              "            style=\"display:none;\">\n",
              "\n",
              "  <svg xmlns=\"http://www.w3.org/2000/svg\" height=\"24px\" viewBox=\"0 -960 960 960\">\n",
              "    <path d=\"M120-120v-720h720v720H120Zm60-500h600v-160H180v160Zm220 220h160v-160H400v160Zm0 220h160v-160H400v160ZM180-400h160v-160H180v160Zm440 0h160v-160H620v160ZM180-180h160v-160H180v160Zm440 0h160v-160H620v160Z\"/>\n",
              "  </svg>\n",
              "    </button>\n",
              "\n",
              "  <style>\n",
              "    .colab-df-container {\n",
              "      display:flex;\n",
              "      gap: 12px;\n",
              "    }\n",
              "\n",
              "    .colab-df-convert {\n",
              "      background-color: #E8F0FE;\n",
              "      border: none;\n",
              "      border-radius: 50%;\n",
              "      cursor: pointer;\n",
              "      display: none;\n",
              "      fill: #1967D2;\n",
              "      height: 32px;\n",
              "      padding: 0 0 0 0;\n",
              "      width: 32px;\n",
              "    }\n",
              "\n",
              "    .colab-df-convert:hover {\n",
              "      background-color: #E2EBFA;\n",
              "      box-shadow: 0px 1px 2px rgba(60, 64, 67, 0.3), 0px 1px 3px 1px rgba(60, 64, 67, 0.15);\n",
              "      fill: #174EA6;\n",
              "    }\n",
              "\n",
              "    .colab-df-buttons div {\n",
              "      margin-bottom: 4px;\n",
              "    }\n",
              "\n",
              "    [theme=dark] .colab-df-convert {\n",
              "      background-color: #3B4455;\n",
              "      fill: #D2E3FC;\n",
              "    }\n",
              "\n",
              "    [theme=dark] .colab-df-convert:hover {\n",
              "      background-color: #434B5C;\n",
              "      box-shadow: 0px 1px 3px 1px rgba(0, 0, 0, 0.15);\n",
              "      filter: drop-shadow(0px 1px 2px rgba(0, 0, 0, 0.3));\n",
              "      fill: #FFFFFF;\n",
              "    }\n",
              "  </style>\n",
              "\n",
              "    <script>\n",
              "      const buttonEl =\n",
              "        document.querySelector('#df-b15d0710-7d44-4210-899c-bc73bcc578b9 button.colab-df-convert');\n",
              "      buttonEl.style.display =\n",
              "        google.colab.kernel.accessAllowed ? 'block' : 'none';\n",
              "\n",
              "      async function convertToInteractive(key) {\n",
              "        const element = document.querySelector('#df-b15d0710-7d44-4210-899c-bc73bcc578b9');\n",
              "        const dataTable =\n",
              "          await google.colab.kernel.invokeFunction('convertToInteractive',\n",
              "                                                    [key], {});\n",
              "        if (!dataTable) return;\n",
              "\n",
              "        const docLinkHtml = 'Like what you see? Visit the ' +\n",
              "          '<a target=\"_blank\" href=https://colab.research.google.com/notebooks/data_table.ipynb>data table notebook</a>'\n",
              "          + ' to learn more about interactive tables.';\n",
              "        element.innerHTML = '';\n",
              "        dataTable['output_type'] = 'display_data';\n",
              "        await google.colab.output.renderOutput(dataTable, element);\n",
              "        const docLink = document.createElement('div');\n",
              "        docLink.innerHTML = docLinkHtml;\n",
              "        element.appendChild(docLink);\n",
              "      }\n",
              "    </script>\n",
              "  </div>\n",
              "\n",
              "\n",
              "<div id=\"df-3f83dea9-04c3-495e-9315-26984504e221\">\n",
              "  <button class=\"colab-df-quickchart\" onclick=\"quickchart('df-3f83dea9-04c3-495e-9315-26984504e221')\"\n",
              "            title=\"Suggest charts\"\n",
              "            style=\"display:none;\">\n",
              "\n",
              "<svg xmlns=\"http://www.w3.org/2000/svg\" height=\"24px\"viewBox=\"0 0 24 24\"\n",
              "     width=\"24px\">\n",
              "    <g>\n",
              "        <path d=\"M19 3H5c-1.1 0-2 .9-2 2v14c0 1.1.9 2 2 2h14c1.1 0 2-.9 2-2V5c0-1.1-.9-2-2-2zM9 17H7v-7h2v7zm4 0h-2V7h2v10zm4 0h-2v-4h2v4z\"/>\n",
              "    </g>\n",
              "</svg>\n",
              "  </button>\n",
              "\n",
              "<style>\n",
              "  .colab-df-quickchart {\n",
              "      --bg-color: #E8F0FE;\n",
              "      --fill-color: #1967D2;\n",
              "      --hover-bg-color: #E2EBFA;\n",
              "      --hover-fill-color: #174EA6;\n",
              "      --disabled-fill-color: #AAA;\n",
              "      --disabled-bg-color: #DDD;\n",
              "  }\n",
              "\n",
              "  [theme=dark] .colab-df-quickchart {\n",
              "      --bg-color: #3B4455;\n",
              "      --fill-color: #D2E3FC;\n",
              "      --hover-bg-color: #434B5C;\n",
              "      --hover-fill-color: #FFFFFF;\n",
              "      --disabled-bg-color: #3B4455;\n",
              "      --disabled-fill-color: #666;\n",
              "  }\n",
              "\n",
              "  .colab-df-quickchart {\n",
              "    background-color: var(--bg-color);\n",
              "    border: none;\n",
              "    border-radius: 50%;\n",
              "    cursor: pointer;\n",
              "    display: none;\n",
              "    fill: var(--fill-color);\n",
              "    height: 32px;\n",
              "    padding: 0;\n",
              "    width: 32px;\n",
              "  }\n",
              "\n",
              "  .colab-df-quickchart:hover {\n",
              "    background-color: var(--hover-bg-color);\n",
              "    box-shadow: 0 1px 2px rgba(60, 64, 67, 0.3), 0 1px 3px 1px rgba(60, 64, 67, 0.15);\n",
              "    fill: var(--button-hover-fill-color);\n",
              "  }\n",
              "\n",
              "  .colab-df-quickchart-complete:disabled,\n",
              "  .colab-df-quickchart-complete:disabled:hover {\n",
              "    background-color: var(--disabled-bg-color);\n",
              "    fill: var(--disabled-fill-color);\n",
              "    box-shadow: none;\n",
              "  }\n",
              "\n",
              "  .colab-df-spinner {\n",
              "    border: 2px solid var(--fill-color);\n",
              "    border-color: transparent;\n",
              "    border-bottom-color: var(--fill-color);\n",
              "    animation:\n",
              "      spin 1s steps(1) infinite;\n",
              "  }\n",
              "\n",
              "  @keyframes spin {\n",
              "    0% {\n",
              "      border-color: transparent;\n",
              "      border-bottom-color: var(--fill-color);\n",
              "      border-left-color: var(--fill-color);\n",
              "    }\n",
              "    20% {\n",
              "      border-color: transparent;\n",
              "      border-left-color: var(--fill-color);\n",
              "      border-top-color: var(--fill-color);\n",
              "    }\n",
              "    30% {\n",
              "      border-color: transparent;\n",
              "      border-left-color: var(--fill-color);\n",
              "      border-top-color: var(--fill-color);\n",
              "      border-right-color: var(--fill-color);\n",
              "    }\n",
              "    40% {\n",
              "      border-color: transparent;\n",
              "      border-right-color: var(--fill-color);\n",
              "      border-top-color: var(--fill-color);\n",
              "    }\n",
              "    60% {\n",
              "      border-color: transparent;\n",
              "      border-right-color: var(--fill-color);\n",
              "    }\n",
              "    80% {\n",
              "      border-color: transparent;\n",
              "      border-right-color: var(--fill-color);\n",
              "      border-bottom-color: var(--fill-color);\n",
              "    }\n",
              "    90% {\n",
              "      border-color: transparent;\n",
              "      border-bottom-color: var(--fill-color);\n",
              "    }\n",
              "  }\n",
              "</style>\n",
              "\n",
              "  <script>\n",
              "    async function quickchart(key) {\n",
              "      const quickchartButtonEl =\n",
              "        document.querySelector('#' + key + ' button');\n",
              "      quickchartButtonEl.disabled = true;  // To prevent multiple clicks.\n",
              "      quickchartButtonEl.classList.add('colab-df-spinner');\n",
              "      try {\n",
              "        const charts = await google.colab.kernel.invokeFunction(\n",
              "            'suggestCharts', [key], {});\n",
              "      } catch (error) {\n",
              "        console.error('Error during call to suggestCharts:', error);\n",
              "      }\n",
              "      quickchartButtonEl.classList.remove('colab-df-spinner');\n",
              "      quickchartButtonEl.classList.add('colab-df-quickchart-complete');\n",
              "    }\n",
              "    (() => {\n",
              "      let quickchartButtonEl =\n",
              "        document.querySelector('#df-3f83dea9-04c3-495e-9315-26984504e221 button');\n",
              "      quickchartButtonEl.style.display =\n",
              "        google.colab.kernel.accessAllowed ? 'block' : 'none';\n",
              "    })();\n",
              "  </script>\n",
              "</div>\n",
              "\n",
              "    </div>\n",
              "  </div>\n"
            ],
            "application/vnd.google.colaboratory.intrinsic+json": {
              "type": "dataframe",
              "variable_name": "downsampled_data",
              "summary": "{\n  \"name\": \"downsampled_data\",\n  \"rows\": 500,\n  \"fields\": [\n    {\n      \"column\": \"Unnamed: 0\",\n      \"properties\": {\n        \"dtype\": \"number\",\n        \"std\": 241578,\n        \"min\": 6710,\n        \"max\": 837308,\n        \"num_unique_values\": 500,\n        \"samples\": [\n          225074,\n          591036,\n          713949\n        ],\n        \"semantic_type\": \"\",\n        \"description\": \"\"\n      }\n    },\n    {\n      \"column\": \"text\",\n      \"properties\": {\n        \"dtype\": \"string\",\n        \"num_unique_values\": 498,\n        \"samples\": [\n          \"i ended up feeling quite proud and happy with who i am and a bit reassured too\",\n          \"i feel like this is just a blog professing how pathetic i am\",\n          \"i get so much joy and support and laughs and feeling im not alone in things because of my friendships\"\n        ],\n        \"semantic_type\": \"\",\n        \"description\": \"\"\n      }\n    },\n    {\n      \"column\": \"Emotion\",\n      \"properties\": {\n        \"dtype\": \"category\",\n        \"num_unique_values\": 5,\n        \"samples\": [\n          \"sadness\",\n          \"neutral\",\n          \"anger\"\n        ],\n        \"semantic_type\": \"\",\n        \"description\": \"\"\n      }\n    }\n  ]\n}"
            }
          },
          "metadata": {},
          "execution_count": 16
        }
      ]
    },
    {
      "cell_type": "markdown",
      "source": [
        "# Validation of Sample Sizes:"
      ],
      "metadata": {
        "id": "qlShLOMWZyeH"
      }
    },
    {
      "cell_type": "code",
      "source": [
        "print(downsampled_data['Emotion'].value_counts())"
      ],
      "metadata": {
        "colab": {
          "base_uri": "https://localhost:8080/"
        },
        "id": "1lk-EMwgZpTt",
        "outputId": "0da371da-3ecd-4424-fdd6-5052bec377be"
      },
      "execution_count": null,
      "outputs": [
        {
          "output_type": "stream",
          "name": "stdout",
          "text": [
            "Emotion\n",
            "surprise    100\n",
            "sadness     100\n",
            "anger       100\n",
            "joy         100\n",
            "neutral     100\n",
            "Name: count, dtype: int64\n"
          ]
        }
      ]
    },
    {
      "cell_type": "markdown",
      "source": [
        "# Split the Data into Train, Validate, and Test Sets"
      ],
      "metadata": {
        "id": "c_bbaLoJVK-x"
      }
    },
    {
      "cell_type": "code",
      "source": [
        "from sklearn.model_selection import train_test_split\n",
        "\n",
        "# Split the data into training and the remainder (validation + test)\n",
        "train_data, temp_data = train_test_split(downsampled_data, test_size=0.3, random_state=42, stratify=downsampled_data['Emotion'])\n",
        "\n",
        "# Split the remainder into validation and test sets\n",
        "val_data, test_data = train_test_split(temp_data, test_size=0.5, random_state=42, stratify=temp_data['Emotion'])\n",
        "\n",
        "print(\"Training Set Size:\", len(train_data))\n",
        "print(\"Validation Set Size:\", len(val_data))\n",
        "print(\"Testing Set Size:\", len(test_data))\n"
      ],
      "metadata": {
        "colab": {
          "base_uri": "https://localhost:8080/"
        },
        "id": "1G_Yxa4ieD0W",
        "outputId": "732e0b68-28c6-4400-ddb2-829de0e705d8"
      },
      "execution_count": null,
      "outputs": [
        {
          "output_type": "stream",
          "name": "stdout",
          "text": [
            "Training Set Size: 350\n",
            "Validation Set Size: 75\n",
            "Testing Set Size: 75\n"
          ]
        }
      ]
    },
    {
      "cell_type": "markdown",
      "source": [
        "# Tokenization"
      ],
      "metadata": {
        "id": "dR4Y3_H2aC9w"
      }
    },
    {
      "cell_type": "code",
      "source": [
        "from transformers import AutoTokenizer\n",
        "\n",
        "tokenizer = AutoTokenizer.from_pretrained(\"j-hartmann/emotion-english-distilroberta-base\")\n",
        "\n",
        "def tokenize_data(data):\n",
        "    return tokenizer(data['text'].tolist(), padding=\"max_length\", truncation=True, max_length=128, return_tensors='pt')\n",
        "\n",
        "train_encodings = tokenize_data(train_data)\n",
        "val_encodings = tokenize_data(val_data)\n",
        "test_encodings = tokenize_data(test_data)"
      ],
      "metadata": {
        "id": "xvZEndZHeCrr"
      },
      "execution_count": null,
      "outputs": []
    },
    {
      "cell_type": "code",
      "source": [
        "!pip install accelerate -U"
      ],
      "metadata": {
        "colab": {
          "base_uri": "https://localhost:8080/"
        },
        "id": "39Au_RZDfwlF",
        "outputId": "5ab247ee-df59-487e-8266-b3ddb30efb48"
      },
      "execution_count": null,
      "outputs": [
        {
          "output_type": "stream",
          "name": "stdout",
          "text": [
            "Requirement already satisfied: accelerate in /usr/local/lib/python3.10/dist-packages (0.29.3)\n",
            "Requirement already satisfied: numpy>=1.17 in /usr/local/lib/python3.10/dist-packages (from accelerate) (1.25.2)\n",
            "Requirement already satisfied: packaging>=20.0 in /usr/local/lib/python3.10/dist-packages (from accelerate) (24.0)\n",
            "Requirement already satisfied: psutil in /usr/local/lib/python3.10/dist-packages (from accelerate) (5.9.5)\n",
            "Requirement already satisfied: pyyaml in /usr/local/lib/python3.10/dist-packages (from accelerate) (6.0.1)\n",
            "Requirement already satisfied: torch>=1.10.0 in /usr/local/lib/python3.10/dist-packages (from accelerate) (2.2.1+cu121)\n",
            "Requirement already satisfied: huggingface-hub in /usr/local/lib/python3.10/dist-packages (from accelerate) (0.22.2)\n",
            "Requirement already satisfied: safetensors>=0.3.1 in /usr/local/lib/python3.10/dist-packages (from accelerate) (0.4.3)\n",
            "Requirement already satisfied: filelock in /usr/local/lib/python3.10/dist-packages (from torch>=1.10.0->accelerate) (3.13.4)\n",
            "Requirement already satisfied: typing-extensions>=4.8.0 in /usr/local/lib/python3.10/dist-packages (from torch>=1.10.0->accelerate) (4.11.0)\n",
            "Requirement already satisfied: sympy in /usr/local/lib/python3.10/dist-packages (from torch>=1.10.0->accelerate) (1.12)\n",
            "Requirement already satisfied: networkx in /usr/local/lib/python3.10/dist-packages (from torch>=1.10.0->accelerate) (3.3)\n",
            "Requirement already satisfied: jinja2 in /usr/local/lib/python3.10/dist-packages (from torch>=1.10.0->accelerate) (3.1.3)\n",
            "Requirement already satisfied: fsspec in /usr/local/lib/python3.10/dist-packages (from torch>=1.10.0->accelerate) (2023.6.0)\n",
            "Requirement already satisfied: nvidia-cuda-nvrtc-cu12==12.1.105 in /usr/local/lib/python3.10/dist-packages (from torch>=1.10.0->accelerate) (12.1.105)\n",
            "Requirement already satisfied: nvidia-cuda-runtime-cu12==12.1.105 in /usr/local/lib/python3.10/dist-packages (from torch>=1.10.0->accelerate) (12.1.105)\n",
            "Requirement already satisfied: nvidia-cuda-cupti-cu12==12.1.105 in /usr/local/lib/python3.10/dist-packages (from torch>=1.10.0->accelerate) (12.1.105)\n",
            "Requirement already satisfied: nvidia-cudnn-cu12==8.9.2.26 in /usr/local/lib/python3.10/dist-packages (from torch>=1.10.0->accelerate) (8.9.2.26)\n",
            "Requirement already satisfied: nvidia-cublas-cu12==12.1.3.1 in /usr/local/lib/python3.10/dist-packages (from torch>=1.10.0->accelerate) (12.1.3.1)\n",
            "Requirement already satisfied: nvidia-cufft-cu12==11.0.2.54 in /usr/local/lib/python3.10/dist-packages (from torch>=1.10.0->accelerate) (11.0.2.54)\n",
            "Requirement already satisfied: nvidia-curand-cu12==10.3.2.106 in /usr/local/lib/python3.10/dist-packages (from torch>=1.10.0->accelerate) (10.3.2.106)\n",
            "Requirement already satisfied: nvidia-cusolver-cu12==11.4.5.107 in /usr/local/lib/python3.10/dist-packages (from torch>=1.10.0->accelerate) (11.4.5.107)\n",
            "Requirement already satisfied: nvidia-cusparse-cu12==12.1.0.106 in /usr/local/lib/python3.10/dist-packages (from torch>=1.10.0->accelerate) (12.1.0.106)\n",
            "Requirement already satisfied: nvidia-nccl-cu12==2.19.3 in /usr/local/lib/python3.10/dist-packages (from torch>=1.10.0->accelerate) (2.19.3)\n",
            "Requirement already satisfied: nvidia-nvtx-cu12==12.1.105 in /usr/local/lib/python3.10/dist-packages (from torch>=1.10.0->accelerate) (12.1.105)\n",
            "Requirement already satisfied: triton==2.2.0 in /usr/local/lib/python3.10/dist-packages (from torch>=1.10.0->accelerate) (2.2.0)\n",
            "Requirement already satisfied: nvidia-nvjitlink-cu12 in /usr/local/lib/python3.10/dist-packages (from nvidia-cusolver-cu12==11.4.5.107->torch>=1.10.0->accelerate) (12.4.127)\n",
            "Requirement already satisfied: requests in /usr/local/lib/python3.10/dist-packages (from huggingface-hub->accelerate) (2.31.0)\n",
            "Requirement already satisfied: tqdm>=4.42.1 in /usr/local/lib/python3.10/dist-packages (from huggingface-hub->accelerate) (4.66.2)\n",
            "Requirement already satisfied: MarkupSafe>=2.0 in /usr/local/lib/python3.10/dist-packages (from jinja2->torch>=1.10.0->accelerate) (2.1.5)\n",
            "Requirement already satisfied: charset-normalizer<4,>=2 in /usr/local/lib/python3.10/dist-packages (from requests->huggingface-hub->accelerate) (3.3.2)\n",
            "Requirement already satisfied: idna<4,>=2.5 in /usr/local/lib/python3.10/dist-packages (from requests->huggingface-hub->accelerate) (3.7)\n",
            "Requirement already satisfied: urllib3<3,>=1.21.1 in /usr/local/lib/python3.10/dist-packages (from requests->huggingface-hub->accelerate) (2.0.7)\n",
            "Requirement already satisfied: certifi>=2017.4.17 in /usr/local/lib/python3.10/dist-packages (from requests->huggingface-hub->accelerate) (2024.2.2)\n",
            "Requirement already satisfied: mpmath>=0.19 in /usr/local/lib/python3.10/dist-packages (from sympy->torch>=1.10.0->accelerate) (1.3.0)\n"
          ]
        }
      ]
    },
    {
      "cell_type": "markdown",
      "source": [
        "# Set up Class method, as described in the model documentation/model card."
      ],
      "metadata": {
        "id": "SzEwQJ1f57So"
      }
    },
    {
      "cell_type": "code",
      "source": [
        "import torch\n",
        "from torch.utils.data import Dataset\n",
        "\n",
        "class EmotionDataset(Dataset):\n",
        "    def __init__(self, encodings, labels):\n",
        "        self.encodings = encodings\n",
        "        self.labels = labels\n",
        "\n",
        "    def __getitem__(self, idx):\n",
        "        item = {key: torch.tensor(val[idx]) for key, val in self.encodings.items()}\n",
        "        item['labels'] = torch.tensor(self.labels[idx])\n",
        "        return item\n",
        "\n",
        "    def __len__(self):\n",
        "        return len(self.labels)\n",
        "\n",
        "# Map labels to integers\n",
        "label_dict = {label: idx for idx, label in enumerate(downsampled_data['Emotion'].unique())}\n",
        "train_labels = [label_dict[label] for label in train_data['Emotion']]\n",
        "val_labels = [label_dict[label] for label in val_data['Emotion']]\n",
        "test_labels = [label_dict[label] for label in test_data['Emotion']]\n",
        "\n",
        "# Create datasets\n",
        "train_dataset = EmotionDataset(train_encodings, train_labels)\n",
        "val_dataset = EmotionDataset(val_encodings, val_labels)\n",
        "test_dataset = EmotionDataset(test_encodings, test_labels)"
      ],
      "metadata": {
        "id": "Oa0wf_DeiC2j"
      },
      "execution_count": null,
      "outputs": []
    },
    {
      "cell_type": "markdown",
      "source": [
        "# Finally, bring in the model"
      ],
      "metadata": {
        "id": "uGqJ_WCc6FN5"
      }
    },
    {
      "cell_type": "code",
      "source": [
        "from transformers import AutoModelForSequenceClassification, TrainingArguments, Trainer\n",
        "\n",
        "model = AutoModelForSequenceClassification.from_pretrained(\n",
        "    \"j-hartmann/emotion-english-distilroberta-base\",\n",
        "    num_labels=len(label_dict),\n",
        "    problem_type=\"single_label_classification\",\n",
        "    ignore_mismatched_sizes=True\n",
        "\n",
        "# Define training arguments\n",
        "training_args = TrainingArguments(\n",
        "    output_dir='./results',\n",
        "    evaluation_strategy='epoch',\n",
        "    save_strategy='epoch',\n",
        "    learning_rate=2e-5,\n",
        "    per_device_train_batch_size=16,\n",
        "    num_train_epochs=3,\n",
        "    weight_decay=0.01,\n",
        "    logging_dir='./logs',\n",
        "    logging_steps=10,\n",
        "    load_best_model_at_end=True,\n",
        "    metric_for_best_model='accuracy'\n",
        ")"
      ],
      "metadata": {
        "colab": {
          "base_uri": "https://localhost:8080/"
        },
        "id": "9nk0rBdXiC5J",
        "outputId": "70044ffa-c0a2-4a09-fc0d-46593835b4e0"
      },
      "execution_count": null,
      "outputs": [
        {
          "output_type": "stream",
          "name": "stderr",
          "text": [
            "Some weights of RobertaForSequenceClassification were not initialized from the model checkpoint at j-hartmann/emotion-english-distilroberta-base and are newly initialized because the shapes did not match:\n",
            "- classifier.out_proj.weight: found shape torch.Size([7, 768]) in the checkpoint and torch.Size([5, 768]) in the model instantiated\n",
            "- classifier.out_proj.bias: found shape torch.Size([7]) in the checkpoint and torch.Size([5]) in the model instantiated\n",
            "You should probably TRAIN this model on a down-stream task to be able to use it for predictions and inference.\n"
          ]
        }
      ]
    },
    {
      "cell_type": "markdown",
      "source": [
        "# Include this function, so that the model will output all scores after running `trainer.train()`"
      ],
      "metadata": {
        "id": "qHWw3Hob6OEv"
      }
    },
    {
      "cell_type": "code",
      "source": [
        "from sklearn.metrics import accuracy_score, precision_recall_fscore_support\n",
        "\n",
        "def compute_metrics(pred):\n",
        "    labels = pred.label_ids\n",
        "    preds = pred.predictions.argmax(-1)\n",
        "    precision, recall, f1, _ = precision_recall_fscore_support(labels, preds, average='weighted')\n",
        "    accuracy = accuracy_score(labels, preds)\n",
        "    return {\n",
        "        \"accuracy\": accuracy,\n",
        "        \"f1\": f1,\n",
        "        \"precision\": precision,\n",
        "        \"recall\": recall\n",
        "    }"
      ],
      "metadata": {
        "id": "RMCSxQkRiC8K"
      },
      "execution_count": null,
      "outputs": []
    },
    {
      "cell_type": "markdown",
      "source": [
        "# Initialize the `Trainer`"
      ],
      "metadata": {
        "id": "1g649M2y6bxC"
      }
    },
    {
      "cell_type": "code",
      "source": [
        "trainer = Trainer(\n",
        "    model=model,\n",
        "    args=training_args,\n",
        "    train_dataset=train_dataset,\n",
        "    eval_dataset=val_dataset,\n",
        "    compute_metrics=compute_metrics\n",
        ")"
      ],
      "metadata": {
        "id": "ZFak9qJZhcSy"
      },
      "execution_count": null,
      "outputs": []
    },
    {
      "cell_type": "markdown",
      "source": [
        "# Execute cell to begin the training analysis\n",
        "## Google Colab can only handle so much at once, so this is still a very small model evaluation set and actions."
      ],
      "metadata": {
        "id": "gcF-ybYE6fZD"
      }
    },
    {
      "cell_type": "code",
      "source": [
        "trainer.train()"
      ],
      "metadata": {
        "colab": {
          "base_uri": "https://localhost:8080/",
          "height": 356
        },
        "id": "rVTZvwrPhcVe",
        "outputId": "44322f57-4049-45f6-b992-d49c1fe7f9bc"
      },
      "execution_count": null,
      "outputs": [
        {
          "output_type": "stream",
          "name": "stderr",
          "text": [
            "<ipython-input-21-9d97b4b09c25>:10: UserWarning: To copy construct from a tensor, it is recommended to use sourceTensor.clone().detach() or sourceTensor.clone().detach().requires_grad_(True), rather than torch.tensor(sourceTensor).\n",
            "  item = {key: torch.tensor(val[idx]) for key, val in self.encodings.items()}\n"
          ]
        },
        {
          "output_type": "display_data",
          "data": {
            "text/plain": [
              "<IPython.core.display.HTML object>"
            ],
            "text/html": [
              "\n",
              "    <div>\n",
              "      \n",
              "      <progress value='66' max='66' style='width:300px; height:20px; vertical-align: middle;'></progress>\n",
              "      [66/66 19:45, Epoch 3/3]\n",
              "    </div>\n",
              "    <table border=\"1\" class=\"dataframe\">\n",
              "  <thead>\n",
              " <tr style=\"text-align: left;\">\n",
              "      <th>Epoch</th>\n",
              "      <th>Training Loss</th>\n",
              "      <th>Validation Loss</th>\n",
              "      <th>Accuracy</th>\n",
              "      <th>F1</th>\n",
              "      <th>Precision</th>\n",
              "      <th>Recall</th>\n",
              "    </tr>\n",
              "  </thead>\n",
              "  <tbody>\n",
              "    <tr>\n",
              "      <td>1</td>\n",
              "      <td>1.212200</td>\n",
              "      <td>1.052804</td>\n",
              "      <td>0.626667</td>\n",
              "      <td>0.583291</td>\n",
              "      <td>0.621135</td>\n",
              "      <td>0.626667</td>\n",
              "    </tr>\n",
              "    <tr>\n",
              "      <td>2</td>\n",
              "      <td>0.924200</td>\n",
              "      <td>0.821279</td>\n",
              "      <td>0.693333</td>\n",
              "      <td>0.656242</td>\n",
              "      <td>0.670782</td>\n",
              "      <td>0.693333</td>\n",
              "    </tr>\n",
              "    <tr>\n",
              "      <td>3</td>\n",
              "      <td>0.773000</td>\n",
              "      <td>0.761094</td>\n",
              "      <td>0.746667</td>\n",
              "      <td>0.737896</td>\n",
              "      <td>0.758452</td>\n",
              "      <td>0.746667</td>\n",
              "    </tr>\n",
              "  </tbody>\n",
              "</table><p>"
            ]
          },
          "metadata": {}
        },
        {
          "output_type": "stream",
          "name": "stderr",
          "text": [
            "<ipython-input-21-9d97b4b09c25>:10: UserWarning: To copy construct from a tensor, it is recommended to use sourceTensor.clone().detach() or sourceTensor.clone().detach().requires_grad_(True), rather than torch.tensor(sourceTensor).\n",
            "  item = {key: torch.tensor(val[idx]) for key, val in self.encodings.items()}\n",
            "<ipython-input-21-9d97b4b09c25>:10: UserWarning: To copy construct from a tensor, it is recommended to use sourceTensor.clone().detach() or sourceTensor.clone().detach().requires_grad_(True), rather than torch.tensor(sourceTensor).\n",
            "  item = {key: torch.tensor(val[idx]) for key, val in self.encodings.items()}\n"
          ]
        },
        {
          "output_type": "execute_result",
          "data": {
            "text/plain": [
              "TrainOutput(global_step=66, training_loss=1.0179596453002004, metrics={'train_runtime': 1223.0133, 'train_samples_per_second': 0.859, 'train_steps_per_second': 0.054, 'total_flos': 34774552512000.0, 'train_loss': 1.0179596453002004, 'epoch': 3.0})"
            ]
          },
          "metadata": {},
          "execution_count": 25
        }
      ]
    },
    {
      "cell_type": "markdown",
      "source": [
        "# Print the results from the above function"
      ],
      "metadata": {
        "id": "-8UBv7LR6ylf"
      }
    },
    {
      "cell_type": "code",
      "source": [
        "test_results = trainer.evaluate(test_dataset)\n",
        "print(test_results)"
      ],
      "metadata": {
        "colab": {
          "base_uri": "https://localhost:8080/",
          "height": 112
        },
        "id": "LFjGuqIBhcdG",
        "outputId": "8e3f6543-defa-4d27-c189-a65065cb9712"
      },
      "execution_count": null,
      "outputs": [
        {
          "output_type": "stream",
          "name": "stderr",
          "text": [
            "<ipython-input-21-9d97b4b09c25>:10: UserWarning: To copy construct from a tensor, it is recommended to use sourceTensor.clone().detach() or sourceTensor.clone().detach().requires_grad_(True), rather than torch.tensor(sourceTensor).\n",
            "  item = {key: torch.tensor(val[idx]) for key, val in self.encodings.items()}\n"
          ]
        },
        {
          "output_type": "display_data",
          "data": {
            "text/plain": [
              "<IPython.core.display.HTML object>"
            ],
            "text/html": [
              "\n",
              "    <div>\n",
              "      \n",
              "      <progress value='10' max='10' style='width:300px; height:20px; vertical-align: middle;'></progress>\n",
              "      [10/10 00:16]\n",
              "    </div>\n",
              "    "
            ]
          },
          "metadata": {}
        },
        {
          "output_type": "stream",
          "name": "stdout",
          "text": [
            "{'eval_loss': 0.7815303802490234, 'eval_accuracy': 0.7333333333333333, 'eval_f1': 0.7233354231974922, 'eval_precision': 0.726984126984127, 'eval_recall': 0.7333333333333333, 'eval_runtime': 19.1342, 'eval_samples_per_second': 3.92, 'eval_steps_per_second': 0.523, 'epoch': 3.0}\n"
          ]
        }
      ]
    },
    {
      "cell_type": "code",
      "source": [
        "# Evaluate the model on the test dataset\n",
        "test_results = trainer.evaluate(test_dataset)\n",
        "print(\"Test Results:\", test_results)"
      ],
      "metadata": {
        "colab": {
          "base_uri": "https://localhost:8080/",
          "height": 112
        },
        "id": "oOEF6OlbtiQ5",
        "outputId": "d2f3ca1f-d7db-4eb2-9e34-6591bb96ed6a"
      },
      "execution_count": null,
      "outputs": [
        {
          "output_type": "stream",
          "name": "stderr",
          "text": [
            "<ipython-input-21-9d97b4b09c25>:10: UserWarning: To copy construct from a tensor, it is recommended to use sourceTensor.clone().detach() or sourceTensor.clone().detach().requires_grad_(True), rather than torch.tensor(sourceTensor).\n",
            "  item = {key: torch.tensor(val[idx]) for key, val in self.encodings.items()}\n"
          ]
        },
        {
          "output_type": "display_data",
          "data": {
            "text/plain": [
              "<IPython.core.display.HTML object>"
            ],
            "text/html": [
              "\n",
              "    <div>\n",
              "      \n",
              "      <progress value='10' max='10' style='width:300px; height:20px; vertical-align: middle;'></progress>\n",
              "      [10/10 00:21]\n",
              "    </div>\n",
              "    "
            ]
          },
          "metadata": {}
        },
        {
          "output_type": "stream",
          "name": "stdout",
          "text": [
            "Test Results: {'eval_loss': 0.7815303802490234, 'eval_accuracy': 0.7333333333333333, 'eval_f1': 0.7233354231974922, 'eval_precision': 0.726984126984127, 'eval_recall': 0.7333333333333333, 'eval_runtime': 26.5719, 'eval_samples_per_second': 2.823, 'eval_steps_per_second': 0.376, 'epoch': 3.0}\n"
          ]
        }
      ]
    },
    {
      "cell_type": "markdown",
      "source": [
        "# Plot the correlation matrix"
      ],
      "metadata": {
        "id": "ceBqCp9L66_2"
      }
    },
    {
      "cell_type": "code",
      "source": [
        "# Obtain predictions for the test set\n",
        "predictions = trainer.predict(test_dataset)\n",
        "predicted_labels = np.argmax(predictions.predictions, axis=-1)\n",
        "true_labels = [label_dict[label] for label in test_data['Emotion']]\n",
        "\n",
        "# Build a confusion matrix\n",
        "from sklearn.metrics import confusion_matrix\n",
        "import seaborn as sns\n",
        "\n",
        "cm = confusion_matrix(true_labels, predicted_labels)\n",
        "sns.heatmap(cm, annot=True, fmt='d', cmap='Blues', xticklabels=label_dict.keys(), yticklabels=label_dict.keys())\n",
        "\n",
        "# Display the confusion matrix\n",
        "plt.xlabel('Predicted Labels')\n",
        "plt.ylabel('True Labels')\n",
        "plt.title('Confusion Matrix')\n",
        "plt.show()"
      ],
      "metadata": {
        "colab": {
          "base_uri": "https://localhost:8080/",
          "height": 529
        },
        "id": "TJ3nX4YLtiTp",
        "outputId": "a4199e0e-dd8b-4813-9d64-8682daf8de76"
      },
      "execution_count": null,
      "outputs": [
        {
          "output_type": "stream",
          "name": "stderr",
          "text": [
            "<ipython-input-21-9d97b4b09c25>:10: UserWarning: To copy construct from a tensor, it is recommended to use sourceTensor.clone().detach() or sourceTensor.clone().detach().requires_grad_(True), rather than torch.tensor(sourceTensor).\n",
            "  item = {key: torch.tensor(val[idx]) for key, val in self.encodings.items()}\n"
          ]
        },
        {
          "output_type": "display_data",
          "data": {
            "text/plain": [
              "<IPython.core.display.HTML object>"
            ],
            "text/html": []
          },
          "metadata": {}
        },
        {
          "output_type": "display_data",
          "data": {
            "text/plain": [
              "<Figure size 640x480 with 2 Axes>"
            ],
            "image/png": "[encoded data removed]"
          },
          "metadata": {}
        }
      ]
    },
    {
      "cell_type": "markdown",
      "source": [
        "# Install seaborn to plot further"
      ],
      "metadata": {
        "id": "t_p35D6O4xhQ"
      }
    },
    {
      "cell_type": "code",
      "source": [
        "!pip install matplotlib seaborn"
      ],
      "metadata": {
        "colab": {
          "base_uri": "https://localhost:8080/"
        },
        "id": "BRb8CdjDvz2d",
        "outputId": "3870e187-3a49-46f3-de61-8955e4db18c8"
      },
      "execution_count": null,
      "outputs": [
        {
          "output_type": "stream",
          "name": "stdout",
          "text": [
            "Requirement already satisfied: matplotlib in /usr/local/lib/python3.10/dist-packages (3.7.1)\n",
            "Requirement already satisfied: seaborn in /usr/local/lib/python3.10/dist-packages (0.13.1)\n",
            "Requirement already satisfied: contourpy>=1.0.1 in /usr/local/lib/python3.10/dist-packages (from matplotlib) (1.2.1)\n",
            "Requirement already satisfied: cycler>=0.10 in /usr/local/lib/python3.10/dist-packages (from matplotlib) (0.12.1)\n",
            "Requirement already satisfied: fonttools>=4.22.0 in /usr/local/lib/python3.10/dist-packages (from matplotlib) (4.51.0)\n",
            "Requirement already satisfied: kiwisolver>=1.0.1 in /usr/local/lib/python3.10/dist-packages (from matplotlib) (1.4.5)\n",
            "Requirement already satisfied: numpy>=1.20 in /usr/local/lib/python3.10/dist-packages (from matplotlib) (1.25.2)\n",
            "Requirement already satisfied: packaging>=20.0 in /usr/local/lib/python3.10/dist-packages (from matplotlib) (24.0)\n",
            "Requirement already satisfied: pillow>=6.2.0 in /usr/local/lib/python3.10/dist-packages (from matplotlib) (9.4.0)\n",
            "Requirement already satisfied: pyparsing>=2.3.1 in /usr/local/lib/python3.10/dist-packages (from matplotlib) (3.1.2)\n",
            "Requirement already satisfied: python-dateutil>=2.7 in /usr/local/lib/python3.10/dist-packages (from matplotlib) (2.8.2)\n",
            "Requirement already satisfied: pandas>=1.2 in /usr/local/lib/python3.10/dist-packages (from seaborn) (2.0.3)\n",
            "Requirement already satisfied: pytz>=2020.1 in /usr/local/lib/python3.10/dist-packages (from pandas>=1.2->seaborn) (2023.4)\n",
            "Requirement already satisfied: tzdata>=2022.1 in /usr/local/lib/python3.10/dist-packages (from pandas>=1.2->seaborn) (2024.1)\n",
            "Requirement already satisfied: six>=1.5 in /usr/local/lib/python3.10/dist-packages (from python-dateutil>=2.7->matplotlib) (1.16.0)\n"
          ]
        }
      ]
    },
    {
      "cell_type": "code",
      "source": [
        "import matplotlib.pyplot as plt\n",
        "import seaborn as sns\n",
        "\n",
        "metrics = {\n",
        "    'Accuracy': test_results.get('eval_accuracy', 0),\n",
        "    'Precision': test_results.get('eval_precision', 0),\n",
        "    'Recall': test_results.get('eval_recall', 0),\n",
        "    'F1 Score': test_results.get('eval_f1', 0)\n",
        "}\n",
        "\n",
        "names = list(metrics.keys())\n",
        "values = list(metrics.values())"
      ],
      "metadata": {
        "id": "zYNlsqrrvz5C"
      },
      "execution_count": null,
      "outputs": []
    },
    {
      "cell_type": "markdown",
      "source": [
        "# Bar Graph"
      ],
      "metadata": {
        "id": "dJ5lRIHe7CTk"
      }
    },
    {
      "cell_type": "code",
      "source": [
        "# Plot\n",
        "plt.figure(figsize=(10, 5))\n",
        "sns.barplot(x=names, y=values)\n",
        "plt.title('Evaluation Metrics')\n",
        "plt.ylabel('Score')\n",
        "plt.ylim(0, 1)\n",
        "for i, value in enumerate(values):\n",
        "    plt.text(i, value + 0.01, f'{value:.2f}', ha='center')\n",
        "plt.show()"
      ],
      "metadata": {
        "colab": {
          "base_uri": "https://localhost:8080/",
          "height": 468
        },
        "id": "UHhCne5Gpd27",
        "outputId": "dc985d5f-bedc-4452-f272-8645cfc9ee88"
      },
      "execution_count": null,
      "outputs": [
        {
          "output_type": "display_data",
          "data": {
            "text/plain": [
              "<Figure size 1000x500 with 1 Axes>"
            ],
            "image/png": "[encoded data removed]"
          },
          "metadata": {}
        }
      ]
    },
    {
      "cell_type": "markdown",
      "source": [
        "# Pie Chart"
      ],
      "metadata": {
        "id": "dwyWFYTm7Fq1"
      }
    },
    {
      "cell_type": "code",
      "source": [
        "plt.figure(figsize=(7, 7))\n",
        "plt.pie(values, labels=names, autopct='%1.1f%%', startangle=140)\n",
        "plt.title('Distribution of Evaluation Metrics')\n",
        "plt.show()"
      ],
      "metadata": {
        "colab": {
          "base_uri": "https://localhost:8080/",
          "height": 598
        },
        "id": "x0zObA9IpeAD",
        "outputId": "6aa51e93-be24-4ecf-c5f4-69750cebbf01"
      },
      "execution_count": null,
      "outputs": [
        {
          "output_type": "display_data",
          "data": {
            "text/plain": [
              "<Figure size 700x700 with 1 Axes>"
            ],
            "image/png": "[encoded data removed]"
          },
          "metadata": {}
        }
      ]
    },
    {
      "cell_type": "markdown",
      "source": [
        "# Plot the accuracy scores"
      ],
      "metadata": {
        "id": "m4aterPo7Jlk"
      }
    },
    {
      "cell_type": "code",
      "source": [
        "import matplotlib.pyplot as plt\n",
        "\n",
        "epochs = [1, 2, 3]\n",
        "training_loss = [1.2122, 0.9242, 0.7730]\n",
        "validation_loss = [1.0528, 0.8213, 0.7611]\n",
        "accuracy = [0.6267, 0.6933, 0.7467]\n",
        "f1_scores = [0.5833, 0.6562, 0.7379]\n",
        "precision = [0.6211, 0.6708, 0.7585]\n",
        "recall = [0.6267, 0.6933, 0.7467]\n",
        "\n",
        "# Create subplots\n",
        "fig, ax1 = plt.subplots()\n",
        "\n",
        "# Plot training and validation loss\n",
        "ax1.set_xlabel('Epoch')\n",
        "ax1.set_ylabel('Loss', color='tab:red')\n",
        "ax1.plot(epochs, training_loss, label='Training Loss', marker='o', color='tab:red')\n",
        "ax1.plot(epochs, validation_loss, label='Validation Loss', marker='o', color='tab:orange')\n",
        "ax1.tick_params(axis='y', labelcolor='tab:red')\n",
        "ax1.legend(loc='upper left')\n",
        "\n",
        "# Create a second y-axis for the accuracy and other metrics\n",
        "ax2 = ax1.twinx()\n",
        "ax2.set_ylabel('Metrics', color='tab:blue')\n",
        "ax2.plot(epochs, accuracy, label='Accuracy', marker='o', color='tab:blue')\n",
        "ax2.plot(epochs, f1_scores, label='F1 Score', marker='o', color='tab:green')\n",
        "ax2.plot(epochs, precision, label='Precision', marker='o', color='tab:purple')\n",
        "ax2.plot(epochs, recall, label='Recall', marker='o', color='tab:brown')\n",
        "ax2.tick_params(axis='y', labelcolor='tab:blue')\n",
        "ax2.legend(loc='upper right')\n",
        "fig.tight_layout()\n",
        "plt.title('Training Progress')\n",
        "plt.show()"
      ],
      "metadata": {
        "colab": {
          "base_uri": "https://localhost:8080/",
          "height": 509
        },
        "id": "xSs2kEHXpeDx",
        "outputId": "845b8bb9-8cc7-4cd2-c103-e795e588b380"
      },
      "execution_count": null,
      "outputs": [
        {
          "output_type": "display_data",
          "data": {
            "text/plain": [
              "<Figure size 640x480 with 2 Axes>"
            ],
            "image/png": "[encoded data removed]"
          },
          "metadata": {}
        }
      ]
    },
    {
      "cell_type": "markdown",
      "source": [
        "# Retrieve model predictions on test dataset"
      ],
      "metadata": {
        "id": "H8jupHHawwU1"
      }
    },
    {
      "cell_type": "code",
      "source": [
        "predictions = trainer.predict(test_dataset)"
      ],
      "metadata": {
        "colab": {
          "base_uri": "https://localhost:8080/",
          "height": 74
        },
        "id": "q4lQqDruvfM0",
        "outputId": "07c7959e-0caf-49a7-c803-7101f241ec0a"
      },
      "execution_count": null,
      "outputs": [
        {
          "output_type": "stream",
          "name": "stderr",
          "text": [
            "<ipython-input-21-9d97b4b09c25>:10: UserWarning: To copy construct from a tensor, it is recommended to use sourceTensor.clone().detach() or sourceTensor.clone().detach().requires_grad_(True), rather than torch.tensor(sourceTensor).\n",
            "  item = {key: torch.tensor(val[idx]) for key, val in self.encodings.items()}\n"
          ]
        },
        {
          "output_type": "display_data",
          "data": {
            "text/plain": [
              "<IPython.core.display.HTML object>"
            ],
            "text/html": []
          },
          "metadata": {}
        }
      ]
    },
    {
      "cell_type": "markdown",
      "source": [
        "# Convert the raw logits to probabilities"
      ],
      "metadata": {
        "id": "Povi4hHVw6DY"
      }
    },
    {
      "cell_type": "code",
      "source": [
        "# Apply softmax to logits to get probabilities\n",
        "softmax = torch.nn.functional.softmax(torch.tensor(predictions.predictions), dim=-1)"
      ],
      "metadata": {
        "id": "G2NZ9HVBw5dk"
      },
      "execution_count": null,
      "outputs": []
    },
    {
      "cell_type": "markdown",
      "source": [
        "# Extract the probabilities for each class"
      ],
      "metadata": {
        "id": "Gjr8_bs_w_Df"
      }
    },
    {
      "cell_type": "code",
      "source": [
        "# Get probabilities for each class\n",
        "probabilities = softmax.numpy()"
      ],
      "metadata": {
        "id": "rjXJfnjrw5h1"
      },
      "execution_count": null,
      "outputs": []
    },
    {
      "cell_type": "markdown",
      "source": [
        "# Create a DataFrame with the original texts and predictions"
      ],
      "metadata": {
        "id": "Myf5ED2LxJLl"
      }
    },
    {
      "cell_type": "code",
      "source": [
        "original_texts = [text for text in test_data['text']]\n",
        "\n",
        "# Map predicted indices to labels\n",
        "predicted_labels = [model.config.id2label[pred] for pred in predictions.predictions.argmax(-1)]\n",
        "\n",
        "# Create the DataFrame\n",
        "df = pd.DataFrame({\n",
        "    'text': original_texts,\n",
        "    'predicted_label': predicted_labels,\n",
        "    'probability_surprise': probabilities[:, 0],\n",
        "    'probability_sadness': probabilities[:, 1],\n",
        "    'probability_anger': probabilities[:, 2],\n",
        "    'probability_joy': probabilities[:, 3],\n",
        "    'probability_neutral': probabilities[:, 4]\n",
        "})"
      ],
      "metadata": {
        "id": "TMJZFRgnxJQj"
      },
      "execution_count": null,
      "outputs": []
    },
    {
      "cell_type": "markdown",
      "source": [
        "### The emotions are being labeled automatically.\n",
        "### To proceed, it would be useful to re-label these as the actual emotions.\n",
        "#### The label \"translations\" are above, which will help when renaming"
      ],
      "metadata": {
        "id": "yZkJ88X-xSJe"
      }
    },
    {
      "cell_type": "code",
      "source": [
        "print(df['predicted_label'].value_counts())"
      ],
      "metadata": {
        "colab": {
          "base_uri": "https://localhost:8080/"
        },
        "id": "0uUR9zv1xXu4",
        "outputId": "39ce31bb-4293-4ffa-eb44-68e27c738e56"
      },
      "execution_count": null,
      "outputs": [
        {
          "output_type": "stream",
          "name": "stdout",
          "text": [
            "predicted_label\n",
            "LABEL_3    18\n",
            "LABEL_0    18\n",
            "LABEL_2    15\n",
            "LABEL_1    14\n",
            "LABEL_4    10\n",
            "Name: count, dtype: int64\n"
          ]
        }
      ]
    },
    {
      "cell_type": "code",
      "source": [
        "df.info()"
      ],
      "metadata": {
        "colab": {
          "base_uri": "https://localhost:8080/"
        },
        "id": "ljHII58V0Ena",
        "outputId": "10dd8c52-c736-411b-efe3-e66588ce69f3"
      },
      "execution_count": null,
      "outputs": [
        {
          "output_type": "stream",
          "name": "stdout",
          "text": [
            "<class 'pandas.core.frame.DataFrame'>\n",
            "RangeIndex: 75 entries, 0 to 74\n",
            "Data columns (total 8 columns):\n",
            " #   Column                Non-Null Count  Dtype  \n",
            "---  ------                --------------  -----  \n",
            " 0   text                  75 non-null     object \n",
            " 1   predicted_label       75 non-null     object \n",
            " 2   probability_surprise  75 non-null     float32\n",
            " 3   probability_sadness   75 non-null     float32\n",
            " 4   probability_anger     75 non-null     float32\n",
            " 5   probability_joy       75 non-null     float32\n",
            " 6   probability_neutral   75 non-null     float32\n",
            " 7   predicted_emotion     75 non-null     object \n",
            "dtypes: float32(5), object(3)\n",
            "memory usage: 3.3+ KB\n"
          ]
        }
      ]
    },
    {
      "cell_type": "markdown",
      "source": [
        "# Changing the `predicted_label` column\n",
        "### So that -\n",
        "- Each label in the format of \"LABEL_(A NUMBER)\" would now show as the emotion it predicted after analysis"
      ],
      "metadata": {
        "id": "XHbwrLPl32rf"
      }
    },
    {
      "cell_type": "code",
      "source": [
        "df['predicted_label'] = df['predicted_label'].replace({'LABEL_0': 'surprise'})\n",
        "df['predicted_label'] = df['predicted_label'].replace({'LABEL_1': 'sadness'})\n",
        "df['predicted_label'] = df['predicted_label'].replace({'LABEL_2': 'anger'})\n",
        "df['predicted_label'] = df['predicted_label'].replace({'LABEL_3': 'joy'})\n",
        "df['predicted_label'] = df['predicted_label'].replace({'LABEL_4': 'neutral'})\n",
        "df.head()"
      ],
      "metadata": {
        "colab": {
          "base_uri": "https://localhost:8080/",
          "height": 469
        },
        "id": "JVBM4ptk1-mR",
        "outputId": "0f153c08-7d80-43b3-d9c7-71105b8c5928"
      },
      "execution_count": null,
      "outputs": [
        {
          "output_type": "execute_result",
          "data": {
            "text/plain": [
              "                                                text predicted_label  \\\n",
              "0  i don t want to feel like loving jesus is minu...         neutral   \n",
              "1  i havent enjoyed a few treats because ive had ...         sadness   \n",
              "2  i feel called to step out of the boat and have...         neutral   \n",
              "3  i feel grief with the families whose children ...         sadness   \n",
              "4  i still stumble when im tired my pronunciation...           anger   \n",
              "\n",
              "   probability_surprise  probability_sadness  probability_anger  \\\n",
              "0              0.035003             0.092924           0.075295   \n",
              "1              0.037477             0.389605           0.085379   \n",
              "2              0.124428             0.133689           0.138322   \n",
              "3              0.034153             0.559583           0.071584   \n",
              "4              0.041735             0.086947           0.739807   \n",
              "\n",
              "   probability_joy  probability_neutral  \n",
              "0         0.381196             0.415582  \n",
              "1         0.280230             0.207310  \n",
              "2         0.158500             0.445061  \n",
              "3         0.169725             0.164955  \n",
              "4         0.061548             0.069963  "
            ],
            "text/html": [
              "\n",
              "  <div id=\"df-9c132d4b-9b1a-4512-88d4-b312a36a4465\" class=\"colab-df-container\">\n",
              "    <div>\n",
              "<style scoped>\n",
              "    .dataframe tbody tr th:only-of-type {\n",
              "        vertical-align: middle;\n",
              "    }\n",
              "\n",
              "    .dataframe tbody tr th {\n",
              "        vertical-align: top;\n",
              "    }\n",
              "\n",
              "    .dataframe thead th {\n",
              "        text-align: right;\n",
              "    }\n",
              "</style>\n",
              "<table border=\"1\" class=\"dataframe\">\n",
              "  <thead>\n",
              "    <tr style=\"text-align: right;\">\n",
              "      <th></th>\n",
              "      <th>text</th>\n",
              "      <th>predicted_label</th>\n",
              "      <th>probability_surprise</th>\n",
              "      <th>probability_sadness</th>\n",
              "      <th>probability_anger</th>\n",
              "      <th>probability_joy</th>\n",
              "      <th>probability_neutral</th>\n",
              "    </tr>\n",
              "  </thead>\n",
              "  <tbody>\n",
              "    <tr>\n",
              "      <th>0</th>\n",
              "      <td>i don t want to feel like loving jesus is minu...</td>\n",
              "      <td>neutral</td>\n",
              "      <td>0.035003</td>\n",
              "      <td>0.092924</td>\n",
              "      <td>0.075295</td>\n",
              "      <td>0.381196</td>\n",
              "      <td>0.415582</td>\n",
              "    </tr>\n",
              "    <tr>\n",
              "      <th>1</th>\n",
              "      <td>i havent enjoyed a few treats because ive had ...</td>\n",
              "      <td>sadness</td>\n",
              "      <td>0.037477</td>\n",
              "      <td>0.389605</td>\n",
              "      <td>0.085379</td>\n",
              "      <td>0.280230</td>\n",
              "      <td>0.207310</td>\n",
              "    </tr>\n",
              "    <tr>\n",
              "      <th>2</th>\n",
              "      <td>i feel called to step out of the boat and have...</td>\n",
              "      <td>neutral</td>\n",
              "      <td>0.124428</td>\n",
              "      <td>0.133689</td>\n",
              "      <td>0.138322</td>\n",
              "      <td>0.158500</td>\n",
              "      <td>0.445061</td>\n",
              "    </tr>\n",
              "    <tr>\n",
              "      <th>3</th>\n",
              "      <td>i feel grief with the families whose children ...</td>\n",
              "      <td>sadness</td>\n",
              "      <td>0.034153</td>\n",
              "      <td>0.559583</td>\n",
              "      <td>0.071584</td>\n",
              "      <td>0.169725</td>\n",
              "      <td>0.164955</td>\n",
              "    </tr>\n",
              "    <tr>\n",
              "      <th>4</th>\n",
              "      <td>i still stumble when im tired my pronunciation...</td>\n",
              "      <td>anger</td>\n",
              "      <td>0.041735</td>\n",
              "      <td>0.086947</td>\n",
              "      <td>0.739807</td>\n",
              "      <td>0.061548</td>\n",
              "      <td>0.069963</td>\n",
              "    </tr>\n",
              "  </tbody>\n",
              "</table>\n",
              "</div>\n",
              "    <div class=\"colab-df-buttons\">\n",
              "\n",
              "  <div class=\"colab-df-container\">\n",
              "    <button class=\"colab-df-convert\" onclick=\"convertToInteractive('df-9c132d4b-9b1a-4512-88d4-b312a36a4465')\"\n",
              "            title=\"Convert this dataframe to an interactive table.\"\n",
              "            style=\"display:none;\">\n",
              "\n",
              "  <svg xmlns=\"http://www.w3.org/2000/svg\" height=\"24px\" viewBox=\"0 -960 960 960\">\n",
              "    <path d=\"M120-120v-720h720v720H120Zm60-500h600v-160H180v160Zm220 220h160v-160H400v160Zm0 220h160v-160H400v160ZM180-400h160v-160H180v160Zm440 0h160v-160H620v160ZM180-180h160v-160H180v160Zm440 0h160v-160H620v160Z\"/>\n",
              "  </svg>\n",
              "    </button>\n",
              "\n",
              "  <style>\n",
              "    .colab-df-container {\n",
              "      display:flex;\n",
              "      gap: 12px;\n",
              "    }\n",
              "\n",
              "    .colab-df-convert {\n",
              "      background-color: #E8F0FE;\n",
              "      border: none;\n",
              "      border-radius: 50%;\n",
              "      cursor: pointer;\n",
              "      display: none;\n",
              "      fill: #1967D2;\n",
              "      height: 32px;\n",
              "      padding: 0 0 0 0;\n",
              "      width: 32px;\n",
              "    }\n",
              "\n",
              "    .colab-df-convert:hover {\n",
              "      background-color: #E2EBFA;\n",
              "      box-shadow: 0px 1px 2px rgba(60, 64, 67, 0.3), 0px 1px 3px 1px rgba(60, 64, 67, 0.15);\n",
              "      fill: #174EA6;\n",
              "    }\n",
              "\n",
              "    .colab-df-buttons div {\n",
              "      margin-bottom: 4px;\n",
              "    }\n",
              "\n",
              "    [theme=dark] .colab-df-convert {\n",
              "      background-color: #3B4455;\n",
              "      fill: #D2E3FC;\n",
              "    }\n",
              "\n",
              "    [theme=dark] .colab-df-convert:hover {\n",
              "      background-color: #434B5C;\n",
              "      box-shadow: 0px 1px 3px 1px rgba(0, 0, 0, 0.15);\n",
              "      filter: drop-shadow(0px 1px 2px rgba(0, 0, 0, 0.3));\n",
              "      fill: #FFFFFF;\n",
              "    }\n",
              "  </style>\n",
              "\n",
              "    <script>\n",
              "      const buttonEl =\n",
              "        document.querySelector('#df-9c132d4b-9b1a-4512-88d4-b312a36a4465 button.colab-df-convert');\n",
              "      buttonEl.style.display =\n",
              "        google.colab.kernel.accessAllowed ? 'block' : 'none';\n",
              "\n",
              "      async function convertToInteractive(key) {\n",
              "        const element = document.querySelector('#df-9c132d4b-9b1a-4512-88d4-b312a36a4465');\n",
              "        const dataTable =\n",
              "          await google.colab.kernel.invokeFunction('convertToInteractive',\n",
              "                                                    [key], {});\n",
              "        if (!dataTable) return;\n",
              "\n",
              "        const docLinkHtml = 'Like what you see? Visit the ' +\n",
              "          '<a target=\"_blank\" href=https://colab.research.google.com/notebooks/data_table.ipynb>data table notebook</a>'\n",
              "          + ' to learn more about interactive tables.';\n",
              "        element.innerHTML = '';\n",
              "        dataTable['output_type'] = 'display_data';\n",
              "        await google.colab.output.renderOutput(dataTable, element);\n",
              "        const docLink = document.createElement('div');\n",
              "        docLink.innerHTML = docLinkHtml;\n",
              "        element.appendChild(docLink);\n",
              "      }\n",
              "    </script>\n",
              "  </div>\n",
              "\n",
              "\n",
              "<div id=\"df-d467639f-4884-4ad9-adc1-afa9624a5792\">\n",
              "  <button class=\"colab-df-quickchart\" onclick=\"quickchart('df-d467639f-4884-4ad9-adc1-afa9624a5792')\"\n",
              "            title=\"Suggest charts\"\n",
              "            style=\"display:none;\">\n",
              "\n",
              "<svg xmlns=\"http://www.w3.org/2000/svg\" height=\"24px\"viewBox=\"0 0 24 24\"\n",
              "     width=\"24px\">\n",
              "    <g>\n",
              "        <path d=\"M19 3H5c-1.1 0-2 .9-2 2v14c0 1.1.9 2 2 2h14c1.1 0 2-.9 2-2V5c0-1.1-.9-2-2-2zM9 17H7v-7h2v7zm4 0h-2V7h2v10zm4 0h-2v-4h2v4z\"/>\n",
              "    </g>\n",
              "</svg>\n",
              "  </button>\n",
              "\n",
              "<style>\n",
              "  .colab-df-quickchart {\n",
              "      --bg-color: #E8F0FE;\n",
              "      --fill-color: #1967D2;\n",
              "      --hover-bg-color: #E2EBFA;\n",
              "      --hover-fill-color: #174EA6;\n",
              "      --disabled-fill-color: #AAA;\n",
              "      --disabled-bg-color: #DDD;\n",
              "  }\n",
              "\n",
              "  [theme=dark] .colab-df-quickchart {\n",
              "      --bg-color: #3B4455;\n",
              "      --fill-color: #D2E3FC;\n",
              "      --hover-bg-color: #434B5C;\n",
              "      --hover-fill-color: #FFFFFF;\n",
              "      --disabled-bg-color: #3B4455;\n",
              "      --disabled-fill-color: #666;\n",
              "  }\n",
              "\n",
              "  .colab-df-quickchart {\n",
              "    background-color: var(--bg-color);\n",
              "    border: none;\n",
              "    border-radius: 50%;\n",
              "    cursor: pointer;\n",
              "    display: none;\n",
              "    fill: var(--fill-color);\n",
              "    height: 32px;\n",
              "    padding: 0;\n",
              "    width: 32px;\n",
              "  }\n",
              "\n",
              "  .colab-df-quickchart:hover {\n",
              "    background-color: var(--hover-bg-color);\n",
              "    box-shadow: 0 1px 2px rgba(60, 64, 67, 0.3), 0 1px 3px 1px rgba(60, 64, 67, 0.15);\n",
              "    fill: var(--button-hover-fill-color);\n",
              "  }\n",
              "\n",
              "  .colab-df-quickchart-complete:disabled,\n",
              "  .colab-df-quickchart-complete:disabled:hover {\n",
              "    background-color: var(--disabled-bg-color);\n",
              "    fill: var(--disabled-fill-color);\n",
              "    box-shadow: none;\n",
              "  }\n",
              "\n",
              "  .colab-df-spinner {\n",
              "    border: 2px solid var(--fill-color);\n",
              "    border-color: transparent;\n",
              "    border-bottom-color: var(--fill-color);\n",
              "    animation:\n",
              "      spin 1s steps(1) infinite;\n",
              "  }\n",
              "\n",
              "  @keyframes spin {\n",
              "    0% {\n",
              "      border-color: transparent;\n",
              "      border-bottom-color: var(--fill-color);\n",
              "      border-left-color: var(--fill-color);\n",
              "    }\n",
              "    20% {\n",
              "      border-color: transparent;\n",
              "      border-left-color: var(--fill-color);\n",
              "      border-top-color: var(--fill-color);\n",
              "    }\n",
              "    30% {\n",
              "      border-color: transparent;\n",
              "      border-left-color: var(--fill-color);\n",
              "      border-top-color: var(--fill-color);\n",
              "      border-right-color: var(--fill-color);\n",
              "    }\n",
              "    40% {\n",
              "      border-color: transparent;\n",
              "      border-right-color: var(--fill-color);\n",
              "      border-top-color: var(--fill-color);\n",
              "    }\n",
              "    60% {\n",
              "      border-color: transparent;\n",
              "      border-right-color: var(--fill-color);\n",
              "    }\n",
              "    80% {\n",
              "      border-color: transparent;\n",
              "      border-right-color: var(--fill-color);\n",
              "      border-bottom-color: var(--fill-color);\n",
              "    }\n",
              "    90% {\n",
              "      border-color: transparent;\n",
              "      border-bottom-color: var(--fill-color);\n",
              "    }\n",
              "  }\n",
              "</style>\n",
              "\n",
              "  <script>\n",
              "    async function quickchart(key) {\n",
              "      const quickchartButtonEl =\n",
              "        document.querySelector('#' + key + ' button');\n",
              "      quickchartButtonEl.disabled = true;  // To prevent multiple clicks.\n",
              "      quickchartButtonEl.classList.add('colab-df-spinner');\n",
              "      try {\n",
              "        const charts = await google.colab.kernel.invokeFunction(\n",
              "            'suggestCharts', [key], {});\n",
              "      } catch (error) {\n",
              "        console.error('Error during call to suggestCharts:', error);\n",
              "      }\n",
              "      quickchartButtonEl.classList.remove('colab-df-spinner');\n",
              "      quickchartButtonEl.classList.add('colab-df-quickchart-complete');\n",
              "    }\n",
              "    (() => {\n",
              "      let quickchartButtonEl =\n",
              "        document.querySelector('#df-d467639f-4884-4ad9-adc1-afa9624a5792 button');\n",
              "      quickchartButtonEl.style.display =\n",
              "        google.colab.kernel.accessAllowed ? 'block' : 'none';\n",
              "    })();\n",
              "  </script>\n",
              "</div>\n",
              "\n",
              "    </div>\n",
              "  </div>\n"
            ],
            "application/vnd.google.colaboratory.intrinsic+json": {
              "type": "dataframe",
              "variable_name": "df",
              "summary": "{\n  \"name\": \"df\",\n  \"rows\": 75,\n  \"fields\": [\n    {\n      \"column\": \"text\",\n      \"properties\": {\n        \"dtype\": \"string\",\n        \"num_unique_values\": 75,\n        \"samples\": [\n          \"i still stumble when im tired my pronunciation degrades under strong emotion and stress and every so often someone points out a misuse of the subjunctive and i feel angry because i wish someone had mentioned it earlier like years ago maybe\",\n          \"im surprised that im actually feeling nervous right now about tomorrow\",\n          \"i must say i like theyve added bath wash to the title i feel that sometimes with all these shower gels the bath can be quite jealous\"\n        ],\n        \"semantic_type\": \"\",\n        \"description\": \"\"\n      }\n    },\n    {\n      \"column\": \"predicted_label\",\n      \"properties\": {\n        \"dtype\": \"category\",\n        \"num_unique_values\": 5,\n        \"samples\": [\n          \"sadness\",\n          \"surprise\",\n          \"anger\"\n        ],\n        \"semantic_type\": \"\",\n        \"description\": \"\"\n      }\n    },\n    {\n      \"column\": \"probability_surprise\",\n      \"properties\": {\n        \"dtype\": \"float32\",\n        \"num_unique_values\": 75,\n        \"samples\": [\n          0.0417347177863121,\n          0.8607346415519714,\n          0.06177335977554321\n        ],\n        \"semantic_type\": \"\",\n        \"description\": \"\"\n      }\n    },\n    {\n      \"column\": \"probability_sadness\",\n      \"properties\": {\n        \"dtype\": \"float32\",\n        \"num_unique_values\": 75,\n        \"samples\": [\n          0.08694710582494736,\n          0.032706573605537415,\n          0.12966026365756989\n        ],\n        \"semantic_type\": \"\",\n        \"description\": \"\"\n      }\n    },\n    {\n      \"column\": \"probability_anger\",\n      \"properties\": {\n        \"dtype\": \"float32\",\n        \"num_unique_values\": 75,\n        \"samples\": [\n          0.7398068904876709,\n          0.030481668189167976,\n          0.42563387751579285\n        ],\n        \"semantic_type\": \"\",\n        \"description\": \"\"\n      }\n    },\n    {\n      \"column\": \"probability_joy\",\n      \"properties\": {\n        \"dtype\": \"float32\",\n        \"num_unique_values\": 75,\n        \"samples\": [\n          0.06154835596680641,\n          0.029007092118263245,\n          0.1526854932308197\n        ],\n        \"semantic_type\": \"\",\n        \"description\": \"\"\n      }\n    },\n    {\n      \"column\": \"probability_neutral\",\n      \"properties\": {\n        \"dtype\": \"float32\",\n        \"num_unique_values\": 75,\n        \"samples\": [\n          0.06996296346187592,\n          0.04707007110118866,\n          0.23024697601795197\n        ],\n        \"semantic_type\": \"\",\n        \"description\": \"\"\n      }\n    }\n  ]\n}"
            }
          },
          "metadata": {},
          "execution_count": 72
        }
      ]
    },
    {
      "cell_type": "code",
      "source": [
        "print(df['predicted_label'].value_counts())"
      ],
      "metadata": {
        "colab": {
          "base_uri": "https://localhost:8080/"
        },
        "id": "plsBlf5L1Xs6",
        "outputId": "c847f1d9-a08f-4538-9122-d0d2b958bebe"
      },
      "execution_count": null,
      "outputs": [
        {
          "output_type": "stream",
          "name": "stdout",
          "text": [
            "predicted_label\n",
            "joy         18\n",
            "surprise    18\n",
            "anger       15\n",
            "sadness     14\n",
            "neutral     10\n",
            "Name: count, dtype: int64\n"
          ]
        }
      ]
    },
    {
      "cell_type": "markdown",
      "source": [
        "# Printing all results:"
      ],
      "metadata": {
        "id": "WifHdda65miY"
      }
    },
    {
      "cell_type": "markdown",
      "source": [
        "# Test Dataset"
      ],
      "metadata": {
        "id": "2JLg2g8C5ptQ"
      }
    },
    {
      "cell_type": "code",
      "source": [
        "test_results = trainer.evaluate(test_dataset)\n",
        "print(test_results)"
      ],
      "metadata": {
        "colab": {
          "base_uri": "https://localhost:8080/",
          "height": 112
        },
        "id": "xEljcueo1XwR",
        "outputId": "d1939ef5-d4f9-4e9e-e8c9-5674a142c94c"
      },
      "execution_count": null,
      "outputs": [
        {
          "output_type": "stream",
          "name": "stderr",
          "text": [
            "<ipython-input-21-9d97b4b09c25>:10: UserWarning: To copy construct from a tensor, it is recommended to use sourceTensor.clone().detach() or sourceTensor.clone().detach().requires_grad_(True), rather than torch.tensor(sourceTensor).\n",
            "  item = {key: torch.tensor(val[idx]) for key, val in self.encodings.items()}\n"
          ]
        },
        {
          "output_type": "display_data",
          "data": {
            "text/plain": [
              "<IPython.core.display.HTML object>"
            ],
            "text/html": [
              "\n",
              "    <div>\n",
              "      \n",
              "      <progress value='10' max='10' style='width:300px; height:20px; vertical-align: middle;'></progress>\n",
              "      [10/10 00:26]\n",
              "    </div>\n",
              "    "
            ]
          },
          "metadata": {}
        },
        {
          "output_type": "stream",
          "name": "stdout",
          "text": [
            "{'eval_loss': 0.7815303802490234, 'eval_accuracy': 0.7333333333333333, 'eval_f1': 0.7233354231974922, 'eval_precision': 0.726984126984127, 'eval_recall': 0.7333333333333333, 'eval_runtime': 30.613, 'eval_samples_per_second': 2.45, 'eval_steps_per_second': 0.327, 'epoch': 3.0}\n"
          ]
        }
      ]
    },
    {
      "cell_type": "markdown",
      "source": [
        "# Train Dataset"
      ],
      "metadata": {
        "id": "5ha-O7KN5qSc"
      }
    },
    {
      "cell_type": "code",
      "source": [
        "train_results = trainer.evaluate(train_dataset)\n",
        "print(train_results)"
      ],
      "metadata": {
        "colab": {
          "base_uri": "https://localhost:8080/",
          "height": 112
        },
        "id": "B6ocW7RM1Xyl",
        "outputId": "71ec546e-7515-4d4e-d523-b77670e076c2"
      },
      "execution_count": null,
      "outputs": [
        {
          "output_type": "stream",
          "name": "stderr",
          "text": [
            "<ipython-input-21-9d97b4b09c25>:10: UserWarning: To copy construct from a tensor, it is recommended to use sourceTensor.clone().detach() or sourceTensor.clone().detach().requires_grad_(True), rather than torch.tensor(sourceTensor).\n",
            "  item = {key: torch.tensor(val[idx]) for key, val in self.encodings.items()}\n"
          ]
        },
        {
          "output_type": "display_data",
          "data": {
            "text/plain": [
              "<IPython.core.display.HTML object>"
            ],
            "text/html": [
              "\n",
              "    <div>\n",
              "      \n",
              "      <progress value='98' max='10' style='width:300px; height:20px; vertical-align: middle;'></progress>\n",
              "      [10/10 05:02]\n",
              "    </div>\n",
              "    "
            ]
          },
          "metadata": {}
        },
        {
          "output_type": "stream",
          "name": "stdout",
          "text": [
            "{'eval_loss': 0.6881137490272522, 'eval_accuracy': 0.78, 'eval_f1': 0.7621476783377955, 'eval_precision': 0.7805874489506852, 'eval_recall': 0.78, 'eval_runtime': 104.7757, 'eval_samples_per_second': 3.34, 'eval_steps_per_second': 0.42, 'epoch': 3.0}\n"
          ]
        }
      ]
    },
    {
      "cell_type": "code",
      "source": [
        "val_results = trainer.evaluate(val_dataset)\n",
        "print(val_results)"
      ],
      "metadata": {
        "colab": {
          "base_uri": "https://localhost:8080/",
          "height": 112
        },
        "id": "-hLw3pBi1X2J",
        "outputId": "5dfd5b03-a18d-4f64-cb28-80bd3a60ca44"
      },
      "execution_count": null,
      "outputs": [
        {
          "output_type": "stream",
          "name": "stderr",
          "text": [
            "<ipython-input-21-9d97b4b09c25>:10: UserWarning: To copy construct from a tensor, it is recommended to use sourceTensor.clone().detach() or sourceTensor.clone().detach().requires_grad_(True), rather than torch.tensor(sourceTensor).\n",
            "  item = {key: torch.tensor(val[idx]) for key, val in self.encodings.items()}\n"
          ]
        },
        {
          "output_type": "display_data",
          "data": {
            "text/plain": [
              "<IPython.core.display.HTML object>"
            ],
            "text/html": [
              "\n",
              "    <div>\n",
              "      \n",
              "      <progress value='108' max='10' style='width:300px; height:20px; vertical-align: middle;'></progress>\n",
              "      [10/10 05:20]\n",
              "    </div>\n",
              "    "
            ]
          },
          "metadata": {}
        },
        {
          "output_type": "stream",
          "name": "stdout",
          "text": [
            "{'eval_loss': 0.7610940337181091, 'eval_accuracy': 0.7466666666666667, 'eval_f1': 0.7378962131837308, 'eval_precision': 0.7584523809523809, 'eval_recall': 0.7466666666666667, 'eval_runtime': 17.4617, 'eval_samples_per_second': 4.295, 'eval_steps_per_second': 0.573, 'epoch': 3.0}\n"
          ]
        }
      ]
    },
    {
      "cell_type": "code",
      "source": [
        "import pandas as pd\n",
        "\n",
        "# Define dictionaries for each set of results\n",
        "train_results = {'eval_loss': 0.6881137490272522, 'eval_accuracy': 0.78, 'eval_f1': 0.7621476783377955, 'eval_precision': 0.7805874489506852, 'eval_recall': 0.78, 'eval_runtime': 104.7757, 'eval_samples_per_second': 3.34, 'eval_steps_per_second': 0.42, 'epoch': 3.0}\n",
        "val_results = {'eval_loss': 0.7610940337181091, 'eval_accuracy': 0.7466666666666667, 'eval_f1': 0.7378962131837308, 'eval_precision': 0.7584523809523809, 'eval_recall': 0.7466666666666667, 'eval_runtime': 17.4617, 'eval_samples_per_second': 4.295, 'eval_steps_per_second': 0.573, 'epoch': 3.0}\n",
        "test_results = {'eval_loss': 0.7815303802490234, 'eval_accuracy': 0.7333333333333333, 'eval_f1': 0.7233354231974922, 'eval_precision': 0.726984126984127, 'eval_recall': 0.7333333333333333, 'eval_runtime': 30.613, 'eval_samples_per_second': 2.45, 'eval_steps_per_second': 0.327, 'epoch': 3.0}\n",
        "\n",
        "# Combine dictionaries into a DataFrame\n",
        "results_df = pd.DataFrame({\n",
        "    'Phase': ['Training', 'Validation', 'Testing'],\n",
        "    'Loss': [train_results['eval_loss'], val_results['eval_loss'], test_results['eval_loss']],\n",
        "    'Accuracy': [train_results['eval_accuracy'], val_results['eval_accuracy'], test_results['eval_accuracy']],\n",
        "    'F1 Score': [train_results['eval_f1'], val_results['eval_f1'], test_results['eval_f1']],\n",
        "    'Precision': [train_results['eval_precision'], val_results['eval_precision'], test_results['eval_precision']],\n",
        "    'Recall': [train_results['eval_recall'], val_results['eval_recall'], test_results['eval_recall']],\n",
        "    'Runtime (s)': [train_results['eval_runtime'], val_results['eval_runtime'], test_results['eval_runtime']],\n",
        "    'Samples per Second': [train_results['eval_samples_per_second'], val_results['eval_samples_per_second'], test_results['eval_samples_per_second']],\n",
        "    'Steps per Second': [train_results['eval_steps_per_second'], val_results['eval_steps_per_second'], test_results['eval_steps_per_second']],\n",
        "    'Epoch': [train_results['epoch'], val_results['epoch'], test_results['epoch']]\n",
        "})\n",
        "\n",
        "# Print the DataFrame to verify\n",
        "print(results_df)"
      ],
      "metadata": {
        "colab": {
          "base_uri": "https://localhost:8080/"
        },
        "id": "ODicYYbG0cqP",
        "outputId": "36811ae8-fb39-4d79-e3ba-548f28300468"
      },
      "execution_count": null,
      "outputs": [
        {
          "output_type": "stream",
          "name": "stdout",
          "text": [
            "        Phase      Loss  Accuracy  F1 Score  Precision    Recall  Runtime (s)  \\\n",
            "0    Training  0.688114  0.780000  0.762148   0.780587  0.780000     104.7757   \n",
            "1  Validation  0.761094  0.746667  0.737896   0.758452  0.746667      17.4617   \n",
            "2     Testing  0.781530  0.733333  0.723335   0.726984  0.733333      30.6130   \n",
            "\n",
            "   Samples per Second  Steps per Second  Epoch  \n",
            "0               3.340             0.420    3.0  \n",
            "1               4.295             0.573    3.0  \n",
            "2               2.450             0.327    3.0  \n"
          ]
        }
      ]
    },
    {
      "cell_type": "markdown",
      "source": [
        "# More Graphs with the evaluation metrics"
      ],
      "metadata": {
        "id": "ejrWEwcO7Vai"
      }
    },
    {
      "cell_type": "code",
      "source": [
        "import matplotlib.pyplot as plt\n",
        "import seaborn as sns\n",
        "\n",
        "# Set the style\n",
        "sns.set(style=\"whitegrid\")\n",
        "\n",
        "# Create the bar chart\n",
        "plt.figure(figsize=(10, 6))\n",
        "bar = sns.barplot(x='Phase', y='Accuracy', data=results_df, palette='coolwarm')\n",
        "plt.title('Model Accuracy Across Different Phases')\n",
        "plt.xlabel('Phase')\n",
        "plt.ylabel('Accuracy')\n",
        "for p in bar.patches:\n",
        "    bar.annotate(format(p.get_height(), '.2f'),\n",
        "                 (p.get_x() + p.get_width() / 2., p.get_height()),\n",
        "                 ha = 'center', va = 'center',\n",
        "                 xytext = (0, 9),\n",
        "                 textcoords = 'offset points')\n",
        "plt.show()\n"
      ],
      "metadata": {
        "colab": {
          "base_uri": "https://localhost:8080/",
          "height": 685
        },
        "id": "Tfc6wqqQ7TXJ",
        "outputId": "b3fcc068-df6a-4bc6-fdbf-c00161b39305"
      },
      "execution_count": null,
      "outputs": [
        {
          "output_type": "stream",
          "name": "stderr",
          "text": [
            "<ipython-input-81-6b379ae49ad3>:9: FutureWarning: \n",
            "\n",
            "Passing `palette` without assigning `hue` is deprecated and will be removed in v0.14.0. Assign the `x` variable to `hue` and set `legend=False` for the same effect.\n",
            "\n",
            "  bar = sns.barplot(x='Phase', y='Accuracy', data=results_df, palette='coolwarm')\n"
          ]
        },
        {
          "output_type": "display_data",
          "data": {
            "text/plain": [
              "<Figure size 1000x600 with 1 Axes>"
            ],
            "image/png": "[encoded data removed]"
          },
          "metadata": {}
        }
      ]
    },
    {
      "cell_type": "code",
      "source": [
        "# Melt the DataFrame and make suitable for sns.barplot with multiple categories\n",
        "melted_df = results_df.melt(id_vars=[\"Phase\"], value_vars=[\"Accuracy\", \"Precision\", \"Recall\", \"F1 Score\"],\n",
        "                            var_name=\"Metric\", value_name=\"Value\")\n",
        "\n",
        "plt.figure(figsize=(12, 8))\n",
        "sns.barplot(x='Phase', y='Value', hue='Metric', data=melted_df, palette='viridis')\n",
        "plt.title('Comparison of Metrics Across Different Phases')\n",
        "plt.xlabel('Phase')\n",
        "plt.ylabel('Value')\n",
        "plt.legend(title='Metric')\n",
        "plt.show()"
      ],
      "metadata": {
        "colab": {
          "base_uri": "https://localhost:8080/",
          "height": 747
        },
        "id": "dlJ-y1eA7TZs",
        "outputId": "46b37aea-aa25-4ede-ae8f-cfbbb382627d"
      },
      "execution_count": null,
      "outputs": [
        {
          "output_type": "display_data",
          "data": {
            "text/plain": [
              "<Figure size 1200x800 with 1 Axes>"
            ],
            "image/png": "[encoded data removed]"
          },
          "metadata": {}
        }
      ]
    },
    {
      "cell_type": "code",
      "source": [
        "import matplotlib.pyplot as plt\n",
        "import seaborn as sns\n",
        "import pandas as pd\n",
        "\n",
        "# Assuming results_df is your DataFrame\n",
        "# Set 'Phase' as the index to exclude it from the heatmap data\n",
        "heatmap_df = results_df.set_index('Phase')\n",
        "\n",
        "# Drop other non-numeric columns if necessary\n",
        "heatmap_df = heatmap_df.drop(columns=['Epoch', 'Runtime (s)', 'Samples per Second', 'Steps per Second'])\n",
        "\n",
        "# Now create the heatmap\n",
        "plt.figure(figsize=(12, 6))\n",
        "sns.heatmap(data=heatmap_df, annot=True, fmt=\".2f\", cmap='Blues')\n",
        "plt.title('Heatmap of Model Performance Metrics')\n",
        "plt.show()"
      ],
      "metadata": {
        "colab": {
          "base_uri": "https://localhost:8080/",
          "height": 504
        },
        "id": "J_iaI38Z7Tcq",
        "outputId": "24403325-dd23-42e5-ff46-2a5379feb236"
      },
      "execution_count": null,
      "outputs": [
        {
          "output_type": "display_data",
          "data": {
            "text/plain": [
              "<Figure size 1200x600 with 2 Axes>"
            ],
            "image/png": "[encoded data removed]"
          },
          "metadata": {}
        }
      ]
    },
    {
      "cell_type": "markdown",
      "source": [
        "# Analyzing Model Performance:\n",
        "---\n",
        "# Accuracy scores obtained:\n",
        "\n",
        "*   `accuracy`\n",
        "*   `F1`\n",
        "*   `precision`\n",
        "*   `recall`\n",
        "\n",
        "1. **Overfitting**: There is a gradual decrease in all metrics from training to testing. The differences are not dramatic but noticeable. The training accuracy (0.78) is higher than validation (0.747) and testing (0.733), which suggests a slight overfitting, as the model is slightly tuned to perform better on the training data than on unseen data.\n",
        "2. **Underfitting**: The model shows reasonable performance on the training set (accuracy of 0.78), which suggests it is not underfitting. The model seems to have learned the patterns in the training data to some extent.\n",
        "---\n",
        "# Final thoughts of model performance:\n",
        "---\n",
        "The model shows some signs of good fitting but could be optimized further to reduce the performance gap between the training and testing results. The consistent drop in scores, while relatively small, points to potential overfitting."
      ],
      "metadata": {
        "id": "XEGO3DO587Sm"
      }
    },
    {
      "cell_type": "markdown",
      "source": [
        "--\n",
        "# Although this dataset was not used for our analysis, we thought to analyze another similar dataset against this model to truly get a feel for it's performance"
      ],
      "metadata": {
        "id": "oxTWH8CA3GD2"
      }
    }
  ]
}