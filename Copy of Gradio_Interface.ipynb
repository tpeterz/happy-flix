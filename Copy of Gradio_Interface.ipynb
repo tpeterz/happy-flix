{
 "cells": [
  {
   "cell_type": "markdown",
   "metadata": {
    "id": "ceiwzxvx3kaZ"
   },
   "source": [
    "# Recommendation Tool Creation\n",
    "# Integrating with Gradio interface\n",
    "---\n",
    "This Colab Notebook reads in the csv file that contains all movies that"
   ]
  },
  {
   "cell_type": "code",
   "execution_count": null,
   "metadata": {
    "id": "xkAVcJvK3OkW"
   },
   "outputs": [],
   "source": [
    "!pip install pandas\n",
    "!pip install gradio"
   ]
  },
  {
   "cell_type": "code",
   "execution_count": 3,
   "metadata": {
    "executionInfo": {
     "elapsed": 1746,
     "status": "ok",
     "timestamp": 1713740501843,
     "user": {
      "displayName": "Taylor Peterson",
      "userId": "09176998156774258520"
     },
     "user_tz": 240
    },
    "id": "AWN5a1ld3ioA"
   },
   "outputs": [],
   "source": [
    "import gradio as gr\n",
    "import pandas as pd\n",
    "\n",
    "# Read the recommendation_ready.csv file into the dataframe for use\n",
    "movie_predictions_df = pd.read_csv(\"recommendation_ready.csv\")"
   ]
  },
  {
   "cell_type": "code",
   "execution_count": null,
   "metadata": {
    "id": "4tVq5GJa3iqX"
   },
   "outputs": [],
   "source": [
    "movie_predictions_df.head()"
   ]
  },
  {
   "cell_type": "code",
   "execution_count": 7,
   "metadata": {
    "colab": {
     "base_uri": "https://localhost:8080/"
    },
    "executionInfo": {
     "elapsed": 154,
     "status": "ok",
     "timestamp": 1713740778028,
     "user": {
      "displayName": "Taylor Peterson",
      "userId": "09176998156774258520"
     },
     "user_tz": 240
    },
    "id": "iZOAEQ0k4v0U",
    "outputId": "53d7ef51-6f54-4970-da69-51d35a0b2cad"
   },
   "outputs": [
    {
     "name": "stdout",
     "output_type": "stream",
     "text": [
      "<class 'pandas.core.frame.DataFrame'>\n",
      "RangeIndex: 6123 entries, 0 to 6122\n",
      "Data columns (total 44 columns):\n",
      " #   Column                Non-Null Count  Dtype  \n",
      "---  ------                --------------  -----  \n",
      " 0   Unnamed: 0            6123 non-null   int64  \n",
      " 1   genre_ids             6123 non-null   object \n",
      " 2   movie_id              6123 non-null   int64  \n",
      " 3   popularity            6123 non-null   float64\n",
      " 4   release_date          6123 non-null   object \n",
      " 5   title                 6123 non-null   object \n",
      " 6   clean_reviews         6122 non-null   object \n",
      " 7   type_Action           6123 non-null   int64  \n",
      " 8   type_Adventure        6123 non-null   int64  \n",
      " 9   type_Animation        6123 non-null   int64  \n",
      " 10  type_Comedy           6123 non-null   int64  \n",
      " 11  type_Crime            6123 non-null   int64  \n",
      " 12  type_Documentary      6123 non-null   int64  \n",
      " 13  type_Drama            6123 non-null   int64  \n",
      " 14  type_Family           6123 non-null   int64  \n",
      " 15  type_Fantasy          6123 non-null   int64  \n",
      " 16  type_History          6123 non-null   int64  \n",
      " 17  type_Horror           6123 non-null   int64  \n",
      " 18  type_Music            6123 non-null   int64  \n",
      " 19  type_Mystery          6123 non-null   int64  \n",
      " 20  type_Romance          6123 non-null   int64  \n",
      " 21  type_Science Fiction  6123 non-null   int64  \n",
      " 22  type_TV Movie         6123 non-null   int64  \n",
      " 23  type_Thriller         6123 non-null   int64  \n",
      " 24  type_War              6123 non-null   int64  \n",
      " 25  type_Western          6123 non-null   int64  \n",
      " 26  clean_overviews       6123 non-null   object \n",
      " 27  release_year          6123 non-null   int64  \n",
      " 28  lemmatized_overviews  6123 non-null   object \n",
      " 29  adjective_counts      6123 non-null   object \n",
      " 30  lemmatized_reviews    6123 non-null   object \n",
      " 31  sentiment             6123 non-null   int64  \n",
      " 32  text                  6123 non-null   object \n",
      " 33  pred                  6123 non-null   int64  \n",
      " 34  label                 6123 non-null   object \n",
      " 35  score                 6123 non-null   float64\n",
      " 36  anger                 6123 non-null   float64\n",
      " 37  disgust               6123 non-null   float64\n",
      " 38  fear                  6123 non-null   float64\n",
      " 39  joy                   6123 non-null   float64\n",
      " 40  neutral               6123 non-null   float64\n",
      " 41  sadness               6123 non-null   float64\n",
      " 42  surprise              6123 non-null   float64\n",
      " 43  poster_path           6119 non-null   object \n",
      "dtypes: float64(9), int64(24), object(11)\n",
      "memory usage: 2.1+ MB\n"
     ]
    }
   ],
   "source": [
    "movie_predictions_df.info()"
   ]
  },
  {
   "cell_type": "code",
   "execution_count": 10,
   "metadata": {
    "colab": {
     "base_uri": "https://localhost:8080/"
    },
    "executionInfo": {
     "elapsed": 2,
     "status": "ok",
     "timestamp": 1713741356801,
     "user": {
      "displayName": "Taylor Peterson",
      "userId": "09176998156774258520"
     },
     "user_tz": 240
    },
    "id": "gpk4we5r8dYN",
    "outputId": "5114326b-6dac-41e2-cf5b-3132cc8144b3"
   },
   "outputs": [
    {
     "name": "stdout",
     "output_type": "stream",
     "text": [
      "['Emotions: Neutral\\n', 'Genres: Comedy, Adventure, Action\\n']\n"
     ]
    }
   ],
   "source": [
    "# with open('movie_output.txt', 'r') as f:\n",
    "#     lines = f.readlines()\n",
    "\n",
    "# print(lines)"
   ]
  },
  {
   "cell_type": "code",
   "execution_count": 12,
   "metadata": {
    "colab": {
     "base_uri": "https://localhost:8080/"
    },
    "executionInfo": {
     "elapsed": 143,
     "status": "ok",
     "timestamp": 1713742042687,
     "user": {
      "displayName": "Taylor Peterson",
      "userId": "09176998156774258520"
     },
     "user_tz": 240
    },
    "id": "A1i8B2Fi-iPz",
    "outputId": "b083c5a4-1d32-4267-d2f0-f3ed4ec50a79"
   },
   "outputs": [
    {
     "name": "stdout",
     "output_type": "stream",
     "text": [
      "Movie ID: 9326, Title: Romancing the Stone, Poster URL: https://image.tmdb.org/t/p/w300/qfIlVOYZH5RiZ0ndFKUpr5Zn2Bx.jpg, Emotion: Neutral, Genres: comedy, adventure, action\n",
      "Movie ID: 354857, Title: Regular Show: The Movie, Poster URL: https://image.tmdb.org/t/p/w300/p44RoW4naoE1nlSGOqqT0J2pc09.jpg, Emotion: Neutral, Genres: comedy, adventure, action\n",
      "Movie ID: 38319, Title: Your Highness, Poster URL: https://image.tmdb.org/t/p/w300/bq3gU60TkgBjLUbxSSZVhDhlhmH.jpg, Emotion: Neutral, Genres: comedy, adventure, action\n"
     ]
    }
   ],
   "source": [
    "import pandas as pd\n",
    "\n",
    "def recommend_movies(file):\n",
    "    # Read the file and parse the emotion and genres\n",
    "    with open(file.name, 'r') as f:\n",
    "        lines = f.readlines()\n",
    "\n",
    "    # Extract emotion and genres from the file content\n",
    "    emotion = lines[0].split(': ')[1].strip().lower() # Convert emotion to lowercase\n",
    "    genres = [genre.strip().lower() for genre in lines[1].split(': ')[1].strip().split(', ')] # Convert each genre to lowercase\n",
    "\n",
    "    # Filter movies based on the predicted emotion\n",
    "    emotion_movies = movie_predictions_df[movie_predictions_df['label'].str.lower() == emotion]\n",
    "\n",
    "    base_url = \"https://image.tmdb.org/t/p/\"\n",
    "    file_size = \"w300\"\n",
    "\n",
    "\n",
    "    # If no movies match the emotion, return a message\n",
    "    if emotion_movies.empty:\n",
    "        return [{\"message\": \"No movies match your emotion preference.\"}]\n",
    "\n",
    "    # Further filter movies based on the selected genres\n",
    "    genre_movies = emotion_movies.copy()\n",
    "    for genre in genres:\n",
    "        # Adjust the genre name to match the DataFrame column format\n",
    "        genre_column = f\"type_{genre.capitalize().replace(' ', '_')}\"\n",
    "        genre_movies = genre_movies[genre_movies[genre_column] == 1]\n",
    "\n",
    "    # If no movies match the genres, return a message\n",
    "    if genre_movies.empty:\n",
    "        return [{\"message\": \"No movies match your genre preferences.\"}]\n",
    "\n",
    "    # Rank movies based on the number of criteria they match and emotion score\n",
    "    ranked_movies = []\n",
    "    for index, row in genre_movies.iterrows():\n",
    "        # Add the emotion score to the match count\n",
    "        match_count = row[emotion]\n",
    "\n",
    "        # Construct the poster URL\n",
    "        poster_url = f\"{base_url}{file_size}{row['poster_path']}\"\n",
    "        # Add the movie to the ranked list\n",
    "        ranked_movies.append((row['movie_id'], row['title'], poster_url, match_count))\n",
    "\n",
    "    # Sort the ranked list by match count (descending)\n",
    "    ranked_movies.sort(key=lambda x: x[3], reverse=True)\n",
    "\n",
    "    # Select the top 3 movies\n",
    "    top_movies = ranked_movies[:3]\n",
    "\n",
    "    # Format the recommendations for display\n",
    "    recommendations = [{\n",
    "        \"id\": movie[0],\n",
    "        \"title\": movie[1],\n",
    "        \"poster_url\": movie[2],\n",
    "        \"overview\":\n",
    "        \"emotion\": emotion.capitalize(),\n",
    "        \"genres\": \", \".join(genres)\n",
    "    } for movie in top_movies]\n",
    "\n",
    "    return recommendations\n",
    "\n",
    "# Example usage\n",
    "# Assuming the file 'movie_output.txt' is in the same directory as this script\n",
    "with open('movie_output.txt', 'r') as file:\n",
    "    recommendations = recommend_movies(file)\n",
    "\n",
    "# Print the recommendations\n",
    "for rec in recommendations:\n",
    "    print(f\"Movie ID: {rec['id']}, Title: {rec['title']}, Poster URL: {rec['poster_url']}, Emotion: {rec['emotion']}, Genres: {rec['genres']}\")\n"
   ]
  },
  {
   "cell_type": "code",
   "execution_count": null,
   "metadata": {
    "id": "Ugw5T5-4NqnN"
   },
   "outputs": [],
   "source": []
  },
  {
   "cell_type": "code",
   "execution_count": null,
   "metadata": {
    "id": "XAgbyhQCNqsq"
   },
   "outputs": [],
   "source": []
  },
  {
   "cell_type": "code",
   "execution_count": null,
   "metadata": {
    "id": "Nl31mbI5Nquu"
   },
   "outputs": [],
   "source": []
  },
  {
   "cell_type": "code",
   "execution_count": 4,
   "metadata": {
    "executionInfo": {
     "elapsed": 136,
     "status": "ok",
     "timestamp": 1713740235274,
     "user": {
      "displayName": "Taylor Peterson",
      "userId": "09176998156774258520"
     },
     "user_tz": 240
    },
    "id": "nd8_XS4cNqx0"
   },
   "outputs": [],
   "source": [
    "# movie_output.txt"
   ]
  },
  {
   "cell_type": "code",
   "execution_count": 8,
   "metadata": {
    "executionInfo": {
     "elapsed": 135,
     "status": "ok",
     "timestamp": 1713741166108,
     "user": {
      "displayName": "Taylor Peterson",
      "userId": "09176998156774258520"
     },
     "user_tz": 240
    },
    "id": "fMc6rErCxJLT"
   },
   "outputs": [],
   "source": [
    "# line 1 emotions:[]\n",
    "# line 2 genres:[]"
   ]
  },
  {
   "cell_type": "code",
   "execution_count": null,
   "metadata": {
    "id": "T1iTc3MpxLKp"
   },
   "outputs": [],
   "source": []
  }
 ],
 "metadata": {
  "colab": {
   "authorship_tag": "ABX9TyNJtcZs/l0kmSijHiVucr5T",
   "provenance": [
    {
     "file_id": "https://github.com/tpeterz/happy-flix/blob/TAP/Gradio_Interface.ipynb",
     "timestamp": 1713732082289
    }
   ]
  },
  "kernelspec": {
   "display_name": "Python 3 (ipykernel)",
   "language": "python",
   "name": "python3"
  },
  "language_info": {
   "codemirror_mode": {
    "name": "ipython",
    "version": 3
   },
   "file_extension": ".py",
   "mimetype": "text/x-python",
   "name": "python",
   "nbconvert_exporter": "python",
   "pygments_lexer": "ipython3",
   "version": "3.10.13"
  }
 },
 "nbformat": 4,
 "nbformat_minor": 1
}
