{
 "cells": [
  {
   "cell_type": "code",
   "execution_count": 7,
   "id": "6a314ab2",
   "metadata": {},
   "outputs": [],
   "source": [
    "import gradio as gr\n",
    "from transformers import pipeline\n",
    "import numpy as np\n",
    "import openai\n",
    "import warnings\n",
    "import os\n",
    "from dotenv import load_dotenv\n",
    "load_dotenv()\n",
    "\n",
    "# Set your OpenAI API key\n",
    "openai.api_key = os.getenv(\"OPENAI_API_KEY\")\n",
    "\n",
    "warnings.filterwarnings('ignore')"
   ]
  },
  {
   "cell_type": "code",
   "execution_count": 8,
   "id": "60d537f1",
   "metadata": {},
   "outputs": [
    {
     "name": "stdout",
     "output_type": "stream",
     "text": [
      "Running on local URL:  http://127.0.0.1:7864\n",
      "Running on public URL: https://63ad95abab48250733.gradio.live\n",
      "\n",
      "This share link expires in 72 hours. For free permanent hosting and GPU upgrades, run `gradio deploy` from Terminal to deploy to Spaces (https://huggingface.co/spaces)\n"
     ]
    },
    {
     "data": {
      "text/html": [
       "<div><iframe src=\"https://63ad95abab48250733.gradio.live\" width=\"100%\" height=\"500\" allow=\"autoplay; camera; microphone; clipboard-read; clipboard-write;\" frameborder=\"0\" allowfullscreen></iframe></div>"
      ],
      "text/plain": [
       "<IPython.core.display.HTML object>"
      ]
     },
     "metadata": {},
     "output_type": "display_data"
    },
    {
     "data": {
      "text/plain": []
     },
     "execution_count": 8,
     "metadata": {},
     "output_type": "execute_result"
    }
   ],
   "source": [
    "# Preference\n",
    "# Initialize the ASR pipeline\n",
    "transcriber = pipeline(\"automatic-speech-recognition\", model=\"openai/whisper-base.en\")\n",
    "\n",
    "def transcribe_and_save(audio):\n",
    "    sr, y = audio\n",
    "    y = y.astype(np.float32)\n",
    "    y /= np.max(np.abs(y))\n",
    "    transcription = transcriber({\"sampling_rate\": sr, \"raw\": y})[\"text\"]\n",
    "    \n",
    "    # Write the transcription to a file\n",
    "    with open(\"transcription_movie_selection.txt\", \"w\") as file:\n",
    "        file.write(transcription)\n",
    "    \n",
    "    return transcription\n",
    "\n",
    "# Create the Gradio interface\n",
    "demo = gr.Interface(\n",
    "    transcribe_and_save,\n",
    "    gr.Audio(sources=[\"microphone\"]),\n",
    "    \"text\",\n",
    ")\n",
    "\n",
    "demo.launch(share=False)\n",
    "#change to True for outside URL\n"
   ]
  },
  {
   "cell_type": "code",
   "execution_count": 13,
   "id": "ea97625d",
   "metadata": {},
   "outputs": [],
   "source": [
    "#pure movie selection analysis with OpenAI\n",
    "#preprocess txt file\n",
    "\n",
    "with open('transcription_movie_selection.txt', 'r', encoding=\"utf-8\") as file:\n",
    "    text = file.read()\n"
   ]
  },
  {
   "cell_type": "code",
   "execution_count": 14,
   "id": "4e44befb",
   "metadata": {},
   "outputs": [
    {
     "name": "stdout",
     "output_type": "stream",
     "text": [
      " I really hate people. They make me so angry. I just want to go out and hit the wall, but I really like movies with cows chicken pox and motorcycles.\n",
      "Emotions: Anger, Disgust\n",
      "\n",
      "Genres: Comedy, Action, Adventure\n"
     ]
    }
   ],
   "source": [
    "# Load environment variables from .env file\n",
    "\n",
    "\n",
    "# Function time\n",
    "\n",
    "def get_preference(question):\n",
    "    messages = [\n",
    "        {\"role\": \"system\", \"content\": \"Determine the emotions of the text as anger, disgust, fear, joy, neutral, sadness, or suprise and based on the provided text select three of the following genres: Action, Adventure, Animation, Comedy, Crime, Documentary, Drama, Family, Fantasy, History, Horror, Music, Mystery, Romance, Science Fiction, TV Movie, Thriller, War, and Western.\"},\n",
    "        {\"role\": \"user\", \"content\": question}\n",
    "    ]\n",
    "    \n",
    "    # Use the chat completions method\n",
    "    response = openai.chat.completions.create(\n",
    "        model=\"gpt-4\",\n",
    "        messages=messages\n",
    "    )\n",
    "    \n",
    "    # Extract the answer from the response\n",
    "    answer = response.choices[0].message.content\n",
    "    return answer\n",
    "\n",
    "def analyze_document(filename):\n",
    "    with open(filename, 'r') as file:\n",
    "        text = file.read()\n",
    "    preference = get_preference(text)\n",
    "    print(f\"{preference}\")\n",
    "\n",
    "print(text)\n",
    "analyze_document('transcription_movie_selection.txt')\n"
   ]
  },
  {
   "cell_type": "code",
   "execution_count": null,
   "id": "43cab426",
   "metadata": {},
   "outputs": [],
   "source": [
    "#Change Gradio Interface (gradio theme builder)\n",
    "\n",
    "gr.themes.builder()"
   ]
  },
  {
   "cell_type": "code",
   "execution_count": 6,
   "id": "f4c1c3fb",
   "metadata": {},
   "outputs": [
    {
     "name": "stdout",
     "output_type": "stream",
     "text": [
      "Running on local URL:  http://127.0.0.1:7863\n",
      "Running on public URL: https://efb280a31b070ea296.gradio.live\n",
      "\n",
      "This share link expires in 72 hours. For free permanent hosting and GPU upgrades, run `gradio deploy` from Terminal to deploy to Spaces (https://huggingface.co/spaces)\n"
     ]
    },
    {
     "data": {
      "text/html": [
       "<div><iframe src=\"https://efb280a31b070ea296.gradio.live\" width=\"100%\" height=\"500\" allow=\"autoplay; camera; microphone; clipboard-read; clipboard-write;\" frameborder=\"0\" allowfullscreen></iframe></div>"
      ],
      "text/plain": [
       "<IPython.core.display.HTML object>"
      ]
     },
     "metadata": {},
     "output_type": "display_data"
    },
    {
     "data": {
      "text/plain": []
     },
     "execution_count": 6,
     "metadata": {},
     "output_type": "execute_result"
    }
   ],
   "source": [
    "# Your existing function\n",
    "def get_preference(question):\n",
    "    messages = [\n",
    "        {\"role\": \"system\", \"content\": \"Determine three movies based on the preferences in the provided text that would make the writer happier and why.\"},\n",
    "        {\"role\": \"user\", \"content\": question}\n",
    "    ]\n",
    "    \n",
    "    # Use the chat completions method\n",
    "    response = openai.chat.completions.create(\n",
    "        model=\"gpt-4\",\n",
    "        messages=messages\n",
    "    )\n",
    "    \n",
    "    # Extract the answer from the response\n",
    "    answer = response.choices[0].message.content\n",
    "    return answer\n",
    "\n",
    "# Create a Gradio interface for your function\n",
    "iface = gr.Interface(\n",
    "    fn=get_preference,\n",
    "    inputs=gr.Textbox(),\n",
    "    outputs=gr.Textbox(),\n",
    "    title=\"Movie Preference Generator\",\n",
    "    description=\"Enter how you are feeling and your movie preferences, and I'll start figuring out a movie for you.\",\n",
    ")\n",
    "\n",
    "# Launch the Gradio interface\n",
    "iface.launch(share=True)\n"
   ]
  },
  {
   "cell_type": "code",
   "execution_count": null,
   "id": "a35d8069",
   "metadata": {},
   "outputs": [],
   "source": [
    "image_url = \"https://image.tmdb.org/t/p/w500/1E5baAaEse26fej7uHcjOgEE2t2.jpg\"\n",
    "\n",
    "def show_image(img):\n",
    "    return img\n",
    "\n",
    "app = gr.Interface(\n",
    "    fn=show_image,\n",
    "    inputs=gr.Image(label=\"Input Image Component\"),\n",
    "    outputs=gr.Image(label=\"Output Image Component\", value=image_url) # Displaying an image from a URL\n",
    ")\n",
    "\n",
    "app.launch(share=True)\n"
   ]
  }
 ],
 "metadata": {
  "kernelspec": {
   "display_name": "Python 3 (ipykernel)",
   "language": "python",
   "name": "python3"
  },
  "language_info": {
   "codemirror_mode": {
    "name": "ipython",
    "version": 3
   },
   "file_extension": ".py",
   "mimetype": "text/x-python",
   "name": "python",
   "nbconvert_exporter": "python",
   "pygments_lexer": "ipython3",
   "version": "3.10.13"
  }
 },
 "nbformat": 4,
 "nbformat_minor": 5
}
